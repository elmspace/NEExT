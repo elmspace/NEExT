{
 "cells": [
  {
   "cell_type": "code",
   "execution_count": 18,
   "id": "b1fbc477-615e-4bcf-bee1-eae35e4d05a0",
   "metadata": {},
   "outputs": [],
   "source": [
    "import pandas as pd\n",
    "import plotly.express as px"
   ]
  },
  {
   "cell_type": "code",
   "execution_count": 19,
   "id": "427a07ed-36e3-4783-a754-877dc884c1b4",
   "metadata": {},
   "outputs": [],
   "source": [
    "data = pd.read_csv(\"./results/outlier_all_models_2d_map.csv\")"
   ]
  },
  {
   "cell_type": "code",
   "execution_count": 20,
   "id": "2c21e9b2-00ca-4a74-944b-cfb5ab63c1ab",
   "metadata": {},
   "outputs": [],
   "source": [
    "label_map = {10:10/200, 50:50/200}\n",
    "data[\"Graph Label\"] = data[\"Graph Label\"].apply(lambda x : label_map[x])"
   ]
  },
  {
   "cell_type": "code",
   "execution_count": 21,
   "id": "53d8530b-5056-4716-8f7e-8b569a29063e",
   "metadata": {},
   "outputs": [],
   "source": [
    "data[\"Graph Label\"] = data[\"Graph Label\"].astype(str)"
   ]
  },
  {
   "cell_type": "code",
   "execution_count": 22,
   "id": "9e750888-8261-4eba-9b43-b93e1503b5e6",
   "metadata": {},
   "outputs": [
    {
     "data": {
      "application/vnd.plotly.v1+json": {
       "config": {
        "plotlyServerURL": "https://plot.ly"
       },
       "data": [
        {
         "hovertemplate": "Graph Label=0.05<br>x=%{x}<br>y=%{y}<br>size=%{marker.size}<extra></extra>",
         "legendgroup": "0.05",
         "marker": {
          "color": "#636efa",
          "line": {
           "color": "black",
           "width": 1.5
          },
          "size": [
           4,
           4,
           4,
           4,
           4,
           4,
           4,
           4,
           4,
           4,
           4,
           4,
           4,
           4,
           4,
           4,
           4,
           4,
           4,
           4,
           4,
           4,
           4,
           4,
           4,
           4,
           4,
           4,
           4,
           4,
           4,
           4,
           4,
           4,
           4,
           4,
           4,
           4,
           4,
           4,
           4,
           4,
           4,
           4,
           4,
           4,
           4,
           4,
           4,
           4,
           4,
           4,
           4,
           4,
           4,
           4,
           4,
           4,
           4,
           4,
           4,
           4,
           4,
           4,
           4,
           4,
           4,
           4,
           4,
           4,
           4,
           4,
           4,
           4,
           4,
           4,
           4,
           4,
           4,
           4,
           4,
           4,
           4,
           4,
           4,
           4,
           4,
           4,
           4,
           4,
           4,
           4,
           4,
           4,
           4,
           4,
           4,
           4,
           4,
           4,
           4,
           4,
           4,
           4,
           4,
           4,
           4,
           4,
           4,
           4,
           4,
           4,
           4,
           4,
           4,
           4,
           4,
           4,
           4,
           4,
           4,
           4,
           4,
           4,
           4,
           4,
           4,
           4,
           4,
           4,
           4,
           4,
           4,
           4,
           4,
           4,
           4,
           4,
           4,
           4,
           4,
           4,
           4,
           4,
           4,
           4,
           4,
           4,
           4,
           4
          ],
          "sizemode": "area",
          "sizeref": 0.01,
          "symbol": "circle"
         },
         "mode": "markers",
         "name": "0.05",
         "opacity": 0.6,
         "orientation": "h",
         "showlegend": true,
         "type": "scatter",
         "x": [
          -6.2734566,
          -4.4092007,
          -6.47685,
          -1.6028072,
          -1.6068738,
          -2.3261206,
          -5.1902623,
          -6.8009024,
          -6.325233,
          -2.6199403,
          -1.2240921,
          -2.1674967,
          -2.9771502,
          -2.4206815,
          -5.8806543,
          -5.7122993,
          -4.859561,
          -5.950172,
          -2.924666,
          -5.7039127,
          -3.9592993,
          -4.398874,
          -6.107394,
          -4.5904083,
          -3.1981673,
          -1.2992648,
          -6.061912,
          -1.4367037,
          -5.8029995,
          -4.517017,
          -1.2541631,
          -1.511865,
          -5.6088276,
          -6.9269814,
          -6.549194,
          -6.8649335,
          -3.1212184,
          -6.64523,
          -6.453972,
          -5.5377283,
          -5.3690004,
          -1.5343797,
          -6.7815585,
          -4.1432147,
          -5.7816334,
          -6.3726034,
          -1.7216185,
          -3.7972894,
          -2.555555,
          -6.2403493,
          -2.9229915,
          -1.4685193,
          -1.2954088,
          -1.1732908,
          -4.2841763,
          -1.8259209,
          -1.5864604,
          -1.9765095,
          -4.6554766,
          -1.1519886,
          -2.470735,
          -2.4977949,
          -3.0341635,
          -6.5211024,
          -3.971314,
          -3.5672326,
          -3.1981733,
          -4.717678,
          -6.4646406,
          -2.1350117,
          -5.5294037,
          -3.1219168,
          -1.8809123,
          -6.9140477,
          -1.7333093,
          -5.06287,
          -2.2176194,
          -2.2730052,
          -4.2101865,
          -1.2594529,
          -1.6852028,
          -5.9743347,
          -5.93124,
          -3.07852,
          -5.85776,
          -1.3102373,
          -4.731355,
          -3.4931812,
          -5.408511,
          -3.8401275,
          -4.0920224,
          -1.9902161,
          -3.3024907,
          -6.6311994,
          -4.191352,
          -6.646217,
          -3.9658177,
          -1.2420075,
          -2.2815316,
          -4.8979464,
          -1.2237837,
          -2.197773,
          -1.3281225,
          -2.925112,
          -5.657146,
          -4.4045653,
          -1.0656062,
          -6.1992764,
          -5.897523,
          -4.0840864,
          -4.16545,
          -6.6467214,
          -4.217353,
          -5.812051,
          -5.6397786,
          -5.8518877,
          -1.0815756,
          -3.8495488,
          -3.3459468,
          -5.7611003,
          -6.6158485,
          -3.3346357,
          -6.175211,
          -4.191812,
          -4.703585,
          -3.9234946,
          -4.032514,
          -5.5151134,
          -3.604408,
          -1.4819181,
          -2.7445838,
          -2.2820208,
          -2.2512252,
          -4.666099,
          -1.440825,
          -5.734813,
          -1.7894651,
          -1.104951,
          -4.105909,
          -6.3245945,
          -5.870165,
          -0.97723585,
          -2.600572,
          -2.7295194,
          -5.7143106,
          -3.1732419,
          -1.8770583,
          -3.8092666,
          -4.105975,
          -6.766444
         ],
         "xaxis": "x",
         "y": [
          9.248284,
          9.287457,
          8.949811,
          8.683421,
          9.749657,
          9.584476,
          10.311635,
          9.515115,
          8.409745,
          9.164974,
          9.5379925,
          8.829976,
          9.020032,
          9.485041,
          9.978086,
          10.190982,
          8.582197,
          9.98125,
          9.946566,
          9.135405,
          10.156639,
          8.602445,
          9.098005,
          9.26603,
          8.684643,
          9.38014,
          9.686973,
          8.226956,
          10.27851,
          8.502162,
          9.309664,
          8.8738575,
          8.93009,
          9.1462755,
          9.586309,
          9.406406,
          10.014873,
          8.630995,
          9.799334,
          10.323948,
          10.372539,
          9.701326,
          9.378466,
          9.211651,
          8.51155,
          8.328051,
          9.816183,
          9.954206,
          9.601615,
          8.287417,
          9.985245,
          8.223816,
          8.274889,
          8.616417,
          9.4562025,
          8.573611,
          8.74221,
          9.043058,
          8.637826,
          9.261249,
          8.51584,
          8.63315,
          8.678393,
          9.176412,
          10.083117,
          8.899542,
          8.883935,
          8.719857,
          8.71823,
          9.626767,
          8.5301285,
          10.081091,
          8.680768,
          9.33298,
          9.808946,
          9.354659,
          8.2416,
          8.289698,
          8.937273,
          9.595264,
          8.7359915,
          9.16716,
          9.771501,
          9.017318,
          9.360098,
          8.67667,
          9.822439,
          9.893925,
          9.451587,
          9.8619375,
          9.77968,
          8.977336,
          9.788447,
          8.49656,
          9.4069395,
          8.514085,
          9.894781,
          9.4082365,
          9.908003,
          10.076225,
          8.506759,
          9.703954,
          8.322316,
          8.900277,
          10.289405,
          8.686198,
          8.416327,
          8.7384615,
          8.501328,
          8.582463,
          9.58286,
          8.925286,
          10.173861,
          10.224148,
          10.369229,
          8.952497,
          8.797771,
          8.476817,
          8.659245,
          9.021441,
          8.603027,
          10.145693,
          8.548122,
          9.117626,
          10.094761,
          9.182056,
          9.18464,
          9.308539,
          9.07427,
          9.784857,
          10.05231,
          9.463751,
          9.114458,
          9.186802,
          8.740397,
          9.489231,
          9.268123,
          8.376267,
          9.229865,
          9.400711,
          9.56294,
          8.8499565,
          9.937958,
          8.434093,
          9.207273,
          8.937216,
          9.939417,
          8.451917,
          10.082684,
          9.468932
         ],
         "yaxis": "y"
        },
        {
         "hovertemplate": "Graph Label=0.25<br>x=%{x}<br>y=%{y}<br>size=%{marker.size}<extra></extra>",
         "legendgroup": "0.25",
         "marker": {
          "color": "#EF553B",
          "line": {
           "color": "black",
           "width": 1.5
          },
          "size": [
           4,
           4,
           4,
           4,
           4,
           4,
           4,
           4,
           4,
           4,
           4,
           4,
           4,
           4,
           4,
           4,
           4,
           4,
           4,
           4,
           4,
           4,
           4,
           4,
           4,
           4,
           4,
           4,
           4,
           4,
           4,
           4,
           4,
           4,
           4,
           4,
           4,
           4,
           4,
           4,
           4,
           4,
           4,
           4,
           4,
           4,
           4,
           4,
           4,
           4,
           4,
           4,
           4,
           4,
           4,
           4,
           4,
           4,
           4,
           4,
           4,
           4,
           4,
           4,
           4,
           4,
           4,
           4,
           4,
           4,
           4,
           4,
           4,
           4,
           4,
           4,
           4,
           4,
           4,
           4,
           4,
           4,
           4,
           4,
           4,
           4,
           4,
           4,
           4,
           4,
           4,
           4,
           4,
           4,
           4,
           4,
           4,
           4,
           4,
           4,
           4,
           4,
           4,
           4,
           4,
           4,
           4,
           4,
           4,
           4,
           4,
           4,
           4,
           4,
           4,
           4,
           4,
           4,
           4,
           4,
           4,
           4,
           4,
           4,
           4,
           4,
           4,
           4,
           4,
           4,
           4,
           4,
           4,
           4,
           4,
           4,
           4,
           4,
           4,
           4,
           4,
           4,
           4,
           4,
           4,
           4,
           4,
           4,
           4,
           4
          ],
          "sizemode": "area",
          "sizeref": 0.01,
          "symbol": "circle"
         },
         "mode": "markers",
         "name": "0.25",
         "opacity": 0.6,
         "orientation": "h",
         "showlegend": true,
         "type": "scatter",
         "x": [
          15.713109,
          15.036705,
          13.88769,
          15.466848,
          16.34093,
          13.569798,
          13.344043,
          14.120451,
          14.574286,
          12.524062,
          14.848621,
          15.440116,
          12.24042,
          11.779872,
          15.379644,
          13.225985,
          11.883279,
          15.359045,
          12.78006,
          14.788825,
          16.088781,
          15.898244,
          15.76973,
          11.988142,
          15.96633,
          15.219867,
          15.289031,
          15.40187,
          13.93458,
          15.69801,
          14.468734,
          14.016225,
          13.5779915,
          15.108549,
          11.194222,
          13.230204,
          14.136787,
          15.197469,
          14.123956,
          13.081234,
          13.609247,
          11.805286,
          12.370055,
          12.248646,
          15.121846,
          15.402513,
          14.003126,
          12.489504,
          13.779999,
          15.433884,
          11.413866,
          16.215532,
          12.845936,
          15.046359,
          15.595545,
          13.311802,
          15.79103,
          14.507414,
          12.681105,
          13.789025,
          11.773458,
          15.867396,
          14.38149,
          11.475306,
          13.701726,
          15.355732,
          15.340354,
          12.78003,
          13.65929,
          15.906253,
          11.607893,
          11.51819,
          15.845399,
          13.461083,
          11.548995,
          14.512918,
          13.075783,
          14.091966,
          13.711933,
          14.035673,
          15.306616,
          12.752803,
          15.239243,
          11.171298,
          12.230672,
          14.537899,
          15.969102,
          14.144699,
          14.310704,
          11.822182,
          15.1493025,
          15.511821,
          16.011646,
          11.121094,
          13.777526,
          11.815782,
          13.248747,
          15.507083,
          11.248441,
          13.443495,
          11.747202,
          12.284062,
          11.352239,
          12.432562,
          14.806666,
          15.925848,
          14.919692,
          14.866228,
          14.095173,
          15.798906,
          11.926881,
          14.819346,
          15.294578,
          13.141462,
          13.118317,
          12.89878,
          13.787782,
          14.518835,
          12.845716,
          13.581758,
          15.617668,
          15.137535,
          13.00593,
          12.082771,
          12.223603,
          16.15113,
          13.551251,
          15.156974,
          13.1176195,
          12.16549,
          13.650056,
          11.964309,
          11.635494,
          15.89614,
          14.5733,
          13.21495,
          11.866618,
          14.192715,
          14.900851,
          14.393379,
          15.546293,
          14.184916,
          14.343702,
          14.822254,
          11.681106,
          14.801907,
          11.901037,
          14.340991,
          12.261747,
          15.63603
         ],
         "xaxis": "x",
         "y": [
          1.4526395,
          2.681728,
          0.38055927,
          2.0070963,
          1.8489977,
          2.018289,
          2.725,
          1.7369716,
          2.6324565,
          3.4323065,
          1.6271371,
          2.6085484,
          2.9978552,
          3.6087945,
          2.7106645,
          2.746853,
          3.6613462,
          1.5709498,
          3.2948906,
          1.3110515,
          2.0351717,
          0.7220276,
          0.5781117,
          3.1088114,
          1.7137518,
          1.6172718,
          0.25355,
          2.6907659,
          0.24086262,
          2.5033474,
          1.2146726,
          0.93921506,
          2.3925328,
          0.01717758,
          2.949822,
          1.2636939,
          1.4669993,
          2.5815976,
          0.29243347,
          2.50046,
          2.4876401,
          3.5978029,
          2.8138738,
          3.160215,
          2.2607276,
          1.315982,
          0.52621335,
          2.6612012,
          0.7094845,
          0.5361874,
          2.5409086,
          1.7584319,
          2.056081,
          2.7648594,
          0.8739246,
          2.6299555,
          0.7143935,
          1.1816872,
          3.3121557,
          0.594974,
          3.0343122,
          2.264032,
          0.9413487,
          2.64135,
          0.6234932,
          0.19446479,
          0.17394193,
          2.127107,
          2.6178575,
          0.5019903,
          2.8023434,
          2.4814637,
          1.6273829,
          2.6435997,
          2.9836688,
          2.5202272,
          3.1271734,
          1.7062019,
          1.2540907,
          0.3066237,
          1.6389608,
          3.301468,
          1.866727,
          2.8709161,
          2.3987367,
          0.15817226,
          1.5676363,
          0.8616747,
          0.39848888,
          3.5302963,
          0.30058458,
          2.6511116,
          0.58628523,
          2.838787,
          2.714755,
          3.6657944,
          3.0346725,
          1.7087536,
          2.7189915,
          2.18321,
          2.629488,
          2.6894963,
          2.6234694,
          3.4437563,
          2.7259877,
          1.5390905,
          1.2267634,
          2.5715606,
          0.33532065,
          2.3561614,
          3.6119323,
          1.3488499,
          1.2289655,
          2.3931675,
          1.6762928,
          2.245911,
          0.68235713,
          1.1900588,
          2.256717,
          2.8741877,
          2.3125556,
          -0.054586753,
          1.8832169,
          3.3222373,
          2.4455135,
          1.9096739,
          1.5311877,
          1.9127294,
          1.6544633,
          3.4039533,
          2.82709,
          2.389053,
          2.8539793,
          1.741025,
          2.3772187,
          2.9791286,
          2.62243,
          0.7667089,
          2.655804,
          0.11927303,
          1.539448,
          0.18993104,
          0.13006473,
          0.16427456,
          3.5099385,
          2.684859,
          3.4634411,
          2.3892627,
          2.5217214,
          0.6831792
         ],
         "yaxis": "y"
        }
       ],
       "layout": {
        "font": {
         "color": "black",
         "size": 15
        },
        "height": 500,
        "legend": {
         "bordercolor": "Black",
         "borderwidth": 1,
         "itemsizing": "constant",
         "title": {
          "text": "Graph Label"
         },
         "tracegroupgap": 0,
         "x": 0.68,
         "xanchor": "left",
         "y": 0.76,
         "yanchor": "bottom"
        },
        "margin": {
         "t": 60
        },
        "paper_bgcolor": "white",
        "plot_bgcolor": "white",
        "showlegend": true,
        "template": {
         "data": {
          "bar": [
           {
            "error_x": {
             "color": "#2a3f5f"
            },
            "error_y": {
             "color": "#2a3f5f"
            },
            "marker": {
             "line": {
              "color": "#E5ECF6",
              "width": 0.5
             },
             "pattern": {
              "fillmode": "overlay",
              "size": 10,
              "solidity": 0.2
             }
            },
            "type": "bar"
           }
          ],
          "barpolar": [
           {
            "marker": {
             "line": {
              "color": "#E5ECF6",
              "width": 0.5
             },
             "pattern": {
              "fillmode": "overlay",
              "size": 10,
              "solidity": 0.2
             }
            },
            "type": "barpolar"
           }
          ],
          "carpet": [
           {
            "aaxis": {
             "endlinecolor": "#2a3f5f",
             "gridcolor": "white",
             "linecolor": "white",
             "minorgridcolor": "white",
             "startlinecolor": "#2a3f5f"
            },
            "baxis": {
             "endlinecolor": "#2a3f5f",
             "gridcolor": "white",
             "linecolor": "white",
             "minorgridcolor": "white",
             "startlinecolor": "#2a3f5f"
            },
            "type": "carpet"
           }
          ],
          "choropleth": [
           {
            "colorbar": {
             "outlinewidth": 0,
             "ticks": ""
            },
            "type": "choropleth"
           }
          ],
          "contour": [
           {
            "colorbar": {
             "outlinewidth": 0,
             "ticks": ""
            },
            "colorscale": [
             [
              0,
              "#0d0887"
             ],
             [
              0.1111111111111111,
              "#46039f"
             ],
             [
              0.2222222222222222,
              "#7201a8"
             ],
             [
              0.3333333333333333,
              "#9c179e"
             ],
             [
              0.4444444444444444,
              "#bd3786"
             ],
             [
              0.5555555555555556,
              "#d8576b"
             ],
             [
              0.6666666666666666,
              "#ed7953"
             ],
             [
              0.7777777777777778,
              "#fb9f3a"
             ],
             [
              0.8888888888888888,
              "#fdca26"
             ],
             [
              1,
              "#f0f921"
             ]
            ],
            "type": "contour"
           }
          ],
          "contourcarpet": [
           {
            "colorbar": {
             "outlinewidth": 0,
             "ticks": ""
            },
            "type": "contourcarpet"
           }
          ],
          "heatmap": [
           {
            "colorbar": {
             "outlinewidth": 0,
             "ticks": ""
            },
            "colorscale": [
             [
              0,
              "#0d0887"
             ],
             [
              0.1111111111111111,
              "#46039f"
             ],
             [
              0.2222222222222222,
              "#7201a8"
             ],
             [
              0.3333333333333333,
              "#9c179e"
             ],
             [
              0.4444444444444444,
              "#bd3786"
             ],
             [
              0.5555555555555556,
              "#d8576b"
             ],
             [
              0.6666666666666666,
              "#ed7953"
             ],
             [
              0.7777777777777778,
              "#fb9f3a"
             ],
             [
              0.8888888888888888,
              "#fdca26"
             ],
             [
              1,
              "#f0f921"
             ]
            ],
            "type": "heatmap"
           }
          ],
          "heatmapgl": [
           {
            "colorbar": {
             "outlinewidth": 0,
             "ticks": ""
            },
            "colorscale": [
             [
              0,
              "#0d0887"
             ],
             [
              0.1111111111111111,
              "#46039f"
             ],
             [
              0.2222222222222222,
              "#7201a8"
             ],
             [
              0.3333333333333333,
              "#9c179e"
             ],
             [
              0.4444444444444444,
              "#bd3786"
             ],
             [
              0.5555555555555556,
              "#d8576b"
             ],
             [
              0.6666666666666666,
              "#ed7953"
             ],
             [
              0.7777777777777778,
              "#fb9f3a"
             ],
             [
              0.8888888888888888,
              "#fdca26"
             ],
             [
              1,
              "#f0f921"
             ]
            ],
            "type": "heatmapgl"
           }
          ],
          "histogram": [
           {
            "marker": {
             "pattern": {
              "fillmode": "overlay",
              "size": 10,
              "solidity": 0.2
             }
            },
            "type": "histogram"
           }
          ],
          "histogram2d": [
           {
            "colorbar": {
             "outlinewidth": 0,
             "ticks": ""
            },
            "colorscale": [
             [
              0,
              "#0d0887"
             ],
             [
              0.1111111111111111,
              "#46039f"
             ],
             [
              0.2222222222222222,
              "#7201a8"
             ],
             [
              0.3333333333333333,
              "#9c179e"
             ],
             [
              0.4444444444444444,
              "#bd3786"
             ],
             [
              0.5555555555555556,
              "#d8576b"
             ],
             [
              0.6666666666666666,
              "#ed7953"
             ],
             [
              0.7777777777777778,
              "#fb9f3a"
             ],
             [
              0.8888888888888888,
              "#fdca26"
             ],
             [
              1,
              "#f0f921"
             ]
            ],
            "type": "histogram2d"
           }
          ],
          "histogram2dcontour": [
           {
            "colorbar": {
             "outlinewidth": 0,
             "ticks": ""
            },
            "colorscale": [
             [
              0,
              "#0d0887"
             ],
             [
              0.1111111111111111,
              "#46039f"
             ],
             [
              0.2222222222222222,
              "#7201a8"
             ],
             [
              0.3333333333333333,
              "#9c179e"
             ],
             [
              0.4444444444444444,
              "#bd3786"
             ],
             [
              0.5555555555555556,
              "#d8576b"
             ],
             [
              0.6666666666666666,
              "#ed7953"
             ],
             [
              0.7777777777777778,
              "#fb9f3a"
             ],
             [
              0.8888888888888888,
              "#fdca26"
             ],
             [
              1,
              "#f0f921"
             ]
            ],
            "type": "histogram2dcontour"
           }
          ],
          "mesh3d": [
           {
            "colorbar": {
             "outlinewidth": 0,
             "ticks": ""
            },
            "type": "mesh3d"
           }
          ],
          "parcoords": [
           {
            "line": {
             "colorbar": {
              "outlinewidth": 0,
              "ticks": ""
             }
            },
            "type": "parcoords"
           }
          ],
          "pie": [
           {
            "automargin": true,
            "type": "pie"
           }
          ],
          "scatter": [
           {
            "fillpattern": {
             "fillmode": "overlay",
             "size": 10,
             "solidity": 0.2
            },
            "type": "scatter"
           }
          ],
          "scatter3d": [
           {
            "line": {
             "colorbar": {
              "outlinewidth": 0,
              "ticks": ""
             }
            },
            "marker": {
             "colorbar": {
              "outlinewidth": 0,
              "ticks": ""
             }
            },
            "type": "scatter3d"
           }
          ],
          "scattercarpet": [
           {
            "marker": {
             "colorbar": {
              "outlinewidth": 0,
              "ticks": ""
             }
            },
            "type": "scattercarpet"
           }
          ],
          "scattergeo": [
           {
            "marker": {
             "colorbar": {
              "outlinewidth": 0,
              "ticks": ""
             }
            },
            "type": "scattergeo"
           }
          ],
          "scattergl": [
           {
            "marker": {
             "colorbar": {
              "outlinewidth": 0,
              "ticks": ""
             }
            },
            "type": "scattergl"
           }
          ],
          "scattermapbox": [
           {
            "marker": {
             "colorbar": {
              "outlinewidth": 0,
              "ticks": ""
             }
            },
            "type": "scattermapbox"
           }
          ],
          "scatterpolar": [
           {
            "marker": {
             "colorbar": {
              "outlinewidth": 0,
              "ticks": ""
             }
            },
            "type": "scatterpolar"
           }
          ],
          "scatterpolargl": [
           {
            "marker": {
             "colorbar": {
              "outlinewidth": 0,
              "ticks": ""
             }
            },
            "type": "scatterpolargl"
           }
          ],
          "scatterternary": [
           {
            "marker": {
             "colorbar": {
              "outlinewidth": 0,
              "ticks": ""
             }
            },
            "type": "scatterternary"
           }
          ],
          "surface": [
           {
            "colorbar": {
             "outlinewidth": 0,
             "ticks": ""
            },
            "colorscale": [
             [
              0,
              "#0d0887"
             ],
             [
              0.1111111111111111,
              "#46039f"
             ],
             [
              0.2222222222222222,
              "#7201a8"
             ],
             [
              0.3333333333333333,
              "#9c179e"
             ],
             [
              0.4444444444444444,
              "#bd3786"
             ],
             [
              0.5555555555555556,
              "#d8576b"
             ],
             [
              0.6666666666666666,
              "#ed7953"
             ],
             [
              0.7777777777777778,
              "#fb9f3a"
             ],
             [
              0.8888888888888888,
              "#fdca26"
             ],
             [
              1,
              "#f0f921"
             ]
            ],
            "type": "surface"
           }
          ],
          "table": [
           {
            "cells": {
             "fill": {
              "color": "#EBF0F8"
             },
             "line": {
              "color": "white"
             }
            },
            "header": {
             "fill": {
              "color": "#C8D4E3"
             },
             "line": {
              "color": "white"
             }
            },
            "type": "table"
           }
          ]
         },
         "layout": {
          "annotationdefaults": {
           "arrowcolor": "#2a3f5f",
           "arrowhead": 0,
           "arrowwidth": 1
          },
          "autotypenumbers": "strict",
          "coloraxis": {
           "colorbar": {
            "outlinewidth": 0,
            "ticks": ""
           }
          },
          "colorscale": {
           "diverging": [
            [
             0,
             "#8e0152"
            ],
            [
             0.1,
             "#c51b7d"
            ],
            [
             0.2,
             "#de77ae"
            ],
            [
             0.3,
             "#f1b6da"
            ],
            [
             0.4,
             "#fde0ef"
            ],
            [
             0.5,
             "#f7f7f7"
            ],
            [
             0.6,
             "#e6f5d0"
            ],
            [
             0.7,
             "#b8e186"
            ],
            [
             0.8,
             "#7fbc41"
            ],
            [
             0.9,
             "#4d9221"
            ],
            [
             1,
             "#276419"
            ]
           ],
           "sequential": [
            [
             0,
             "#0d0887"
            ],
            [
             0.1111111111111111,
             "#46039f"
            ],
            [
             0.2222222222222222,
             "#7201a8"
            ],
            [
             0.3333333333333333,
             "#9c179e"
            ],
            [
             0.4444444444444444,
             "#bd3786"
            ],
            [
             0.5555555555555556,
             "#d8576b"
            ],
            [
             0.6666666666666666,
             "#ed7953"
            ],
            [
             0.7777777777777778,
             "#fb9f3a"
            ],
            [
             0.8888888888888888,
             "#fdca26"
            ],
            [
             1,
             "#f0f921"
            ]
           ],
           "sequentialminus": [
            [
             0,
             "#0d0887"
            ],
            [
             0.1111111111111111,
             "#46039f"
            ],
            [
             0.2222222222222222,
             "#7201a8"
            ],
            [
             0.3333333333333333,
             "#9c179e"
            ],
            [
             0.4444444444444444,
             "#bd3786"
            ],
            [
             0.5555555555555556,
             "#d8576b"
            ],
            [
             0.6666666666666666,
             "#ed7953"
            ],
            [
             0.7777777777777778,
             "#fb9f3a"
            ],
            [
             0.8888888888888888,
             "#fdca26"
            ],
            [
             1,
             "#f0f921"
            ]
           ]
          },
          "colorway": [
           "#636efa",
           "#EF553B",
           "#00cc96",
           "#ab63fa",
           "#FFA15A",
           "#19d3f3",
           "#FF6692",
           "#B6E880",
           "#FF97FF",
           "#FECB52"
          ],
          "font": {
           "color": "#2a3f5f"
          },
          "geo": {
           "bgcolor": "white",
           "lakecolor": "white",
           "landcolor": "#E5ECF6",
           "showlakes": true,
           "showland": true,
           "subunitcolor": "white"
          },
          "hoverlabel": {
           "align": "left"
          },
          "hovermode": "closest",
          "mapbox": {
           "style": "light"
          },
          "paper_bgcolor": "white",
          "plot_bgcolor": "#E5ECF6",
          "polar": {
           "angularaxis": {
            "gridcolor": "white",
            "linecolor": "white",
            "ticks": ""
           },
           "bgcolor": "#E5ECF6",
           "radialaxis": {
            "gridcolor": "white",
            "linecolor": "white",
            "ticks": ""
           }
          },
          "scene": {
           "xaxis": {
            "backgroundcolor": "#E5ECF6",
            "gridcolor": "white",
            "gridwidth": 2,
            "linecolor": "white",
            "showbackground": true,
            "ticks": "",
            "zerolinecolor": "white"
           },
           "yaxis": {
            "backgroundcolor": "#E5ECF6",
            "gridcolor": "white",
            "gridwidth": 2,
            "linecolor": "white",
            "showbackground": true,
            "ticks": "",
            "zerolinecolor": "white"
           },
           "zaxis": {
            "backgroundcolor": "#E5ECF6",
            "gridcolor": "white",
            "gridwidth": 2,
            "linecolor": "white",
            "showbackground": true,
            "ticks": "",
            "zerolinecolor": "white"
           }
          },
          "shapedefaults": {
           "line": {
            "color": "#2a3f5f"
           }
          },
          "ternary": {
           "aaxis": {
            "gridcolor": "white",
            "linecolor": "white",
            "ticks": ""
           },
           "baxis": {
            "gridcolor": "white",
            "linecolor": "white",
            "ticks": ""
           },
           "bgcolor": "#E5ECF6",
           "caxis": {
            "gridcolor": "white",
            "linecolor": "white",
            "ticks": ""
           }
          },
          "title": {
           "x": 0.05
          },
          "xaxis": {
           "automargin": true,
           "gridcolor": "white",
           "linecolor": "white",
           "ticks": "",
           "title": {
            "standoff": 15
           },
           "zerolinecolor": "white",
           "zerolinewidth": 2
          },
          "yaxis": {
           "automargin": true,
           "gridcolor": "white",
           "linecolor": "white",
           "ticks": "",
           "title": {
            "standoff": 15
           },
           "zerolinecolor": "white",
           "zerolinewidth": 2
          }
         }
        },
        "width": 550,
        "xaxis": {
         "anchor": "y",
         "autorange": true,
         "domain": [
          0,
          1
         ],
         "gridcolor": "#e3e1e1",
         "gridwidth": 0.5,
         "linecolor": "black",
         "linewidth": 2,
         "mirror": true,
         "range": [
          -9.499557633372431,
          18.91350623337243
         ],
         "showgrid": false,
         "showline": true,
         "title": {
          "text": "Dim-2"
         },
         "type": "linear",
         "zeroline": true
        },
        "yaxis": {
         "anchor": "x",
         "autorange": true,
         "color": "black",
         "domain": [
          0,
          1
         ],
         "gridcolor": "grey",
         "gridwidth": 0.5,
         "linecolor": "black",
         "linewidth": 2,
         "mirror": true,
         "range": [
          -1.260411179398947,
          11.578363426398948
         ],
         "showgrid": false,
         "showline": true,
         "title": {
          "text": "Dim-1"
         },
         "type": "linear",
         "zeroline": true
        }
       }
      },
      "image/png": "[encoded data removed]",
      "text/html": [
       "<div>                            <div id=\"25d5f24e-4bd1-43f1-b637-f68c0c5ec253\" class=\"plotly-graph-div\" style=\"height:500px; width:550px;\"></div>            <script type=\"text/javascript\">                require([\"plotly\"], function(Plotly) {                    window.PLOTLYENV=window.PLOTLYENV || {};                                    if (document.getElementById(\"25d5f24e-4bd1-43f1-b637-f68c0c5ec253\")) {                    Plotly.newPlot(                        \"25d5f24e-4bd1-43f1-b637-f68c0c5ec253\",                        [{\"hovertemplate\":\"Graph Label=0.05\\u003cbr\\u003ex=%{x}\\u003cbr\\u003ey=%{y}\\u003cbr\\u003esize=%{marker.size}\\u003cextra\\u003e\\u003c\\u002fextra\\u003e\",\"legendgroup\":\"0.05\",\"marker\":{\"color\":\"#636efa\",\"size\":[4,4,4,4,4,4,4,4,4,4,4,4,4,4,4,4,4,4,4,4,4,4,4,4,4,4,4,4,4,4,4,4,4,4,4,4,4,4,4,4,4,4,4,4,4,4,4,4,4,4,4,4,4,4,4,4,4,4,4,4,4,4,4,4,4,4,4,4,4,4,4,4,4,4,4,4,4,4,4,4,4,4,4,4,4,4,4,4,4,4,4,4,4,4,4,4,4,4,4,4,4,4,4,4,4,4,4,4,4,4,4,4,4,4,4,4,4,4,4,4,4,4,4,4,4,4,4,4,4,4,4,4,4,4,4,4,4,4,4,4,4,4,4,4,4,4,4,4,4,4],\"sizemode\":\"area\",\"sizeref\":0.01,\"symbol\":\"circle\",\"line\":{\"color\":\"black\",\"width\":1.5}},\"mode\":\"markers\",\"name\":\"0.05\",\"orientation\":\"h\",\"showlegend\":true,\"x\":[-6.2734566,-4.4092007,-6.47685,-1.6028072,-1.6068738,-2.3261206,-5.1902623,-6.8009024,-6.325233,-2.6199403,-1.2240921,-2.1674967,-2.9771502,-2.4206815,-5.8806543,-5.7122993,-4.859561,-5.950172,-2.924666,-5.7039127,-3.9592993,-4.398874,-6.107394,-4.5904083,-3.1981673,-1.2992648,-6.061912,-1.4367037,-5.8029995,-4.517017,-1.2541631,-1.511865,-5.6088276,-6.9269814,-6.549194,-6.8649335,-3.1212184,-6.64523,-6.453972,-5.5377283,-5.3690004,-1.5343797,-6.7815585,-4.1432147,-5.7816334,-6.3726034,-1.7216185,-3.7972894,-2.555555,-6.2403493,-2.9229915,-1.4685193,-1.2954088,-1.1732908,-4.2841763,-1.8259209,-1.5864604,-1.9765095,-4.6554766,-1.1519886,-2.470735,-2.4977949,-3.0341635,-6.5211024,-3.971314,-3.5672326,-3.1981733,-4.717678,-6.4646406,-2.1350117,-5.5294037,-3.1219168,-1.8809123,-6.9140477,-1.7333093,-5.06287,-2.2176194,-2.2730052,-4.2101865,-1.2594529,-1.6852028,-5.9743347,-5.93124,-3.07852,-5.85776,-1.3102373,-4.731355,-3.4931812,-5.408511,-3.8401275,-4.0920224,-1.9902161,-3.3024907,-6.6311994,-4.191352,-6.646217,-3.9658177,-1.2420075,-2.2815316,-4.8979464,-1.2237837,-2.197773,-1.3281225,-2.925112,-5.657146,-4.4045653,-1.0656062,-6.1992764,-5.897523,-4.0840864,-4.16545,-6.6467214,-4.217353,-5.812051,-5.6397786,-5.8518877,-1.0815756,-3.8495488,-3.3459468,-5.7611003,-6.6158485,-3.3346357,-6.175211,-4.191812,-4.703585,-3.9234946,-4.032514,-5.5151134,-3.604408,-1.4819181,-2.7445838,-2.2820208,-2.2512252,-4.666099,-1.440825,-5.734813,-1.7894651,-1.104951,-4.105909,-6.3245945,-5.870165,-0.97723585,-2.600572,-2.7295194,-5.7143106,-3.1732419,-1.8770583,-3.8092666,-4.105975,-6.766444],\"xaxis\":\"x\",\"y\":[9.248284,9.287457,8.949811,8.683421,9.749657,9.584476,10.311635,9.515115,8.409745,9.164974,9.5379925,8.829976,9.020032,9.485041,9.978086,10.190982,8.582197,9.98125,9.946566,9.135405,10.156639,8.602445,9.098005,9.26603,8.684643,9.38014,9.686973,8.226956,10.27851,8.502162,9.309664,8.8738575,8.93009,9.1462755,9.586309,9.406406,10.014873,8.630995,9.799334,10.323948,10.372539,9.701326,9.378466,9.211651,8.51155,8.328051,9.816183,9.954206,9.601615,8.287417,9.985245,8.223816,8.274889,8.616417,9.4562025,8.573611,8.74221,9.043058,8.637826,9.261249,8.51584,8.63315,8.678393,9.176412,10.083117,8.899542,8.883935,8.719857,8.71823,9.626767,8.5301285,10.081091,8.680768,9.33298,9.808946,9.354659,8.2416,8.289698,8.937273,9.595264,8.7359915,9.16716,9.771501,9.017318,9.360098,8.67667,9.822439,9.893925,9.451587,9.8619375,9.77968,8.977336,9.788447,8.49656,9.4069395,8.514085,9.894781,9.4082365,9.908003,10.076225,8.506759,9.703954,8.322316,8.900277,10.289405,8.686198,8.416327,8.7384615,8.501328,8.582463,9.58286,8.925286,10.173861,10.224148,10.369229,8.952497,8.797771,8.476817,8.659245,9.021441,8.603027,10.145693,8.548122,9.117626,10.094761,9.182056,9.18464,9.308539,9.07427,9.784857,10.05231,9.463751,9.114458,9.186802,8.740397,9.489231,9.268123,8.376267,9.229865,9.400711,9.56294,8.8499565,9.937958,8.434093,9.207273,8.937216,9.939417,8.451917,10.082684,9.468932],\"yaxis\":\"y\",\"type\":\"scatter\",\"opacity\":0.6},{\"hovertemplate\":\"Graph Label=0.25\\u003cbr\\u003ex=%{x}\\u003cbr\\u003ey=%{y}\\u003cbr\\u003esize=%{marker.size}\\u003cextra\\u003e\\u003c\\u002fextra\\u003e\",\"legendgroup\":\"0.25\",\"marker\":{\"color\":\"#EF553B\",\"size\":[4,4,4,4,4,4,4,4,4,4,4,4,4,4,4,4,4,4,4,4,4,4,4,4,4,4,4,4,4,4,4,4,4,4,4,4,4,4,4,4,4,4,4,4,4,4,4,4,4,4,4,4,4,4,4,4,4,4,4,4,4,4,4,4,4,4,4,4,4,4,4,4,4,4,4,4,4,4,4,4,4,4,4,4,4,4,4,4,4,4,4,4,4,4,4,4,4,4,4,4,4,4,4,4,4,4,4,4,4,4,4,4,4,4,4,4,4,4,4,4,4,4,4,4,4,4,4,4,4,4,4,4,4,4,4,4,4,4,4,4,4,4,4,4,4,4,4,4,4,4],\"sizemode\":\"area\",\"sizeref\":0.01,\"symbol\":\"circle\",\"line\":{\"color\":\"black\",\"width\":1.5}},\"mode\":\"markers\",\"name\":\"0.25\",\"orientation\":\"h\",\"showlegend\":true,\"x\":[15.713109,15.036705,13.88769,15.466848,16.34093,13.569798,13.344043,14.120451,14.574286,12.524062,14.848621,15.440116,12.24042,11.779872,15.379644,13.225985,11.883279,15.359045,12.78006,14.788825,16.088781,15.898244,15.76973,11.988142,15.96633,15.219867,15.289031,15.40187,13.93458,15.69801,14.468734,14.016225,13.5779915,15.108549,11.194222,13.230204,14.136787,15.197469,14.123956,13.081234,13.609247,11.805286,12.370055,12.248646,15.121846,15.402513,14.003126,12.489504,13.779999,15.433884,11.413866,16.215532,12.845936,15.046359,15.595545,13.311802,15.79103,14.507414,12.681105,13.789025,11.773458,15.867396,14.38149,11.475306,13.701726,15.355732,15.340354,12.78003,13.65929,15.906253,11.607893,11.51819,15.845399,13.461083,11.548995,14.512918,13.075783,14.091966,13.711933,14.035673,15.306616,12.752803,15.239243,11.171298,12.230672,14.537899,15.969102,14.144699,14.310704,11.822182,15.1493025,15.511821,16.011646,11.121094,13.777526,11.815782,13.248747,15.507083,11.248441,13.443495,11.747202,12.284062,11.352239,12.432562,14.806666,15.925848,14.919692,14.866228,14.095173,15.798906,11.926881,14.819346,15.294578,13.141462,13.118317,12.89878,13.787782,14.518835,12.845716,13.581758,15.617668,15.137535,13.00593,12.082771,12.223603,16.15113,13.551251,15.156974,13.1176195,12.16549,13.650056,11.964309,11.635494,15.89614,14.5733,13.21495,11.866618,14.192715,14.900851,14.393379,15.546293,14.184916,14.343702,14.822254,11.681106,14.801907,11.901037,14.340991,12.261747,15.63603],\"xaxis\":\"x\",\"y\":[1.4526395,2.681728,0.38055927,2.0070963,1.8489977,2.018289,2.725,1.7369716,2.6324565,3.4323065,1.6271371,2.6085484,2.9978552,3.6087945,2.7106645,2.746853,3.6613462,1.5709498,3.2948906,1.3110515,2.0351717,0.7220276,0.5781117,3.1088114,1.7137518,1.6172718,0.25355,2.6907659,0.24086262,2.5033474,1.2146726,0.93921506,2.3925328,0.01717758,2.949822,1.2636939,1.4669993,2.5815976,0.29243347,2.50046,2.4876401,3.5978029,2.8138738,3.160215,2.2607276,1.315982,0.52621335,2.6612012,0.7094845,0.5361874,2.5409086,1.7584319,2.056081,2.7648594,0.8739246,2.6299555,0.7143935,1.1816872,3.3121557,0.594974,3.0343122,2.264032,0.9413487,2.64135,0.6234932,0.19446479,0.17394193,2.127107,2.6178575,0.5019903,2.8023434,2.4814637,1.6273829,2.6435997,2.9836688,2.5202272,3.1271734,1.7062019,1.2540907,0.3066237,1.6389608,3.301468,1.866727,2.8709161,2.3987367,0.15817226,1.5676363,0.8616747,0.39848888,3.5302963,0.30058458,2.6511116,0.58628523,2.838787,2.714755,3.6657944,3.0346725,1.7087536,2.7189915,2.18321,2.629488,2.6894963,2.6234694,3.4437563,2.7259877,1.5390905,1.2267634,2.5715606,0.33532065,2.3561614,3.6119323,1.3488499,1.2289655,2.3931675,1.6762928,2.245911,0.68235713,1.1900588,2.256717,2.8741877,2.3125556,-0.054586753,1.8832169,3.3222373,2.4455135,1.9096739,1.5311877,1.9127294,1.6544633,3.4039533,2.82709,2.389053,2.8539793,1.741025,2.3772187,2.9791286,2.62243,0.7667089,2.655804,0.11927303,1.539448,0.18993104,0.13006473,0.16427456,3.5099385,2.684859,3.4634411,2.3892627,2.5217214,0.6831792],\"yaxis\":\"y\",\"type\":\"scatter\",\"opacity\":0.6}],                        {\"template\":{\"data\":{\"histogram2dcontour\":[{\"type\":\"histogram2dcontour\",\"colorbar\":{\"outlinewidth\":0,\"ticks\":\"\"},\"colorscale\":[[0.0,\"#0d0887\"],[0.1111111111111111,\"#46039f\"],[0.2222222222222222,\"#7201a8\"],[0.3333333333333333,\"#9c179e\"],[0.4444444444444444,\"#bd3786\"],[0.5555555555555556,\"#d8576b\"],[0.6666666666666666,\"#ed7953\"],[0.7777777777777778,\"#fb9f3a\"],[0.8888888888888888,\"#fdca26\"],[1.0,\"#f0f921\"]]}],\"choropleth\":[{\"type\":\"choropleth\",\"colorbar\":{\"outlinewidth\":0,\"ticks\":\"\"}}],\"histogram2d\":[{\"type\":\"histogram2d\",\"colorbar\":{\"outlinewidth\":0,\"ticks\":\"\"},\"colorscale\":[[0.0,\"#0d0887\"],[0.1111111111111111,\"#46039f\"],[0.2222222222222222,\"#7201a8\"],[0.3333333333333333,\"#9c179e\"],[0.4444444444444444,\"#bd3786\"],[0.5555555555555556,\"#d8576b\"],[0.6666666666666666,\"#ed7953\"],[0.7777777777777778,\"#fb9f3a\"],[0.8888888888888888,\"#fdca26\"],[1.0,\"#f0f921\"]]}],\"heatmap\":[{\"type\":\"heatmap\",\"colorbar\":{\"outlinewidth\":0,\"ticks\":\"\"},\"colorscale\":[[0.0,\"#0d0887\"],[0.1111111111111111,\"#46039f\"],[0.2222222222222222,\"#7201a8\"],[0.3333333333333333,\"#9c179e\"],[0.4444444444444444,\"#bd3786\"],[0.5555555555555556,\"#d8576b\"],[0.6666666666666666,\"#ed7953\"],[0.7777777777777778,\"#fb9f3a\"],[0.8888888888888888,\"#fdca26\"],[1.0,\"#f0f921\"]]}],\"heatmapgl\":[{\"type\":\"heatmapgl\",\"colorbar\":{\"outlinewidth\":0,\"ticks\":\"\"},\"colorscale\":[[0.0,\"#0d0887\"],[0.1111111111111111,\"#46039f\"],[0.2222222222222222,\"#7201a8\"],[0.3333333333333333,\"#9c179e\"],[0.4444444444444444,\"#bd3786\"],[0.5555555555555556,\"#d8576b\"],[0.6666666666666666,\"#ed7953\"],[0.7777777777777778,\"#fb9f3a\"],[0.8888888888888888,\"#fdca26\"],[1.0,\"#f0f921\"]]}],\"contourcarpet\":[{\"type\":\"contourcarpet\",\"colorbar\":{\"outlinewidth\":0,\"ticks\":\"\"}}],\"contour\":[{\"type\":\"contour\",\"colorbar\":{\"outlinewidth\":0,\"ticks\":\"\"},\"colorscale\":[[0.0,\"#0d0887\"],[0.1111111111111111,\"#46039f\"],[0.2222222222222222,\"#7201a8\"],[0.3333333333333333,\"#9c179e\"],[0.4444444444444444,\"#bd3786\"],[0.5555555555555556,\"#d8576b\"],[0.6666666666666666,\"#ed7953\"],[0.7777777777777778,\"#fb9f3a\"],[0.8888888888888888,\"#fdca26\"],[1.0,\"#f0f921\"]]}],\"surface\":[{\"type\":\"surface\",\"colorbar\":{\"outlinewidth\":0,\"ticks\":\"\"},\"colorscale\":[[0.0,\"#0d0887\"],[0.1111111111111111,\"#46039f\"],[0.2222222222222222,\"#7201a8\"],[0.3333333333333333,\"#9c179e\"],[0.4444444444444444,\"#bd3786\"],[0.5555555555555556,\"#d8576b\"],[0.6666666666666666,\"#ed7953\"],[0.7777777777777778,\"#fb9f3a\"],[0.8888888888888888,\"#fdca26\"],[1.0,\"#f0f921\"]]}],\"mesh3d\":[{\"type\":\"mesh3d\",\"colorbar\":{\"outlinewidth\":0,\"ticks\":\"\"}}],\"scatter\":[{\"fillpattern\":{\"fillmode\":\"overlay\",\"size\":10,\"solidity\":0.2},\"type\":\"scatter\"}],\"parcoords\":[{\"type\":\"parcoords\",\"line\":{\"colorbar\":{\"outlinewidth\":0,\"ticks\":\"\"}}}],\"scatterpolargl\":[{\"type\":\"scatterpolargl\",\"marker\":{\"colorbar\":{\"outlinewidth\":0,\"ticks\":\"\"}}}],\"bar\":[{\"error_x\":{\"color\":\"#2a3f5f\"},\"error_y\":{\"color\":\"#2a3f5f\"},\"marker\":{\"line\":{\"color\":\"#E5ECF6\",\"width\":0.5},\"pattern\":{\"fillmode\":\"overlay\",\"size\":10,\"solidity\":0.2}},\"type\":\"bar\"}],\"scattergeo\":[{\"type\":\"scattergeo\",\"marker\":{\"colorbar\":{\"outlinewidth\":0,\"ticks\":\"\"}}}],\"scatterpolar\":[{\"type\":\"scatterpolar\",\"marker\":{\"colorbar\":{\"outlinewidth\":0,\"ticks\":\"\"}}}],\"histogram\":[{\"marker\":{\"pattern\":{\"fillmode\":\"overlay\",\"size\":10,\"solidity\":0.2}},\"type\":\"histogram\"}],\"scattergl\":[{\"type\":\"scattergl\",\"marker\":{\"colorbar\":{\"outlinewidth\":0,\"ticks\":\"\"}}}],\"scatter3d\":[{\"type\":\"scatter3d\",\"line\":{\"colorbar\":{\"outlinewidth\":0,\"ticks\":\"\"}},\"marker\":{\"colorbar\":{\"outlinewidth\":0,\"ticks\":\"\"}}}],\"scattermapbox\":[{\"type\":\"scattermapbox\",\"marker\":{\"colorbar\":{\"outlinewidth\":0,\"ticks\":\"\"}}}],\"scatterternary\":[{\"type\":\"scatterternary\",\"marker\":{\"colorbar\":{\"outlinewidth\":0,\"ticks\":\"\"}}}],\"scattercarpet\":[{\"type\":\"scattercarpet\",\"marker\":{\"colorbar\":{\"outlinewidth\":0,\"ticks\":\"\"}}}],\"carpet\":[{\"aaxis\":{\"endlinecolor\":\"#2a3f5f\",\"gridcolor\":\"white\",\"linecolor\":\"white\",\"minorgridcolor\":\"white\",\"startlinecolor\":\"#2a3f5f\"},\"baxis\":{\"endlinecolor\":\"#2a3f5f\",\"gridcolor\":\"white\",\"linecolor\":\"white\",\"minorgridcolor\":\"white\",\"startlinecolor\":\"#2a3f5f\"},\"type\":\"carpet\"}],\"table\":[{\"cells\":{\"fill\":{\"color\":\"#EBF0F8\"},\"line\":{\"color\":\"white\"}},\"header\":{\"fill\":{\"color\":\"#C8D4E3\"},\"line\":{\"color\":\"white\"}},\"type\":\"table\"}],\"barpolar\":[{\"marker\":{\"line\":{\"color\":\"#E5ECF6\",\"width\":0.5},\"pattern\":{\"fillmode\":\"overlay\",\"size\":10,\"solidity\":0.2}},\"type\":\"barpolar\"}],\"pie\":[{\"automargin\":true,\"type\":\"pie\"}]},\"layout\":{\"autotypenumbers\":\"strict\",\"colorway\":[\"#636efa\",\"#EF553B\",\"#00cc96\",\"#ab63fa\",\"#FFA15A\",\"#19d3f3\",\"#FF6692\",\"#B6E880\",\"#FF97FF\",\"#FECB52\"],\"font\":{\"color\":\"#2a3f5f\"},\"hovermode\":\"closest\",\"hoverlabel\":{\"align\":\"left\"},\"paper_bgcolor\":\"white\",\"plot_bgcolor\":\"#E5ECF6\",\"polar\":{\"bgcolor\":\"#E5ECF6\",\"angularaxis\":{\"gridcolor\":\"white\",\"linecolor\":\"white\",\"ticks\":\"\"},\"radialaxis\":{\"gridcolor\":\"white\",\"linecolor\":\"white\",\"ticks\":\"\"}},\"ternary\":{\"bgcolor\":\"#E5ECF6\",\"aaxis\":{\"gridcolor\":\"white\",\"linecolor\":\"white\",\"ticks\":\"\"},\"baxis\":{\"gridcolor\":\"white\",\"linecolor\":\"white\",\"ticks\":\"\"},\"caxis\":{\"gridcolor\":\"white\",\"linecolor\":\"white\",\"ticks\":\"\"}},\"coloraxis\":{\"colorbar\":{\"outlinewidth\":0,\"ticks\":\"\"}},\"colorscale\":{\"sequential\":[[0.0,\"#0d0887\"],[0.1111111111111111,\"#46039f\"],[0.2222222222222222,\"#7201a8\"],[0.3333333333333333,\"#9c179e\"],[0.4444444444444444,\"#bd3786\"],[0.5555555555555556,\"#d8576b\"],[0.6666666666666666,\"#ed7953\"],[0.7777777777777778,\"#fb9f3a\"],[0.8888888888888888,\"#fdca26\"],[1.0,\"#f0f921\"]],\"sequentialminus\":[[0.0,\"#0d0887\"],[0.1111111111111111,\"#46039f\"],[0.2222222222222222,\"#7201a8\"],[0.3333333333333333,\"#9c179e\"],[0.4444444444444444,\"#bd3786\"],[0.5555555555555556,\"#d8576b\"],[0.6666666666666666,\"#ed7953\"],[0.7777777777777778,\"#fb9f3a\"],[0.8888888888888888,\"#fdca26\"],[1.0,\"#f0f921\"]],\"diverging\":[[0,\"#8e0152\"],[0.1,\"#c51b7d\"],[0.2,\"#de77ae\"],[0.3,\"#f1b6da\"],[0.4,\"#fde0ef\"],[0.5,\"#f7f7f7\"],[0.6,\"#e6f5d0\"],[0.7,\"#b8e186\"],[0.8,\"#7fbc41\"],[0.9,\"#4d9221\"],[1,\"#276419\"]]},\"xaxis\":{\"gridcolor\":\"white\",\"linecolor\":\"white\",\"ticks\":\"\",\"title\":{\"standoff\":15},\"zerolinecolor\":\"white\",\"automargin\":true,\"zerolinewidth\":2},\"yaxis\":{\"gridcolor\":\"white\",\"linecolor\":\"white\",\"ticks\":\"\",\"title\":{\"standoff\":15},\"zerolinecolor\":\"white\",\"automargin\":true,\"zerolinewidth\":2},\"scene\":{\"xaxis\":{\"backgroundcolor\":\"#E5ECF6\",\"gridcolor\":\"white\",\"linecolor\":\"white\",\"showbackground\":true,\"ticks\":\"\",\"zerolinecolor\":\"white\",\"gridwidth\":2},\"yaxis\":{\"backgroundcolor\":\"#E5ECF6\",\"gridcolor\":\"white\",\"linecolor\":\"white\",\"showbackground\":true,\"ticks\":\"\",\"zerolinecolor\":\"white\",\"gridwidth\":2},\"zaxis\":{\"backgroundcolor\":\"#E5ECF6\",\"gridcolor\":\"white\",\"linecolor\":\"white\",\"showbackground\":true,\"ticks\":\"\",\"zerolinecolor\":\"white\",\"gridwidth\":2}},\"shapedefaults\":{\"line\":{\"color\":\"#2a3f5f\"}},\"annotationdefaults\":{\"arrowcolor\":\"#2a3f5f\",\"arrowhead\":0,\"arrowwidth\":1},\"geo\":{\"bgcolor\":\"white\",\"landcolor\":\"#E5ECF6\",\"subunitcolor\":\"white\",\"showland\":true,\"showlakes\":true,\"lakecolor\":\"white\"},\"title\":{\"x\":0.05},\"mapbox\":{\"style\":\"light\"}}},\"xaxis\":{\"anchor\":\"y\",\"domain\":[0.0,1.0],\"title\":{\"text\":\"Dim-2\"},\"mirror\":true,\"zeroline\":true,\"showline\":true,\"linecolor\":\"black\",\"linewidth\":2,\"showgrid\":false,\"gridwidth\":0.5,\"gridcolor\":\"#e3e1e1\"},\"yaxis\":{\"anchor\":\"x\",\"domain\":[0.0,1.0],\"title\":{\"text\":\"Dim-1\"},\"color\":\"black\",\"zeroline\":true,\"showline\":true,\"linecolor\":\"black\",\"mirror\":true,\"linewidth\":2,\"showgrid\":false,\"gridwidth\":0.5,\"gridcolor\":\"grey\"},\"legend\":{\"title\":{\"text\":\"Graph Label\"},\"tracegroupgap\":0,\"itemsizing\":\"constant\",\"yanchor\":\"bottom\",\"y\":0.76,\"xanchor\":\"left\",\"x\":0.68,\"bordercolor\":\"Black\",\"borderwidth\":1},\"margin\":{\"t\":60},\"paper_bgcolor\":\"white\",\"plot_bgcolor\":\"white\",\"font\":{\"size\":15,\"color\":\"black\"},\"width\":550,\"height\":500,\"showlegend\":true},                        {\"responsive\": true}                    ).then(function(){\n",
       "                            \n",
       "var gd = document.getElementById('25d5f24e-4bd1-43f1-b637-f68c0c5ec253');\n",
       "var x = new MutationObserver(function (mutations, observer) {{\n",
       "        var display = window.getComputedStyle(gd).display;\n",
       "        if (!display || display === 'none') {{\n",
       "            console.log([gd, 'removed!']);\n",
       "            Plotly.purge(gd);\n",
       "            observer.disconnect();\n",
       "        }}\n",
       "}});\n",
       "\n",
       "// Listen for the removal of the full notebook cells\n",
       "var notebookContainer = gd.closest('#notebook-container');\n",
       "if (notebookContainer) {{\n",
       "    x.observe(notebookContainer, {childList: true});\n",
       "}}\n",
       "\n",
       "// Listen for the clearing of the current output cell\n",
       "var outputEl = gd.closest('.output');\n",
       "if (outputEl) {{\n",
       "    x.observe(outputEl, {childList: true});\n",
       "}}\n",
       "\n",
       "                        })                };                });            </script>        </div>"
      ]
     },
     "metadata": {},
     "output_type": "display_data"
    }
   ],
   "source": [
    "fig = px.scatter(data, x=\"x\", y=\"y\", color=\"Graph Label\", size=[4]*len(data))\n",
    "\n",
    "# Update figure layout\n",
    "fig.update_layout(paper_bgcolor='white')\n",
    "fig.update_layout(plot_bgcolor='white')\n",
    "fig.update_yaxes(color='black')\n",
    "fig.update_layout(\n",
    "    yaxis = dict(\n",
    "        title = \"Dim-1\",\n",
    "        zeroline=True,\n",
    "        showline = True,\n",
    "        linecolor = 'black',\n",
    "        mirror=True,\n",
    "        linewidth = 2\n",
    "    ),\n",
    "    xaxis = dict(\n",
    "        title = 'Dim-2',\n",
    "        mirror=True,\n",
    "        zeroline=True,\n",
    "        showline = True,\n",
    "        linecolor = 'black',\n",
    "        linewidth = 2,\n",
    "    ),\n",
    "    width=550,\n",
    "    height=500,\n",
    "    font=dict(\n",
    "    size=15,\n",
    "    color=\"black\")\n",
    "        \n",
    ")\n",
    "fig.update_layout(showlegend=True)\n",
    "fig.update_layout(legend=dict(\n",
    "    yanchor=\"bottom\",\n",
    "    y=0.76,\n",
    "    xanchor=\"left\",\n",
    "    x=0.68,\n",
    "    bordercolor=\"Black\",\n",
    "    borderwidth=1\n",
    "))\n",
    "fig.update_traces({'orientation':'h'})\n",
    "fig.update_xaxes(showgrid=False, gridwidth=0.5, gridcolor='#e3e1e1')\n",
    "fig.update_yaxes(showgrid=False, gridwidth=0.5, gridcolor='grey')\n",
    "fig.update_traces(marker_line_color='black', marker_line_width=1.5, opacity=0.6)\n",
    "\n",
    "fig.show()"
   ]
  },
  {
   "cell_type": "code",
   "execution_count": null,
   "id": "a323f0a1-aedb-46bb-8dd1-b217603d3cb1",
   "metadata": {},
   "outputs": [],
   "source": []
  }
 ],
 "metadata": {
  "kernelspec": {
   "display_name": "Python 3 (ipykernel)",
   "language": "python",
   "name": "python3"
  },
  "language_info": {
   "codemirror_mode": {
    "name": "ipython",
    "version": 3
   },
   "file_extension": ".py",
   "mimetype": "text/x-python",
   "name": "python",
   "nbconvert_exporter": "python",
   "pygments_lexer": "ipython3",
   "version": "3.11.5"
  }
 },
 "nbformat": 4,
 "nbformat_minor": 5
}
