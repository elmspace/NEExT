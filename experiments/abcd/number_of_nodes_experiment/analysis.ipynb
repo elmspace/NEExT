{
 "cells": [
  {
   "cell_type": "code",
   "execution_count": 12,
   "id": "b17329b3-5334-4ade-8073-b270f3b39c06",
   "metadata": {},
   "outputs": [],
   "source": [
    "import plotly.express as px\n",
    "import plotly.graph_objects as go\n",
    "import pandas as pd"
   ]
  },
  {
   "cell_type": "code",
   "execution_count": 44,
   "id": "3707fbfd-c588-43f3-8053-531e7614f624",
   "metadata": {},
   "outputs": [],
   "source": [
    "data = pd.read_csv(\"./results/results.csv\")"
   ]
  },
  {
   "cell_type": "code",
   "execution_count": 45,
   "id": "83c80f3b-cd37-460c-ad34-e2d545212929",
   "metadata": {},
   "outputs": [
    {
     "data": {
      "text/html": [
       "<div>\n",
       "<style scoped>\n",
       "    .dataframe tbody tr th:only-of-type {\n",
       "        vertical-align: middle;\n",
       "    }\n",
       "\n",
       "    .dataframe tbody tr th {\n",
       "        vertical-align: top;\n",
       "    }\n",
       "\n",
       "    .dataframe thead th {\n",
       "        text-align: right;\n",
       "    }\n",
       "</style>\n",
       "<table border=\"1\" class=\"dataframe\">\n",
       "  <thead>\n",
       "    <tr style=\"text-align: right;\">\n",
       "      <th></th>\n",
       "      <th>emb_0</th>\n",
       "      <th>emb_1</th>\n",
       "      <th>emb_2</th>\n",
       "      <th>emb_3</th>\n",
       "      <th>graph_id</th>\n",
       "      <th>Graph Label</th>\n",
       "      <th>x</th>\n",
       "      <th>y</th>\n",
       "      <th>xi</th>\n",
       "      <th>n</th>\n",
       "    </tr>\n",
       "  </thead>\n",
       "  <tbody>\n",
       "    <tr>\n",
       "      <th>0</th>\n",
       "      <td>2.730531</td>\n",
       "      <td>0.666772</td>\n",
       "      <td>0.090851</td>\n",
       "      <td>0.036273</td>\n",
       "      <td>0</td>\n",
       "      <td>0.1_200</td>\n",
       "      <td>0.604355</td>\n",
       "      <td>7.563996</td>\n",
       "      <td>0.1</td>\n",
       "      <td>200</td>\n",
       "    </tr>\n",
       "    <tr>\n",
       "      <th>1</th>\n",
       "      <td>1.127046</td>\n",
       "      <td>0.655062</td>\n",
       "      <td>0.250081</td>\n",
       "      <td>0.030881</td>\n",
       "      <td>1</td>\n",
       "      <td>0.10_250</td>\n",
       "      <td>1.039712</td>\n",
       "      <td>8.498711</td>\n",
       "      <td>0.1</td>\n",
       "      <td>250</td>\n",
       "    </tr>\n",
       "    <tr>\n",
       "      <th>2</th>\n",
       "      <td>0.068365</td>\n",
       "      <td>0.441269</td>\n",
       "      <td>-0.153627</td>\n",
       "      <td>0.072402</td>\n",
       "      <td>2</td>\n",
       "      <td>0.10_300</td>\n",
       "      <td>1.643592</td>\n",
       "      <td>9.824559</td>\n",
       "      <td>0.1</td>\n",
       "      <td>300</td>\n",
       "    </tr>\n",
       "    <tr>\n",
       "      <th>3</th>\n",
       "      <td>-0.985155</td>\n",
       "      <td>0.360810</td>\n",
       "      <td>-0.177758</td>\n",
       "      <td>-0.074888</td>\n",
       "      <td>3</td>\n",
       "      <td>0.10_350</td>\n",
       "      <td>1.647309</td>\n",
       "      <td>11.800989</td>\n",
       "      <td>0.1</td>\n",
       "      <td>350</td>\n",
       "    </tr>\n",
       "    <tr>\n",
       "      <th>4</th>\n",
       "      <td>-1.799662</td>\n",
       "      <td>0.290601</td>\n",
       "      <td>0.028559</td>\n",
       "      <td>-0.074251</td>\n",
       "      <td>4</td>\n",
       "      <td>0.10_400</td>\n",
       "      <td>2.350599</td>\n",
       "      <td>12.113888</td>\n",
       "      <td>0.1</td>\n",
       "      <td>400</td>\n",
       "    </tr>\n",
       "    <tr>\n",
       "      <th>5</th>\n",
       "      <td>2.745496</td>\n",
       "      <td>0.169183</td>\n",
       "      <td>-0.246112</td>\n",
       "      <td>0.021050</td>\n",
       "      <td>5</td>\n",
       "      <td>0.2_200</td>\n",
       "      <td>0.881253</td>\n",
       "      <td>7.315216</td>\n",
       "      <td>0.2</td>\n",
       "      <td>200</td>\n",
       "    </tr>\n",
       "    <tr>\n",
       "      <th>6</th>\n",
       "      <td>1.130390</td>\n",
       "      <td>0.044210</td>\n",
       "      <td>0.009331</td>\n",
       "      <td>-0.140956</td>\n",
       "      <td>6</td>\n",
       "      <td>0.20_250</td>\n",
       "      <td>1.320667</td>\n",
       "      <td>8.279300</td>\n",
       "      <td>0.2</td>\n",
       "      <td>250</td>\n",
       "    </tr>\n",
       "    <tr>\n",
       "      <th>7</th>\n",
       "      <td>0.083035</td>\n",
       "      <td>0.116752</td>\n",
       "      <td>-0.018627</td>\n",
       "      <td>0.051720</td>\n",
       "      <td>7</td>\n",
       "      <td>0.20_300</td>\n",
       "      <td>0.627088</td>\n",
       "      <td>10.182569</td>\n",
       "      <td>0.2</td>\n",
       "      <td>300</td>\n",
       "    </tr>\n",
       "    <tr>\n",
       "      <th>8</th>\n",
       "      <td>-0.960613</td>\n",
       "      <td>0.101921</td>\n",
       "      <td>-0.073693</td>\n",
       "      <td>0.018155</td>\n",
       "      <td>8</td>\n",
       "      <td>0.20_350</td>\n",
       "      <td>1.243322</td>\n",
       "      <td>11.624802</td>\n",
       "      <td>0.2</td>\n",
       "      <td>350</td>\n",
       "    </tr>\n",
       "    <tr>\n",
       "      <th>9</th>\n",
       "      <td>-1.786590</td>\n",
       "      <td>0.074507</td>\n",
       "      <td>0.041513</td>\n",
       "      <td>-0.048611</td>\n",
       "      <td>9</td>\n",
       "      <td>0.20_400</td>\n",
       "      <td>1.980779</td>\n",
       "      <td>12.437088</td>\n",
       "      <td>0.2</td>\n",
       "      <td>400</td>\n",
       "    </tr>\n",
       "    <tr>\n",
       "      <th>10</th>\n",
       "      <td>2.758484</td>\n",
       "      <td>-0.096623</td>\n",
       "      <td>0.003489</td>\n",
       "      <td>-0.008199</td>\n",
       "      <td>10</td>\n",
       "      <td>0.3_200</td>\n",
       "      <td>0.547970</td>\n",
       "      <td>7.015370</td>\n",
       "      <td>0.3</td>\n",
       "      <td>200</td>\n",
       "    </tr>\n",
       "    <tr>\n",
       "      <th>11</th>\n",
       "      <td>1.136972</td>\n",
       "      <td>-0.096262</td>\n",
       "      <td>0.011009</td>\n",
       "      <td>-0.139556</td>\n",
       "      <td>11</td>\n",
       "      <td>0.30_250</td>\n",
       "      <td>1.675407</td>\n",
       "      <td>8.664077</td>\n",
       "      <td>0.3</td>\n",
       "      <td>250</td>\n",
       "    </tr>\n",
       "    <tr>\n",
       "      <th>12</th>\n",
       "      <td>0.102532</td>\n",
       "      <td>-0.093923</td>\n",
       "      <td>-0.027919</td>\n",
       "      <td>0.137295</td>\n",
       "      <td>12</td>\n",
       "      <td>0.30_300</td>\n",
       "      <td>1.109867</td>\n",
       "      <td>10.122618</td>\n",
       "      <td>0.3</td>\n",
       "      <td>300</td>\n",
       "    </tr>\n",
       "    <tr>\n",
       "      <th>13</th>\n",
       "      <td>-0.951661</td>\n",
       "      <td>-0.040922</td>\n",
       "      <td>0.005534</td>\n",
       "      <td>0.027302</td>\n",
       "      <td>13</td>\n",
       "      <td>0.30_350</td>\n",
       "      <td>1.405736</td>\n",
       "      <td>11.146094</td>\n",
       "      <td>0.3</td>\n",
       "      <td>350</td>\n",
       "    </tr>\n",
       "    <tr>\n",
       "      <th>14</th>\n",
       "      <td>-1.776418</td>\n",
       "      <td>-0.079887</td>\n",
       "      <td>-0.039503</td>\n",
       "      <td>-0.009875</td>\n",
       "      <td>14</td>\n",
       "      <td>0.30_400</td>\n",
       "      <td>2.632095</td>\n",
       "      <td>12.552581</td>\n",
       "      <td>0.3</td>\n",
       "      <td>400</td>\n",
       "    </tr>\n",
       "    <tr>\n",
       "      <th>15</th>\n",
       "      <td>2.777884</td>\n",
       "      <td>-0.363172</td>\n",
       "      <td>0.167191</td>\n",
       "      <td>0.029409</td>\n",
       "      <td>15</td>\n",
       "      <td>0.4_200</td>\n",
       "      <td>0.162708</td>\n",
       "      <td>7.342368</td>\n",
       "      <td>0.4</td>\n",
       "      <td>200</td>\n",
       "    </tr>\n",
       "    <tr>\n",
       "      <th>16</th>\n",
       "      <td>1.145673</td>\n",
       "      <td>-0.250191</td>\n",
       "      <td>0.152156</td>\n",
       "      <td>-0.145976</td>\n",
       "      <td>16</td>\n",
       "      <td>0.40_250</td>\n",
       "      <td>1.998970</td>\n",
       "      <td>8.423617</td>\n",
       "      <td>0.4</td>\n",
       "      <td>250</td>\n",
       "    </tr>\n",
       "    <tr>\n",
       "      <th>17</th>\n",
       "      <td>0.112466</td>\n",
       "      <td>-0.223778</td>\n",
       "      <td>0.090885</td>\n",
       "      <td>0.153939</td>\n",
       "      <td>17</td>\n",
       "      <td>0.40_300</td>\n",
       "      <td>0.711791</td>\n",
       "      <td>9.718382</td>\n",
       "      <td>0.4</td>\n",
       "      <td>300</td>\n",
       "    </tr>\n",
       "    <tr>\n",
       "      <th>18</th>\n",
       "      <td>-0.950015</td>\n",
       "      <td>-0.163655</td>\n",
       "      <td>0.047170</td>\n",
       "      <td>-0.012261</td>\n",
       "      <td>18</td>\n",
       "      <td>0.40_350</td>\n",
       "      <td>1.795295</td>\n",
       "      <td>11.079471</td>\n",
       "      <td>0.4</td>\n",
       "      <td>350</td>\n",
       "    </tr>\n",
       "    <tr>\n",
       "      <th>19</th>\n",
       "      <td>-1.772960</td>\n",
       "      <td>-0.145986</td>\n",
       "      <td>0.003776</td>\n",
       "      <td>-0.012427</td>\n",
       "      <td>19</td>\n",
       "      <td>0.40_400</td>\n",
       "      <td>1.862818</td>\n",
       "      <td>12.772805</td>\n",
       "      <td>0.4</td>\n",
       "      <td>400</td>\n",
       "    </tr>\n",
       "    <tr>\n",
       "      <th>20</th>\n",
       "      <td>2.771305</td>\n",
       "      <td>-0.403384</td>\n",
       "      <td>-0.197204</td>\n",
       "      <td>0.011900</td>\n",
       "      <td>20</td>\n",
       "      <td>0.5_200</td>\n",
       "      <td>0.967391</td>\n",
       "      <td>6.836033</td>\n",
       "      <td>0.5</td>\n",
       "      <td>200</td>\n",
       "    </tr>\n",
       "    <tr>\n",
       "      <th>21</th>\n",
       "      <td>1.146012</td>\n",
       "      <td>-0.257974</td>\n",
       "      <td>-0.037635</td>\n",
       "      <td>-0.118041</td>\n",
       "      <td>21</td>\n",
       "      <td>0.50_250</td>\n",
       "      <td>1.434162</td>\n",
       "      <td>8.830869</td>\n",
       "      <td>0.5</td>\n",
       "      <td>250</td>\n",
       "    </tr>\n",
       "    <tr>\n",
       "      <th>22</th>\n",
       "      <td>0.114761</td>\n",
       "      <td>-0.280120</td>\n",
       "      <td>0.052359</td>\n",
       "      <td>0.157367</td>\n",
       "      <td>22</td>\n",
       "      <td>0.50_300</td>\n",
       "      <td>1.071313</td>\n",
       "      <td>9.636617</td>\n",
       "      <td>0.5</td>\n",
       "      <td>300</td>\n",
       "    </tr>\n",
       "    <tr>\n",
       "      <th>23</th>\n",
       "      <td>-0.942826</td>\n",
       "      <td>-0.215404</td>\n",
       "      <td>-0.033173</td>\n",
       "      <td>0.040673</td>\n",
       "      <td>23</td>\n",
       "      <td>0.50_350</td>\n",
       "      <td>2.163241</td>\n",
       "      <td>11.423911</td>\n",
       "      <td>0.5</td>\n",
       "      <td>350</td>\n",
       "    </tr>\n",
       "    <tr>\n",
       "      <th>24</th>\n",
       "      <td>-1.769160</td>\n",
       "      <td>-0.197781</td>\n",
       "      <td>0.057864</td>\n",
       "      <td>-0.008157</td>\n",
       "      <td>24</td>\n",
       "      <td>0.50_400</td>\n",
       "      <td>2.238217</td>\n",
       "      <td>12.671055</td>\n",
       "      <td>0.5</td>\n",
       "      <td>400</td>\n",
       "    </tr>\n",
       "  </tbody>\n",
       "</table>\n",
       "</div>"
      ],
      "text/plain": [
       "       emb_0     emb_1     emb_2     emb_3  graph_id Graph Label         x  \\\n",
       "0   2.730531  0.666772  0.090851  0.036273         0     0.1_200  0.604355   \n",
       "1   1.127046  0.655062  0.250081  0.030881         1    0.10_250  1.039712   \n",
       "2   0.068365  0.441269 -0.153627  0.072402         2    0.10_300  1.643592   \n",
       "3  -0.985155  0.360810 -0.177758 -0.074888         3    0.10_350  1.647309   \n",
       "4  -1.799662  0.290601  0.028559 -0.074251         4    0.10_400  2.350599   \n",
       "5   2.745496  0.169183 -0.246112  0.021050         5     0.2_200  0.881253   \n",
       "6   1.130390  0.044210  0.009331 -0.140956         6    0.20_250  1.320667   \n",
       "7   0.083035  0.116752 -0.018627  0.051720         7    0.20_300  0.627088   \n",
       "8  -0.960613  0.101921 -0.073693  0.018155         8    0.20_350  1.243322   \n",
       "9  -1.786590  0.074507  0.041513 -0.048611         9    0.20_400  1.980779   \n",
       "10  2.758484 -0.096623  0.003489 -0.008199        10     0.3_200  0.547970   \n",
       "11  1.136972 -0.096262  0.011009 -0.139556        11    0.30_250  1.675407   \n",
       "12  0.102532 -0.093923 -0.027919  0.137295        12    0.30_300  1.109867   \n",
       "13 -0.951661 -0.040922  0.005534  0.027302        13    0.30_350  1.405736   \n",
       "14 -1.776418 -0.079887 -0.039503 -0.009875        14    0.30_400  2.632095   \n",
       "15  2.777884 -0.363172  0.167191  0.029409        15     0.4_200  0.162708   \n",
       "16  1.145673 -0.250191  0.152156 -0.145976        16    0.40_250  1.998970   \n",
       "17  0.112466 -0.223778  0.090885  0.153939        17    0.40_300  0.711791   \n",
       "18 -0.950015 -0.163655  0.047170 -0.012261        18    0.40_350  1.795295   \n",
       "19 -1.772960 -0.145986  0.003776 -0.012427        19    0.40_400  1.862818   \n",
       "20  2.771305 -0.403384 -0.197204  0.011900        20     0.5_200  0.967391   \n",
       "21  1.146012 -0.257974 -0.037635 -0.118041        21    0.50_250  1.434162   \n",
       "22  0.114761 -0.280120  0.052359  0.157367        22    0.50_300  1.071313   \n",
       "23 -0.942826 -0.215404 -0.033173  0.040673        23    0.50_350  2.163241   \n",
       "24 -1.769160 -0.197781  0.057864 -0.008157        24    0.50_400  2.238217   \n",
       "\n",
       "            y   xi    n  \n",
       "0    7.563996  0.1  200  \n",
       "1    8.498711  0.1  250  \n",
       "2    9.824559  0.1  300  \n",
       "3   11.800989  0.1  350  \n",
       "4   12.113888  0.1  400  \n",
       "5    7.315216  0.2  200  \n",
       "6    8.279300  0.2  250  \n",
       "7   10.182569  0.2  300  \n",
       "8   11.624802  0.2  350  \n",
       "9   12.437088  0.2  400  \n",
       "10   7.015370  0.3  200  \n",
       "11   8.664077  0.3  250  \n",
       "12  10.122618  0.3  300  \n",
       "13  11.146094  0.3  350  \n",
       "14  12.552581  0.3  400  \n",
       "15   7.342368  0.4  200  \n",
       "16   8.423617  0.4  250  \n",
       "17   9.718382  0.4  300  \n",
       "18  11.079471  0.4  350  \n",
       "19  12.772805  0.4  400  \n",
       "20   6.836033  0.5  200  \n",
       "21   8.830869  0.5  250  \n",
       "22   9.636617  0.5  300  \n",
       "23  11.423911  0.5  350  \n",
       "24  12.671055  0.5  400  "
      ]
     },
     "execution_count": 45,
     "metadata": {},
     "output_type": "execute_result"
    }
   ],
   "source": [
    "data[\"xi\"] = data[\"Graph Label\"].apply(lambda x : str(round(float(x.split(\"_\")[0]), 2)))\n",
    "data[\"n\"] = data[\"Graph Label\"].apply(lambda x : x.split(\"_\")[1])\n",
    "data"
   ]
  },
  {
   "cell_type": "code",
   "execution_count": 48,
   "id": "c91385fe-6944-498e-9832-09cfcb02355a",
   "metadata": {},
   "outputs": [
    {
     "data": {
      "application/vnd.plotly.v1+json": {
       "config": {
        "plotlyServerURL": "https://plot.ly"
       },
       "data": [
        {
         "hovertemplate": "xi=0.1<br>x=%{x}<br>y=%{y}<br>size=%{marker.size}<br>n=%{text}<extra></extra>",
         "legendgroup": "0.1",
         "marker": {
          "color": "#636efa",
          "line": {
           "color": "black",
           "width": 1.5
          },
          "size": [
           4,
           4,
           4,
           4,
           4
          ],
          "sizemode": "area",
          "sizeref": 0.01,
          "symbol": "circle"
         },
         "mode": "markers+text",
         "name": "0.1",
         "opacity": 1,
         "orientation": "v",
         "showlegend": true,
         "text": [
          "200",
          "250",
          "300",
          "350",
          "400"
         ],
         "type": "scatter",
         "x": [
          0.6043547,
          1.0397116,
          1.6435918,
          1.6473093,
          2.3505995
         ],
         "xaxis": "x",
         "y": [
          7.563996,
          8.498711,
          9.824559,
          11.800989,
          12.113888
         ],
         "yaxis": "y"
        },
        {
         "hovertemplate": "xi=0.2<br>x=%{x}<br>y=%{y}<br>size=%{marker.size}<br>n=%{text}<extra></extra>",
         "legendgroup": "0.2",
         "marker": {
          "color": "#EF553B",
          "line": {
           "color": "black",
           "width": 1.5
          },
          "size": [
           4,
           4,
           4,
           4,
           4
          ],
          "sizemode": "area",
          "sizeref": 0.01,
          "symbol": "circle"
         },
         "mode": "markers+text",
         "name": "0.2",
         "opacity": 1,
         "orientation": "v",
         "showlegend": true,
         "text": [
          "200",
          "250",
          "300",
          "350",
          "400"
         ],
         "type": "scatter",
         "x": [
          0.8812528,
          1.320667,
          0.627088,
          1.2433218,
          1.9807787
         ],
         "xaxis": "x",
         "y": [
          7.3152156,
          8.2793,
          10.1825695,
          11.624802,
          12.437088
         ],
         "yaxis": "y"
        },
        {
         "hovertemplate": "xi=0.3<br>x=%{x}<br>y=%{y}<br>size=%{marker.size}<br>n=%{text}<extra></extra>",
         "legendgroup": "0.3",
         "marker": {
          "color": "#00cc96",
          "line": {
           "color": "black",
           "width": 1.5
          },
          "size": [
           4,
           4,
           4,
           4,
           4
          ],
          "sizemode": "area",
          "sizeref": 0.01,
          "symbol": "circle"
         },
         "mode": "markers+text",
         "name": "0.3",
         "opacity": 1,
         "orientation": "v",
         "showlegend": true,
         "text": [
          "200",
          "250",
          "300",
          "350",
          "400"
         ],
         "type": "scatter",
         "x": [
          0.5479698,
          1.6754066,
          1.1098667,
          1.4057355,
          2.6320953
         ],
         "xaxis": "x",
         "y": [
          7.0153704,
          8.664077,
          10.122618,
          11.146094,
          12.552581
         ],
         "yaxis": "y"
        },
        {
         "hovertemplate": "xi=0.4<br>x=%{x}<br>y=%{y}<br>size=%{marker.size}<br>n=%{text}<extra></extra>",
         "legendgroup": "0.4",
         "marker": {
          "color": "#ab63fa",
          "line": {
           "color": "black",
           "width": 1.5
          },
          "size": [
           4,
           4,
           4,
           4,
           4
          ],
          "sizemode": "area",
          "sizeref": 0.01,
          "symbol": "circle"
         },
         "mode": "markers+text",
         "name": "0.4",
         "opacity": 1,
         "orientation": "v",
         "showlegend": true,
         "text": [
          "200",
          "250",
          "300",
          "350",
          "400"
         ],
         "type": "scatter",
         "x": [
          0.16270827,
          1.99897,
          0.7117913,
          1.7952952,
          1.8628178
         ],
         "xaxis": "x",
         "y": [
          7.342368,
          8.423617,
          9.718382,
          11.079471,
          12.772805
         ],
         "yaxis": "y"
        },
        {
         "hovertemplate": "xi=0.5<br>x=%{x}<br>y=%{y}<br>size=%{marker.size}<br>n=%{text}<extra></extra>",
         "legendgroup": "0.5",
         "marker": {
          "color": "#FFA15A",
          "line": {
           "color": "black",
           "width": 1.5
          },
          "size": [
           4,
           4,
           4,
           4,
           4
          ],
          "sizemode": "area",
          "sizeref": 0.01,
          "symbol": "circle"
         },
         "mode": "markers+text",
         "name": "0.5",
         "opacity": 1,
         "orientation": "v",
         "showlegend": true,
         "text": [
          "200",
          "250",
          "300",
          "350",
          "400"
         ],
         "type": "scatter",
         "x": [
          0.96739143,
          1.4341618,
          1.0713127,
          2.1632407,
          2.238217
         ],
         "xaxis": "x",
         "y": [
          6.836033,
          8.830869,
          9.636617,
          11.423911,
          12.671055
         ],
         "yaxis": "y"
        }
       ],
       "layout": {
        "font": {
         "color": "black",
         "size": 13
        },
        "height": 500,
        "legend": {
         "bordercolor": "Black",
         "borderwidth": 1,
         "itemsizing": "constant",
         "title": {
          "text": "xi"
         },
         "tracegroupgap": 0,
         "x": 0.8,
         "xanchor": "left",
         "y": 0.02,
         "yanchor": "bottom"
        },
        "margin": {
         "t": 60
        },
        "paper_bgcolor": "white",
        "plot_bgcolor": "white",
        "showlegend": true,
        "template": {
         "data": {
          "bar": [
           {
            "error_x": {
             "color": "#2a3f5f"
            },
            "error_y": {
             "color": "#2a3f5f"
            },
            "marker": {
             "line": {
              "color": "#E5ECF6",
              "width": 0.5
             },
             "pattern": {
              "fillmode": "overlay",
              "size": 10,
              "solidity": 0.2
             }
            },
            "type": "bar"
           }
          ],
          "barpolar": [
           {
            "marker": {
             "line": {
              "color": "#E5ECF6",
              "width": 0.5
             },
             "pattern": {
              "fillmode": "overlay",
              "size": 10,
              "solidity": 0.2
             }
            },
            "type": "barpolar"
           }
          ],
          "carpet": [
           {
            "aaxis": {
             "endlinecolor": "#2a3f5f",
             "gridcolor": "white",
             "linecolor": "white",
             "minorgridcolor": "white",
             "startlinecolor": "#2a3f5f"
            },
            "baxis": {
             "endlinecolor": "#2a3f5f",
             "gridcolor": "white",
             "linecolor": "white",
             "minorgridcolor": "white",
             "startlinecolor": "#2a3f5f"
            },
            "type": "carpet"
           }
          ],
          "choropleth": [
           {
            "colorbar": {
             "outlinewidth": 0,
             "ticks": ""
            },
            "type": "choropleth"
           }
          ],
          "contour": [
           {
            "colorbar": {
             "outlinewidth": 0,
             "ticks": ""
            },
            "colorscale": [
             [
              0,
              "#0d0887"
             ],
             [
              0.1111111111111111,
              "#46039f"
             ],
             [
              0.2222222222222222,
              "#7201a8"
             ],
             [
              0.3333333333333333,
              "#9c179e"
             ],
             [
              0.4444444444444444,
              "#bd3786"
             ],
             [
              0.5555555555555556,
              "#d8576b"
             ],
             [
              0.6666666666666666,
              "#ed7953"
             ],
             [
              0.7777777777777778,
              "#fb9f3a"
             ],
             [
              0.8888888888888888,
              "#fdca26"
             ],
             [
              1,
              "#f0f921"
             ]
            ],
            "type": "contour"
           }
          ],
          "contourcarpet": [
           {
            "colorbar": {
             "outlinewidth": 0,
             "ticks": ""
            },
            "type": "contourcarpet"
           }
          ],
          "heatmap": [
           {
            "colorbar": {
             "outlinewidth": 0,
             "ticks": ""
            },
            "colorscale": [
             [
              0,
              "#0d0887"
             ],
             [
              0.1111111111111111,
              "#46039f"
             ],
             [
              0.2222222222222222,
              "#7201a8"
             ],
             [
              0.3333333333333333,
              "#9c179e"
             ],
             [
              0.4444444444444444,
              "#bd3786"
             ],
             [
              0.5555555555555556,
              "#d8576b"
             ],
             [
              0.6666666666666666,
              "#ed7953"
             ],
             [
              0.7777777777777778,
              "#fb9f3a"
             ],
             [
              0.8888888888888888,
              "#fdca26"
             ],
             [
              1,
              "#f0f921"
             ]
            ],
            "type": "heatmap"
           }
          ],
          "heatmapgl": [
           {
            "colorbar": {
             "outlinewidth": 0,
             "ticks": ""
            },
            "colorscale": [
             [
              0,
              "#0d0887"
             ],
             [
              0.1111111111111111,
              "#46039f"
             ],
             [
              0.2222222222222222,
              "#7201a8"
             ],
             [
              0.3333333333333333,
              "#9c179e"
             ],
             [
              0.4444444444444444,
              "#bd3786"
             ],
             [
              0.5555555555555556,
              "#d8576b"
             ],
             [
              0.6666666666666666,
              "#ed7953"
             ],
             [
              0.7777777777777778,
              "#fb9f3a"
             ],
             [
              0.8888888888888888,
              "#fdca26"
             ],
             [
              1,
              "#f0f921"
             ]
            ],
            "type": "heatmapgl"
           }
          ],
          "histogram": [
           {
            "marker": {
             "pattern": {
              "fillmode": "overlay",
              "size": 10,
              "solidity": 0.2
             }
            },
            "type": "histogram"
           }
          ],
          "histogram2d": [
           {
            "colorbar": {
             "outlinewidth": 0,
             "ticks": ""
            },
            "colorscale": [
             [
              0,
              "#0d0887"
             ],
             [
              0.1111111111111111,
              "#46039f"
             ],
             [
              0.2222222222222222,
              "#7201a8"
             ],
             [
              0.3333333333333333,
              "#9c179e"
             ],
             [
              0.4444444444444444,
              "#bd3786"
             ],
             [
              0.5555555555555556,
              "#d8576b"
             ],
             [
              0.6666666666666666,
              "#ed7953"
             ],
             [
              0.7777777777777778,
              "#fb9f3a"
             ],
             [
              0.8888888888888888,
              "#fdca26"
             ],
             [
              1,
              "#f0f921"
             ]
            ],
            "type": "histogram2d"
           }
          ],
          "histogram2dcontour": [
           {
            "colorbar": {
             "outlinewidth": 0,
             "ticks": ""
            },
            "colorscale": [
             [
              0,
              "#0d0887"
             ],
             [
              0.1111111111111111,
              "#46039f"
             ],
             [
              0.2222222222222222,
              "#7201a8"
             ],
             [
              0.3333333333333333,
              "#9c179e"
             ],
             [
              0.4444444444444444,
              "#bd3786"
             ],
             [
              0.5555555555555556,
              "#d8576b"
             ],
             [
              0.6666666666666666,
              "#ed7953"
             ],
             [
              0.7777777777777778,
              "#fb9f3a"
             ],
             [
              0.8888888888888888,
              "#fdca26"
             ],
             [
              1,
              "#f0f921"
             ]
            ],
            "type": "histogram2dcontour"
           }
          ],
          "mesh3d": [
           {
            "colorbar": {
             "outlinewidth": 0,
             "ticks": ""
            },
            "type": "mesh3d"
           }
          ],
          "parcoords": [
           {
            "line": {
             "colorbar": {
              "outlinewidth": 0,
              "ticks": ""
             }
            },
            "type": "parcoords"
           }
          ],
          "pie": [
           {
            "automargin": true,
            "type": "pie"
           }
          ],
          "scatter": [
           {
            "fillpattern": {
             "fillmode": "overlay",
             "size": 10,
             "solidity": 0.2
            },
            "type": "scatter"
           }
          ],
          "scatter3d": [
           {
            "line": {
             "colorbar": {
              "outlinewidth": 0,
              "ticks": ""
             }
            },
            "marker": {
             "colorbar": {
              "outlinewidth": 0,
              "ticks": ""
             }
            },
            "type": "scatter3d"
           }
          ],
          "scattercarpet": [
           {
            "marker": {
             "colorbar": {
              "outlinewidth": 0,
              "ticks": ""
             }
            },
            "type": "scattercarpet"
           }
          ],
          "scattergeo": [
           {
            "marker": {
             "colorbar": {
              "outlinewidth": 0,
              "ticks": ""
             }
            },
            "type": "scattergeo"
           }
          ],
          "scattergl": [
           {
            "marker": {
             "colorbar": {
              "outlinewidth": 0,
              "ticks": ""
             }
            },
            "type": "scattergl"
           }
          ],
          "scattermapbox": [
           {
            "marker": {
             "colorbar": {
              "outlinewidth": 0,
              "ticks": ""
             }
            },
            "type": "scattermapbox"
           }
          ],
          "scatterpolar": [
           {
            "marker": {
             "colorbar": {
              "outlinewidth": 0,
              "ticks": ""
             }
            },
            "type": "scatterpolar"
           }
          ],
          "scatterpolargl": [
           {
            "marker": {
             "colorbar": {
              "outlinewidth": 0,
              "ticks": ""
             }
            },
            "type": "scatterpolargl"
           }
          ],
          "scatterternary": [
           {
            "marker": {
             "colorbar": {
              "outlinewidth": 0,
              "ticks": ""
             }
            },
            "type": "scatterternary"
           }
          ],
          "surface": [
           {
            "colorbar": {
             "outlinewidth": 0,
             "ticks": ""
            },
            "colorscale": [
             [
              0,
              "#0d0887"
             ],
             [
              0.1111111111111111,
              "#46039f"
             ],
             [
              0.2222222222222222,
              "#7201a8"
             ],
             [
              0.3333333333333333,
              "#9c179e"
             ],
             [
              0.4444444444444444,
              "#bd3786"
             ],
             [
              0.5555555555555556,
              "#d8576b"
             ],
             [
              0.6666666666666666,
              "#ed7953"
             ],
             [
              0.7777777777777778,
              "#fb9f3a"
             ],
             [
              0.8888888888888888,
              "#fdca26"
             ],
             [
              1,
              "#f0f921"
             ]
            ],
            "type": "surface"
           }
          ],
          "table": [
           {
            "cells": {
             "fill": {
              "color": "#EBF0F8"
             },
             "line": {
              "color": "white"
             }
            },
            "header": {
             "fill": {
              "color": "#C8D4E3"
             },
             "line": {
              "color": "white"
             }
            },
            "type": "table"
           }
          ]
         },
         "layout": {
          "annotationdefaults": {
           "arrowcolor": "#2a3f5f",
           "arrowhead": 0,
           "arrowwidth": 1
          },
          "autotypenumbers": "strict",
          "coloraxis": {
           "colorbar": {
            "outlinewidth": 0,
            "ticks": ""
           }
          },
          "colorscale": {
           "diverging": [
            [
             0,
             "#8e0152"
            ],
            [
             0.1,
             "#c51b7d"
            ],
            [
             0.2,
             "#de77ae"
            ],
            [
             0.3,
             "#f1b6da"
            ],
            [
             0.4,
             "#fde0ef"
            ],
            [
             0.5,
             "#f7f7f7"
            ],
            [
             0.6,
             "#e6f5d0"
            ],
            [
             0.7,
             "#b8e186"
            ],
            [
             0.8,
             "#7fbc41"
            ],
            [
             0.9,
             "#4d9221"
            ],
            [
             1,
             "#276419"
            ]
           ],
           "sequential": [
            [
             0,
             "#0d0887"
            ],
            [
             0.1111111111111111,
             "#46039f"
            ],
            [
             0.2222222222222222,
             "#7201a8"
            ],
            [
             0.3333333333333333,
             "#9c179e"
            ],
            [
             0.4444444444444444,
             "#bd3786"
            ],
            [
             0.5555555555555556,
             "#d8576b"
            ],
            [
             0.6666666666666666,
             "#ed7953"
            ],
            [
             0.7777777777777778,
             "#fb9f3a"
            ],
            [
             0.8888888888888888,
             "#fdca26"
            ],
            [
             1,
             "#f0f921"
            ]
           ],
           "sequentialminus": [
            [
             0,
             "#0d0887"
            ],
            [
             0.1111111111111111,
             "#46039f"
            ],
            [
             0.2222222222222222,
             "#7201a8"
            ],
            [
             0.3333333333333333,
             "#9c179e"
            ],
            [
             0.4444444444444444,
             "#bd3786"
            ],
            [
             0.5555555555555556,
             "#d8576b"
            ],
            [
             0.6666666666666666,
             "#ed7953"
            ],
            [
             0.7777777777777778,
             "#fb9f3a"
            ],
            [
             0.8888888888888888,
             "#fdca26"
            ],
            [
             1,
             "#f0f921"
            ]
           ]
          },
          "colorway": [
           "#636efa",
           "#EF553B",
           "#00cc96",
           "#ab63fa",
           "#FFA15A",
           "#19d3f3",
           "#FF6692",
           "#B6E880",
           "#FF97FF",
           "#FECB52"
          ],
          "font": {
           "color": "#2a3f5f"
          },
          "geo": {
           "bgcolor": "white",
           "lakecolor": "white",
           "landcolor": "#E5ECF6",
           "showlakes": true,
           "showland": true,
           "subunitcolor": "white"
          },
          "hoverlabel": {
           "align": "left"
          },
          "hovermode": "closest",
          "mapbox": {
           "style": "light"
          },
          "paper_bgcolor": "white",
          "plot_bgcolor": "#E5ECF6",
          "polar": {
           "angularaxis": {
            "gridcolor": "white",
            "linecolor": "white",
            "ticks": ""
           },
           "bgcolor": "#E5ECF6",
           "radialaxis": {
            "gridcolor": "white",
            "linecolor": "white",
            "ticks": ""
           }
          },
          "scene": {
           "xaxis": {
            "backgroundcolor": "#E5ECF6",
            "gridcolor": "white",
            "gridwidth": 2,
            "linecolor": "white",
            "showbackground": true,
            "ticks": "",
            "zerolinecolor": "white"
           },
           "yaxis": {
            "backgroundcolor": "#E5ECF6",
            "gridcolor": "white",
            "gridwidth": 2,
            "linecolor": "white",
            "showbackground": true,
            "ticks": "",
            "zerolinecolor": "white"
           },
           "zaxis": {
            "backgroundcolor": "#E5ECF6",
            "gridcolor": "white",
            "gridwidth": 2,
            "linecolor": "white",
            "showbackground": true,
            "ticks": "",
            "zerolinecolor": "white"
           }
          },
          "shapedefaults": {
           "line": {
            "color": "#2a3f5f"
           }
          },
          "ternary": {
           "aaxis": {
            "gridcolor": "white",
            "linecolor": "white",
            "ticks": ""
           },
           "baxis": {
            "gridcolor": "white",
            "linecolor": "white",
            "ticks": ""
           },
           "bgcolor": "#E5ECF6",
           "caxis": {
            "gridcolor": "white",
            "linecolor": "white",
            "ticks": ""
           }
          },
          "title": {
           "x": 0.05
          },
          "xaxis": {
           "automargin": true,
           "gridcolor": "white",
           "linecolor": "white",
           "ticks": "",
           "title": {
            "standoff": 15
           },
           "zerolinecolor": "white",
           "zerolinewidth": 2
          },
          "yaxis": {
           "automargin": true,
           "gridcolor": "white",
           "linecolor": "white",
           "ticks": "",
           "title": {
            "standoff": 15
           },
           "zerolinecolor": "white",
           "zerolinewidth": 2
          }
         }
        },
        "width": 550,
        "xaxis": {
         "anchor": "y",
         "autorange": true,
         "domain": [
          0,
          1
         ],
         "gridcolor": "#e3e1e1",
         "gridwidth": 0.5,
         "linecolor": "black",
         "linewidth": 2,
         "mirror": true,
         "range": [
          -0.11031522038410618,
          2.905118790384106
         ],
         "showgrid": false,
         "showline": true,
         "title": {
          "text": "Dim-2"
         },
         "type": "linear",
         "zeroline": true
        },
        "yaxis": {
         "anchor": "x",
         "autorange": true,
         "color": "black",
         "domain": [
          0,
          1
         ],
         "gridcolor": "grey",
         "gridwidth": 0.5,
         "linecolor": "black",
         "linewidth": 2,
         "mirror": true,
         "range": [
          6.149486691732672,
          13.459351308267328
         ],
         "showgrid": false,
         "showline": true,
         "title": {
          "text": "Dim-1"
         },
         "type": "linear",
         "zeroline": true
        }
       }
      },
      "image/png": "[encoded data removed]",
      "text/html": [
       "<div>                            <div id=\"211e96ca-9366-43bb-ae42-0df57648b514\" class=\"plotly-graph-div\" style=\"height:500px; width:550px;\"></div>            <script type=\"text/javascript\">                require([\"plotly\"], function(Plotly) {                    window.PLOTLYENV=window.PLOTLYENV || {};                                    if (document.getElementById(\"211e96ca-9366-43bb-ae42-0df57648b514\")) {                    Plotly.newPlot(                        \"211e96ca-9366-43bb-ae42-0df57648b514\",                        [{\"hovertemplate\":\"xi=0.1\\u003cbr\\u003ex=%{x}\\u003cbr\\u003ey=%{y}\\u003cbr\\u003esize=%{marker.size}\\u003cbr\\u003en=%{text}\\u003cextra\\u003e\\u003c\\u002fextra\\u003e\",\"legendgroup\":\"0.1\",\"marker\":{\"color\":\"#636efa\",\"size\":[4,4,4,4,4],\"sizemode\":\"area\",\"sizeref\":0.01,\"symbol\":\"circle\",\"line\":{\"color\":\"black\",\"width\":1.5}},\"mode\":\"markers+text\",\"name\":\"0.1\",\"orientation\":\"v\",\"showlegend\":true,\"text\":[\"200\",\"250\",\"300\",\"350\",\"400\"],\"x\":[0.6043547,1.0397116,1.6435918,1.6473093,2.3505995],\"xaxis\":\"x\",\"y\":[7.563996,8.498711,9.824559,11.800989,12.113888],\"yaxis\":\"y\",\"type\":\"scatter\",\"opacity\":1.0},{\"hovertemplate\":\"xi=0.2\\u003cbr\\u003ex=%{x}\\u003cbr\\u003ey=%{y}\\u003cbr\\u003esize=%{marker.size}\\u003cbr\\u003en=%{text}\\u003cextra\\u003e\\u003c\\u002fextra\\u003e\",\"legendgroup\":\"0.2\",\"marker\":{\"color\":\"#EF553B\",\"size\":[4,4,4,4,4],\"sizemode\":\"area\",\"sizeref\":0.01,\"symbol\":\"circle\",\"line\":{\"color\":\"black\",\"width\":1.5}},\"mode\":\"markers+text\",\"name\":\"0.2\",\"orientation\":\"v\",\"showlegend\":true,\"text\":[\"200\",\"250\",\"300\",\"350\",\"400\"],\"x\":[0.8812528,1.320667,0.627088,1.2433218,1.9807787],\"xaxis\":\"x\",\"y\":[7.3152156,8.2793,10.1825695,11.624802,12.437088],\"yaxis\":\"y\",\"type\":\"scatter\",\"opacity\":1.0},{\"hovertemplate\":\"xi=0.3\\u003cbr\\u003ex=%{x}\\u003cbr\\u003ey=%{y}\\u003cbr\\u003esize=%{marker.size}\\u003cbr\\u003en=%{text}\\u003cextra\\u003e\\u003c\\u002fextra\\u003e\",\"legendgroup\":\"0.3\",\"marker\":{\"color\":\"#00cc96\",\"size\":[4,4,4,4,4],\"sizemode\":\"area\",\"sizeref\":0.01,\"symbol\":\"circle\",\"line\":{\"color\":\"black\",\"width\":1.5}},\"mode\":\"markers+text\",\"name\":\"0.3\",\"orientation\":\"v\",\"showlegend\":true,\"text\":[\"200\",\"250\",\"300\",\"350\",\"400\"],\"x\":[0.5479698,1.6754066,1.1098667,1.4057355,2.6320953],\"xaxis\":\"x\",\"y\":[7.0153704,8.664077,10.122618,11.146094,12.552581],\"yaxis\":\"y\",\"type\":\"scatter\",\"opacity\":1.0},{\"hovertemplate\":\"xi=0.4\\u003cbr\\u003ex=%{x}\\u003cbr\\u003ey=%{y}\\u003cbr\\u003esize=%{marker.size}\\u003cbr\\u003en=%{text}\\u003cextra\\u003e\\u003c\\u002fextra\\u003e\",\"legendgroup\":\"0.4\",\"marker\":{\"color\":\"#ab63fa\",\"size\":[4,4,4,4,4],\"sizemode\":\"area\",\"sizeref\":0.01,\"symbol\":\"circle\",\"line\":{\"color\":\"black\",\"width\":1.5}},\"mode\":\"markers+text\",\"name\":\"0.4\",\"orientation\":\"v\",\"showlegend\":true,\"text\":[\"200\",\"250\",\"300\",\"350\",\"400\"],\"x\":[0.16270827,1.99897,0.7117913,1.7952952,1.8628178],\"xaxis\":\"x\",\"y\":[7.342368,8.423617,9.718382,11.079471,12.772805],\"yaxis\":\"y\",\"type\":\"scatter\",\"opacity\":1.0},{\"hovertemplate\":\"xi=0.5\\u003cbr\\u003ex=%{x}\\u003cbr\\u003ey=%{y}\\u003cbr\\u003esize=%{marker.size}\\u003cbr\\u003en=%{text}\\u003cextra\\u003e\\u003c\\u002fextra\\u003e\",\"legendgroup\":\"0.5\",\"marker\":{\"color\":\"#FFA15A\",\"size\":[4,4,4,4,4],\"sizemode\":\"area\",\"sizeref\":0.01,\"symbol\":\"circle\",\"line\":{\"color\":\"black\",\"width\":1.5}},\"mode\":\"markers+text\",\"name\":\"0.5\",\"orientation\":\"v\",\"showlegend\":true,\"text\":[\"200\",\"250\",\"300\",\"350\",\"400\"],\"x\":[0.96739143,1.4341618,1.0713127,2.1632407,2.238217],\"xaxis\":\"x\",\"y\":[6.836033,8.830869,9.636617,11.423911,12.671055],\"yaxis\":\"y\",\"type\":\"scatter\",\"opacity\":1.0}],                        {\"template\":{\"data\":{\"histogram2dcontour\":[{\"type\":\"histogram2dcontour\",\"colorbar\":{\"outlinewidth\":0,\"ticks\":\"\"},\"colorscale\":[[0.0,\"#0d0887\"],[0.1111111111111111,\"#46039f\"],[0.2222222222222222,\"#7201a8\"],[0.3333333333333333,\"#9c179e\"],[0.4444444444444444,\"#bd3786\"],[0.5555555555555556,\"#d8576b\"],[0.6666666666666666,\"#ed7953\"],[0.7777777777777778,\"#fb9f3a\"],[0.8888888888888888,\"#fdca26\"],[1.0,\"#f0f921\"]]}],\"choropleth\":[{\"type\":\"choropleth\",\"colorbar\":{\"outlinewidth\":0,\"ticks\":\"\"}}],\"histogram2d\":[{\"type\":\"histogram2d\",\"colorbar\":{\"outlinewidth\":0,\"ticks\":\"\"},\"colorscale\":[[0.0,\"#0d0887\"],[0.1111111111111111,\"#46039f\"],[0.2222222222222222,\"#7201a8\"],[0.3333333333333333,\"#9c179e\"],[0.4444444444444444,\"#bd3786\"],[0.5555555555555556,\"#d8576b\"],[0.6666666666666666,\"#ed7953\"],[0.7777777777777778,\"#fb9f3a\"],[0.8888888888888888,\"#fdca26\"],[1.0,\"#f0f921\"]]}],\"heatmap\":[{\"type\":\"heatmap\",\"colorbar\":{\"outlinewidth\":0,\"ticks\":\"\"},\"colorscale\":[[0.0,\"#0d0887\"],[0.1111111111111111,\"#46039f\"],[0.2222222222222222,\"#7201a8\"],[0.3333333333333333,\"#9c179e\"],[0.4444444444444444,\"#bd3786\"],[0.5555555555555556,\"#d8576b\"],[0.6666666666666666,\"#ed7953\"],[0.7777777777777778,\"#fb9f3a\"],[0.8888888888888888,\"#fdca26\"],[1.0,\"#f0f921\"]]}],\"heatmapgl\":[{\"type\":\"heatmapgl\",\"colorbar\":{\"outlinewidth\":0,\"ticks\":\"\"},\"colorscale\":[[0.0,\"#0d0887\"],[0.1111111111111111,\"#46039f\"],[0.2222222222222222,\"#7201a8\"],[0.3333333333333333,\"#9c179e\"],[0.4444444444444444,\"#bd3786\"],[0.5555555555555556,\"#d8576b\"],[0.6666666666666666,\"#ed7953\"],[0.7777777777777778,\"#fb9f3a\"],[0.8888888888888888,\"#fdca26\"],[1.0,\"#f0f921\"]]}],\"contourcarpet\":[{\"type\":\"contourcarpet\",\"colorbar\":{\"outlinewidth\":0,\"ticks\":\"\"}}],\"contour\":[{\"type\":\"contour\",\"colorbar\":{\"outlinewidth\":0,\"ticks\":\"\"},\"colorscale\":[[0.0,\"#0d0887\"],[0.1111111111111111,\"#46039f\"],[0.2222222222222222,\"#7201a8\"],[0.3333333333333333,\"#9c179e\"],[0.4444444444444444,\"#bd3786\"],[0.5555555555555556,\"#d8576b\"],[0.6666666666666666,\"#ed7953\"],[0.7777777777777778,\"#fb9f3a\"],[0.8888888888888888,\"#fdca26\"],[1.0,\"#f0f921\"]]}],\"surface\":[{\"type\":\"surface\",\"colorbar\":{\"outlinewidth\":0,\"ticks\":\"\"},\"colorscale\":[[0.0,\"#0d0887\"],[0.1111111111111111,\"#46039f\"],[0.2222222222222222,\"#7201a8\"],[0.3333333333333333,\"#9c179e\"],[0.4444444444444444,\"#bd3786\"],[0.5555555555555556,\"#d8576b\"],[0.6666666666666666,\"#ed7953\"],[0.7777777777777778,\"#fb9f3a\"],[0.8888888888888888,\"#fdca26\"],[1.0,\"#f0f921\"]]}],\"mesh3d\":[{\"type\":\"mesh3d\",\"colorbar\":{\"outlinewidth\":0,\"ticks\":\"\"}}],\"scatter\":[{\"fillpattern\":{\"fillmode\":\"overlay\",\"size\":10,\"solidity\":0.2},\"type\":\"scatter\"}],\"parcoords\":[{\"type\":\"parcoords\",\"line\":{\"colorbar\":{\"outlinewidth\":0,\"ticks\":\"\"}}}],\"scatterpolargl\":[{\"type\":\"scatterpolargl\",\"marker\":{\"colorbar\":{\"outlinewidth\":0,\"ticks\":\"\"}}}],\"bar\":[{\"error_x\":{\"color\":\"#2a3f5f\"},\"error_y\":{\"color\":\"#2a3f5f\"},\"marker\":{\"line\":{\"color\":\"#E5ECF6\",\"width\":0.5},\"pattern\":{\"fillmode\":\"overlay\",\"size\":10,\"solidity\":0.2}},\"type\":\"bar\"}],\"scattergeo\":[{\"type\":\"scattergeo\",\"marker\":{\"colorbar\":{\"outlinewidth\":0,\"ticks\":\"\"}}}],\"scatterpolar\":[{\"type\":\"scatterpolar\",\"marker\":{\"colorbar\":{\"outlinewidth\":0,\"ticks\":\"\"}}}],\"histogram\":[{\"marker\":{\"pattern\":{\"fillmode\":\"overlay\",\"size\":10,\"solidity\":0.2}},\"type\":\"histogram\"}],\"scattergl\":[{\"type\":\"scattergl\",\"marker\":{\"colorbar\":{\"outlinewidth\":0,\"ticks\":\"\"}}}],\"scatter3d\":[{\"type\":\"scatter3d\",\"line\":{\"colorbar\":{\"outlinewidth\":0,\"ticks\":\"\"}},\"marker\":{\"colorbar\":{\"outlinewidth\":0,\"ticks\":\"\"}}}],\"scattermapbox\":[{\"type\":\"scattermapbox\",\"marker\":{\"colorbar\":{\"outlinewidth\":0,\"ticks\":\"\"}}}],\"scatterternary\":[{\"type\":\"scatterternary\",\"marker\":{\"colorbar\":{\"outlinewidth\":0,\"ticks\":\"\"}}}],\"scattercarpet\":[{\"type\":\"scattercarpet\",\"marker\":{\"colorbar\":{\"outlinewidth\":0,\"ticks\":\"\"}}}],\"carpet\":[{\"aaxis\":{\"endlinecolor\":\"#2a3f5f\",\"gridcolor\":\"white\",\"linecolor\":\"white\",\"minorgridcolor\":\"white\",\"startlinecolor\":\"#2a3f5f\"},\"baxis\":{\"endlinecolor\":\"#2a3f5f\",\"gridcolor\":\"white\",\"linecolor\":\"white\",\"minorgridcolor\":\"white\",\"startlinecolor\":\"#2a3f5f\"},\"type\":\"carpet\"}],\"table\":[{\"cells\":{\"fill\":{\"color\":\"#EBF0F8\"},\"line\":{\"color\":\"white\"}},\"header\":{\"fill\":{\"color\":\"#C8D4E3\"},\"line\":{\"color\":\"white\"}},\"type\":\"table\"}],\"barpolar\":[{\"marker\":{\"line\":{\"color\":\"#E5ECF6\",\"width\":0.5},\"pattern\":{\"fillmode\":\"overlay\",\"size\":10,\"solidity\":0.2}},\"type\":\"barpolar\"}],\"pie\":[{\"automargin\":true,\"type\":\"pie\"}]},\"layout\":{\"autotypenumbers\":\"strict\",\"colorway\":[\"#636efa\",\"#EF553B\",\"#00cc96\",\"#ab63fa\",\"#FFA15A\",\"#19d3f3\",\"#FF6692\",\"#B6E880\",\"#FF97FF\",\"#FECB52\"],\"font\":{\"color\":\"#2a3f5f\"},\"hovermode\":\"closest\",\"hoverlabel\":{\"align\":\"left\"},\"paper_bgcolor\":\"white\",\"plot_bgcolor\":\"#E5ECF6\",\"polar\":{\"bgcolor\":\"#E5ECF6\",\"angularaxis\":{\"gridcolor\":\"white\",\"linecolor\":\"white\",\"ticks\":\"\"},\"radialaxis\":{\"gridcolor\":\"white\",\"linecolor\":\"white\",\"ticks\":\"\"}},\"ternary\":{\"bgcolor\":\"#E5ECF6\",\"aaxis\":{\"gridcolor\":\"white\",\"linecolor\":\"white\",\"ticks\":\"\"},\"baxis\":{\"gridcolor\":\"white\",\"linecolor\":\"white\",\"ticks\":\"\"},\"caxis\":{\"gridcolor\":\"white\",\"linecolor\":\"white\",\"ticks\":\"\"}},\"coloraxis\":{\"colorbar\":{\"outlinewidth\":0,\"ticks\":\"\"}},\"colorscale\":{\"sequential\":[[0.0,\"#0d0887\"],[0.1111111111111111,\"#46039f\"],[0.2222222222222222,\"#7201a8\"],[0.3333333333333333,\"#9c179e\"],[0.4444444444444444,\"#bd3786\"],[0.5555555555555556,\"#d8576b\"],[0.6666666666666666,\"#ed7953\"],[0.7777777777777778,\"#fb9f3a\"],[0.8888888888888888,\"#fdca26\"],[1.0,\"#f0f921\"]],\"sequentialminus\":[[0.0,\"#0d0887\"],[0.1111111111111111,\"#46039f\"],[0.2222222222222222,\"#7201a8\"],[0.3333333333333333,\"#9c179e\"],[0.4444444444444444,\"#bd3786\"],[0.5555555555555556,\"#d8576b\"],[0.6666666666666666,\"#ed7953\"],[0.7777777777777778,\"#fb9f3a\"],[0.8888888888888888,\"#fdca26\"],[1.0,\"#f0f921\"]],\"diverging\":[[0,\"#8e0152\"],[0.1,\"#c51b7d\"],[0.2,\"#de77ae\"],[0.3,\"#f1b6da\"],[0.4,\"#fde0ef\"],[0.5,\"#f7f7f7\"],[0.6,\"#e6f5d0\"],[0.7,\"#b8e186\"],[0.8,\"#7fbc41\"],[0.9,\"#4d9221\"],[1,\"#276419\"]]},\"xaxis\":{\"gridcolor\":\"white\",\"linecolor\":\"white\",\"ticks\":\"\",\"title\":{\"standoff\":15},\"zerolinecolor\":\"white\",\"automargin\":true,\"zerolinewidth\":2},\"yaxis\":{\"gridcolor\":\"white\",\"linecolor\":\"white\",\"ticks\":\"\",\"title\":{\"standoff\":15},\"zerolinecolor\":\"white\",\"automargin\":true,\"zerolinewidth\":2},\"scene\":{\"xaxis\":{\"backgroundcolor\":\"#E5ECF6\",\"gridcolor\":\"white\",\"linecolor\":\"white\",\"showbackground\":true,\"ticks\":\"\",\"zerolinecolor\":\"white\",\"gridwidth\":2},\"yaxis\":{\"backgroundcolor\":\"#E5ECF6\",\"gridcolor\":\"white\",\"linecolor\":\"white\",\"showbackground\":true,\"ticks\":\"\",\"zerolinecolor\":\"white\",\"gridwidth\":2},\"zaxis\":{\"backgroundcolor\":\"#E5ECF6\",\"gridcolor\":\"white\",\"linecolor\":\"white\",\"showbackground\":true,\"ticks\":\"\",\"zerolinecolor\":\"white\",\"gridwidth\":2}},\"shapedefaults\":{\"line\":{\"color\":\"#2a3f5f\"}},\"annotationdefaults\":{\"arrowcolor\":\"#2a3f5f\",\"arrowhead\":0,\"arrowwidth\":1},\"geo\":{\"bgcolor\":\"white\",\"landcolor\":\"#E5ECF6\",\"subunitcolor\":\"white\",\"showland\":true,\"showlakes\":true,\"lakecolor\":\"white\"},\"title\":{\"x\":0.05},\"mapbox\":{\"style\":\"light\"}}},\"xaxis\":{\"anchor\":\"y\",\"domain\":[0.0,1.0],\"title\":{\"text\":\"Dim-2\"},\"mirror\":true,\"zeroline\":true,\"showline\":true,\"linecolor\":\"black\",\"linewidth\":2,\"showgrid\":false,\"gridwidth\":0.5,\"gridcolor\":\"#e3e1e1\"},\"yaxis\":{\"anchor\":\"x\",\"domain\":[0.0,1.0],\"title\":{\"text\":\"Dim-1\"},\"color\":\"black\",\"zeroline\":true,\"showline\":true,\"linecolor\":\"black\",\"mirror\":true,\"linewidth\":2,\"showgrid\":false,\"gridwidth\":0.5,\"gridcolor\":\"grey\"},\"legend\":{\"title\":{\"text\":\"xi\"},\"tracegroupgap\":0,\"itemsizing\":\"constant\",\"yanchor\":\"bottom\",\"y\":0.02,\"xanchor\":\"left\",\"x\":0.8,\"bordercolor\":\"Black\",\"borderwidth\":1},\"margin\":{\"t\":60},\"paper_bgcolor\":\"white\",\"plot_bgcolor\":\"white\",\"font\":{\"size\":13,\"color\":\"black\"},\"width\":550,\"height\":500,\"showlegend\":true},                        {\"responsive\": true}                    ).then(function(){\n",
       "                            \n",
       "var gd = document.getElementById('211e96ca-9366-43bb-ae42-0df57648b514');\n",
       "var x = new MutationObserver(function (mutations, observer) {{\n",
       "        var display = window.getComputedStyle(gd).display;\n",
       "        if (!display || display === 'none') {{\n",
       "            console.log([gd, 'removed!']);\n",
       "            Plotly.purge(gd);\n",
       "            observer.disconnect();\n",
       "        }}\n",
       "}});\n",
       "\n",
       "// Listen for the removal of the full notebook cells\n",
       "var notebookContainer = gd.closest('#notebook-container');\n",
       "if (notebookContainer) {{\n",
       "    x.observe(notebookContainer, {childList: true});\n",
       "}}\n",
       "\n",
       "// Listen for the clearing of the current output cell\n",
       "var outputEl = gd.closest('.output');\n",
       "if (outputEl) {{\n",
       "    x.observe(outputEl, {childList: true});\n",
       "}}\n",
       "\n",
       "                        })                };                });            </script>        </div>"
      ]
     },
     "metadata": {},
     "output_type": "display_data"
    }
   ],
   "source": [
    "fig = px.scatter(data, x=\"x\", y=\"y\", color=\"xi\", text=\"n\", size=[4]*len(data))\n",
    "\n",
    "# Update figure layout\n",
    "fig.update_layout(paper_bgcolor='white')\n",
    "fig.update_layout(plot_bgcolor='white')\n",
    "fig.update_yaxes(color='black')\n",
    "fig.update_layout(\n",
    "    yaxis = dict(\n",
    "        title = \"Dim-1\",\n",
    "        zeroline=True,\n",
    "        showline = True,\n",
    "        linecolor = 'black',\n",
    "        mirror=True,\n",
    "        linewidth = 2\n",
    "    ),\n",
    "    xaxis = dict(\n",
    "        title = \"Dim-2\",\n",
    "        mirror=True,\n",
    "        zeroline=True,\n",
    "        showline = True,\n",
    "        linecolor = 'black',\n",
    "        linewidth = 2,\n",
    "    ),\n",
    "    width=550,\n",
    "    height=500,\n",
    "    font=dict(\n",
    "    size=13,\n",
    "    color=\"black\")\n",
    "        \n",
    ")\n",
    "fig.update_layout(showlegend=True)\n",
    "fig.update_layout(legend=dict(\n",
    "    yanchor=\"bottom\",\n",
    "    y=0.02,\n",
    "    xanchor=\"left\",\n",
    "    x=0.8,\n",
    "    bordercolor=\"Black\",\n",
    "    borderwidth=1\n",
    "))\n",
    "\n",
    "\n",
    "\n",
    "fig.update_xaxes(showgrid=False, gridwidth=0.5, gridcolor='#e3e1e1')\n",
    "fig.update_yaxes(showgrid=False, gridwidth=0.5, gridcolor='grey')\n",
    "fig.update_traces(marker_line_color='black', marker_line_width=1.5, opacity=1.0)\n",
    "\n",
    "\n",
    "fig.show()"
   ]
  },
  {
   "cell_type": "code",
   "execution_count": null,
   "id": "059e905e-c090-4392-8af1-06c377a56b12",
   "metadata": {},
   "outputs": [],
   "source": []
  },
  {
   "cell_type": "code",
   "execution_count": null,
   "id": "b2f7133d-6626-4cb4-8792-0790939d84e7",
   "metadata": {},
   "outputs": [],
   "source": []
  }
 ],
 "metadata": {
  "kernelspec": {
   "display_name": "Python 3 (ipykernel)",
   "language": "python",
   "name": "python3"
  },
  "language_info": {
   "codemirror_mode": {
    "name": "ipython",
    "version": 3
   },
   "file_extension": ".py",
   "mimetype": "text/x-python",
   "name": "python",
   "nbconvert_exporter": "python",
   "pygments_lexer": "ipython3",
   "version": "3.11.5"
  }
 },
 "nbformat": 4,
 "nbformat_minor": 5
}
