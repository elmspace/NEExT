{
 "cells": [
  {
   "cell_type": "code",
   "execution_count": 1,
   "id": "6608c1bf-0cf0-4ab5-8b51-2285e56d36f8",
   "metadata": {},
   "outputs": [],
   "source": [
    "import plotly.express as px\n",
    "import pandas as pd"
   ]
  },
  {
   "cell_type": "code",
   "execution_count": 2,
   "id": "071487f0-ee3d-4bab-a211-150f2d720497",
   "metadata": {},
   "outputs": [],
   "source": [
    "data = pd.read_csv(\"./results/results.csv\")"
   ]
  },
  {
   "cell_type": "code",
   "execution_count": 6,
   "id": "09eff923-ba13-4510-8dc4-10f1725ec63e",
   "metadata": {},
   "outputs": [],
   "source": [
    "data_mean = pd.DataFrame(data.groupby(by=[\"emb_dim\", \"feat_name\"])[[\"mae\", \"mse\"]].mean()).reset_index()\n",
    "data_std = pd.DataFrame(data.groupby(by=[\"emb_dim\", \"feat_name\"])[[\"mae\", \"mse\"]].std()).reset_index()\n",
    "data_mean.columns = [\"emb_dim\", \"feat_name\", \"mae_mean\", \"mse_mean\"]\n",
    "data_std.columns = [\"emb_dim\", \"feat_name\", \"mae_std\", \"mse_std\"]"
   ]
  },
  {
   "cell_type": "code",
   "execution_count": 18,
   "id": "849915b1-2efd-4495-9f79-e9d20921c62c",
   "metadata": {},
   "outputs": [
    {
     "data": {
      "text/plain": [
       "array(['basic_expansion', 'basic_expansion lsme',\n",
       "       'basic_expansion lsme page_rank', 'closeness_centrality',\n",
       "       'degree_centrality', 'eigenvector_centrality', 'lsme', 'page_rank'],\n",
       "      dtype=object)"
      ]
     },
     "execution_count": 18,
     "metadata": {},
     "output_type": "execute_result"
    }
   ],
   "source": [
    "data_mean[\"feat_name\"].unique()"
   ]
  },
  {
   "cell_type": "code",
   "execution_count": 19,
   "id": "13424f62-6ced-47c8-b43b-28a2777e9e80",
   "metadata": {},
   "outputs": [],
   "source": []
  },
  {
   "cell_type": "code",
   "execution_count": 7,
   "id": "1a2168a9-3017-4cf8-8907-455881f26bec",
   "metadata": {},
   "outputs": [
    {
     "data": {
      "text/html": [
       "<div>\n",
       "<style scoped>\n",
       "    .dataframe tbody tr th:only-of-type {\n",
       "        vertical-align: middle;\n",
       "    }\n",
       "\n",
       "    .dataframe tbody tr th {\n",
       "        vertical-align: top;\n",
       "    }\n",
       "\n",
       "    .dataframe thead th {\n",
       "        text-align: right;\n",
       "    }\n",
       "</style>\n",
       "<table border=\"1\" class=\"dataframe\">\n",
       "  <thead>\n",
       "    <tr style=\"text-align: right;\">\n",
       "      <th></th>\n",
       "      <th>emb_dim</th>\n",
       "      <th>feat_name</th>\n",
       "      <th>mae_mean</th>\n",
       "      <th>mse_mean</th>\n",
       "    </tr>\n",
       "  </thead>\n",
       "  <tbody>\n",
       "    <tr>\n",
       "      <th>0</th>\n",
       "      <td>2</td>\n",
       "      <td>basic_expansion</td>\n",
       "      <td>0.178188</td>\n",
       "      <td>0.051222</td>\n",
       "    </tr>\n",
       "    <tr>\n",
       "      <th>1</th>\n",
       "      <td>2</td>\n",
       "      <td>basic_expansion lsme</td>\n",
       "      <td>0.076548</td>\n",
       "      <td>0.010342</td>\n",
       "    </tr>\n",
       "    <tr>\n",
       "      <th>2</th>\n",
       "      <td>2</td>\n",
       "      <td>basic_expansion lsme page_rank</td>\n",
       "      <td>0.073434</td>\n",
       "      <td>0.009554</td>\n",
       "    </tr>\n",
       "  </tbody>\n",
       "</table>\n",
       "</div>"
      ],
      "text/plain": [
       "   emb_dim                       feat_name  mae_mean  mse_mean\n",
       "0        2                 basic_expansion  0.178188  0.051222\n",
       "1        2            basic_expansion lsme  0.076548  0.010342\n",
       "2        2  basic_expansion lsme page_rank  0.073434  0.009554"
      ]
     },
     "execution_count": 7,
     "metadata": {},
     "output_type": "execute_result"
    }
   ],
   "source": [
    "data_mean.head(3)"
   ]
  },
  {
   "cell_type": "code",
   "execution_count": 8,
   "id": "cb092873-d39e-4f79-a1f1-94f2036f4612",
   "metadata": {},
   "outputs": [
    {
     "data": {
      "text/html": [
       "<div>\n",
       "<style scoped>\n",
       "    .dataframe tbody tr th:only-of-type {\n",
       "        vertical-align: middle;\n",
       "    }\n",
       "\n",
       "    .dataframe tbody tr th {\n",
       "        vertical-align: top;\n",
       "    }\n",
       "\n",
       "    .dataframe thead th {\n",
       "        text-align: right;\n",
       "    }\n",
       "</style>\n",
       "<table border=\"1\" class=\"dataframe\">\n",
       "  <thead>\n",
       "    <tr style=\"text-align: right;\">\n",
       "      <th></th>\n",
       "      <th>emb_dim</th>\n",
       "      <th>feat_name</th>\n",
       "      <th>mae_std</th>\n",
       "      <th>mse_std</th>\n",
       "    </tr>\n",
       "  </thead>\n",
       "  <tbody>\n",
       "    <tr>\n",
       "      <th>0</th>\n",
       "      <td>2</td>\n",
       "      <td>basic_expansion</td>\n",
       "      <td>0.008559</td>\n",
       "      <td>0.004761</td>\n",
       "    </tr>\n",
       "    <tr>\n",
       "      <th>1</th>\n",
       "      <td>2</td>\n",
       "      <td>basic_expansion lsme</td>\n",
       "      <td>0.007030</td>\n",
       "      <td>0.002037</td>\n",
       "    </tr>\n",
       "    <tr>\n",
       "      <th>2</th>\n",
       "      <td>2</td>\n",
       "      <td>basic_expansion lsme page_rank</td>\n",
       "      <td>0.005086</td>\n",
       "      <td>0.001384</td>\n",
       "    </tr>\n",
       "  </tbody>\n",
       "</table>\n",
       "</div>"
      ],
      "text/plain": [
       "   emb_dim                       feat_name   mae_std   mse_std\n",
       "0        2                 basic_expansion  0.008559  0.004761\n",
       "1        2            basic_expansion lsme  0.007030  0.002037\n",
       "2        2  basic_expansion lsme page_rank  0.005086  0.001384"
      ]
     },
     "execution_count": 8,
     "metadata": {},
     "output_type": "execute_result"
    }
   ],
   "source": [
    "data_std.head(3)"
   ]
  },
  {
   "cell_type": "code",
   "execution_count": 10,
   "id": "f769f27c-6499-4961-bf4e-60be35444d35",
   "metadata": {},
   "outputs": [],
   "source": [
    "df = data_mean.merge(data_std, on=[\"emb_dim\", \"feat_name\"], how=\"inner\")"
   ]
  },
  {
   "cell_type": "code",
   "execution_count": 25,
   "id": "2ae64c1b-8c64-49cb-93b8-3530579088f9",
   "metadata": {},
   "outputs": [
    {
     "data": {
      "text/html": [
       "<div>\n",
       "<style scoped>\n",
       "    .dataframe tbody tr th:only-of-type {\n",
       "        vertical-align: middle;\n",
       "    }\n",
       "\n",
       "    .dataframe tbody tr th {\n",
       "        vertical-align: top;\n",
       "    }\n",
       "\n",
       "    .dataframe thead th {\n",
       "        text-align: right;\n",
       "    }\n",
       "</style>\n",
       "<table border=\"1\" class=\"dataframe\">\n",
       "  <thead>\n",
       "    <tr style=\"text-align: right;\">\n",
       "      <th></th>\n",
       "      <th>emb_dim</th>\n",
       "      <th>feat_name</th>\n",
       "      <th>mae_mean</th>\n",
       "      <th>mse_mean</th>\n",
       "      <th>mae_std</th>\n",
       "      <th>mse_std</th>\n",
       "      <th>feat_name_pretty</th>\n",
       "      <th>Feat Name</th>\n",
       "      <th>Feature Name</th>\n",
       "    </tr>\n",
       "  </thead>\n",
       "  <tbody>\n",
       "    <tr>\n",
       "      <th>0</th>\n",
       "      <td>2</td>\n",
       "      <td>basic_expansion</td>\n",
       "      <td>0.178188</td>\n",
       "      <td>0.051222</td>\n",
       "      <td>0.008559</td>\n",
       "      <td>0.004761</td>\n",
       "      <td>Basic Expansion</td>\n",
       "      <td>Basic Expansion</td>\n",
       "      <td>Basic Expansion</td>\n",
       "    </tr>\n",
       "    <tr>\n",
       "      <th>1</th>\n",
       "      <td>2</td>\n",
       "      <td>basic_expansion lsme</td>\n",
       "      <td>0.076548</td>\n",
       "      <td>0.010342</td>\n",
       "      <td>0.007030</td>\n",
       "      <td>0.002037</td>\n",
       "      <td>Basic Expansion + LSME</td>\n",
       "      <td>Basic Expansion + LSME</td>\n",
       "      <td>Basic Expansion + LSME</td>\n",
       "    </tr>\n",
       "    <tr>\n",
       "      <th>2</th>\n",
       "      <td>2</td>\n",
       "      <td>basic_expansion lsme page_rank</td>\n",
       "      <td>0.073434</td>\n",
       "      <td>0.009554</td>\n",
       "      <td>0.005086</td>\n",
       "      <td>0.001384</td>\n",
       "      <td>Basic Expansion + LSME + PageRank</td>\n",
       "      <td>Basic Expansion + LSME + PageRank</td>\n",
       "      <td>Basic Expansion + LSME + PageRank</td>\n",
       "    </tr>\n",
       "  </tbody>\n",
       "</table>\n",
       "</div>"
      ],
      "text/plain": [
       "   emb_dim                       feat_name  mae_mean  mse_mean   mae_std  \\\n",
       "0        2                 basic_expansion  0.178188  0.051222  0.008559   \n",
       "1        2            basic_expansion lsme  0.076548  0.010342  0.007030   \n",
       "2        2  basic_expansion lsme page_rank  0.073434  0.009554  0.005086   \n",
       "\n",
       "    mse_std                   feat_name_pretty  \\\n",
       "0  0.004761                    Basic Expansion   \n",
       "1  0.002037             Basic Expansion + LSME   \n",
       "2  0.001384  Basic Expansion + LSME + PageRank   \n",
       "\n",
       "                           Feat Name                       Feature Name  \n",
       "0                    Basic Expansion                    Basic Expansion  \n",
       "1             Basic Expansion + LSME             Basic Expansion + LSME  \n",
       "2  Basic Expansion + LSME + PageRank  Basic Expansion + LSME + PageRank  "
      ]
     },
     "execution_count": 25,
     "metadata": {},
     "output_type": "execute_result"
    }
   ],
   "source": [
    "feat_name_map = {}\n",
    "feat_name_map[\"basic_expansion\"] = \"Basic Expansion\"\n",
    "feat_name_map[\"basic_expansion lsme\"] = \"Basic Expansion + LSME\"\n",
    "feat_name_map[\"basic_expansion lsme page_rank\"] = \"Basic Expansion + LSME + PageRank\"\n",
    "feat_name_map[\"closeness_centrality\"] = \"Closeness Centrality\"\n",
    "feat_name_map[\"degree_centrality\"] = \"Degree Centrality\"\n",
    "feat_name_map[\"eigenvector_centrality\"] = \"Eigenvector Centrality\"\n",
    "feat_name_map[\"lsme\"] = \"LSME\"\n",
    "feat_name_map[\"page_rank\"] = \"PageRank\"\n",
    "\n",
    "df[\"Feature Name\"] = df[\"feat_name\"].apply(lambda x : feat_name_map[x])\n",
    "df.head(3)"
   ]
  },
  {
   "cell_type": "code",
   "execution_count": 38,
   "id": "e59250d8-b360-4719-b65c-919909f3ee2a",
   "metadata": {},
   "outputs": [
    {
     "data": {
      "application/vnd.plotly.v1+json": {
       "config": {
        "plotlyServerURL": "https://plot.ly"
       },
       "data": [
        {
         "error_y": {
          "array": [
           0.008559356115396403,
           0.008515317886999222,
           0.013475625674504941,
           0.009325524061061604,
           0.008426008372966903,
           0.008431511438239893,
           0.01173804145818796
          ]
         },
         "hovertemplate": "Feature Name=Basic Expansion<br>emb_dim=%{x}<br>mae_mean=%{y}<extra></extra>",
         "legendgroup": "Basic Expansion",
         "line": {
          "color": "#636efa",
          "dash": "solid"
         },
         "marker": {
          "line": {
           "color": "black",
           "width": 1.5
          },
          "symbol": "circle"
         },
         "mode": "lines+markers",
         "name": "Basic Expansion",
         "opacity": 1,
         "orientation": "v",
         "showlegend": true,
         "type": "scatter",
         "x": [
          2,
          3,
          4,
          5,
          6,
          7,
          8
         ],
         "xaxis": "x",
         "y": [
          0.17818844805570097,
          0.07797900223156592,
          0.07674567903499191,
          0.0655880207367522,
          0.06338975957447202,
          0.06485470857717474,
          0.06758282118472772
         ],
         "yaxis": "y"
        },
        {
         "error_y": {
          "array": [
           0.0070297842020312275,
           0.0070640384497336,
           0.007631104422176442,
           0.006732775686142809,
           0.007131045850221425,
           0.008113962461182223,
           0.01277790328643256
          ]
         },
         "hovertemplate": "Feature Name=Basic Expansion + LSME<br>emb_dim=%{x}<br>mae_mean=%{y}<extra></extra>",
         "legendgroup": "Basic Expansion + LSME",
         "line": {
          "color": "#EF553B",
          "dash": "solid"
         },
         "marker": {
          "line": {
           "color": "black",
           "width": 1.5
          },
          "symbol": "circle"
         },
         "mode": "lines+markers",
         "name": "Basic Expansion + LSME",
         "opacity": 1,
         "orientation": "v",
         "showlegend": true,
         "type": "scatter",
         "x": [
          2,
          3,
          4,
          5,
          6,
          7,
          8
         ],
         "xaxis": "x",
         "y": [
          0.07654755208679907,
          0.06855858068019649,
          0.06841658085451056,
          0.06463590797925382,
          0.06424118532894162,
          0.0629052462192828,
          0.06777378864672112
         ],
         "yaxis": "y"
        },
        {
         "error_y": {
          "array": [
           0.005086308849546912,
           0.00969655061112052,
           0.008668429595023333,
           0.008609802537229514,
           0.012303920768391713,
           0.0076375535738111445,
           0.011755688315541213
          ]
         },
         "hovertemplate": "Feature Name=Basic Expansion + LSME + PageRank<br>emb_dim=%{x}<br>mae_mean=%{y}<extra></extra>",
         "legendgroup": "Basic Expansion + LSME + PageRank",
         "line": {
          "color": "#00cc96",
          "dash": "solid"
         },
         "marker": {
          "line": {
           "color": "black",
           "width": 1.5
          },
          "symbol": "circle"
         },
         "mode": "lines+markers",
         "name": "Basic Expansion + LSME + PageRank",
         "opacity": 1,
         "orientation": "v",
         "showlegend": true,
         "type": "scatter",
         "x": [
          2,
          3,
          4,
          5,
          6,
          7,
          8
         ],
         "xaxis": "x",
         "y": [
          0.07343428517796269,
          0.06840382451389154,
          0.06960775632855505,
          0.06330053964924826,
          0.06756623913989773,
          0.06500486568846223,
          0.06650161456679499
         ],
         "yaxis": "y"
        },
        {
         "error_y": {
          "array": [
           0.012191204550343565,
           0.008859269865632995,
           0.01196017300166547,
           0.010923269324892486,
           0.00814005898213497,
           0.010598321824533715,
           0.009578341871587905
          ]
         },
         "hovertemplate": "Feature Name=Closeness Centrality<br>emb_dim=%{x}<br>mae_mean=%{y}<extra></extra>",
         "legendgroup": "Closeness Centrality",
         "line": {
          "color": "#ab63fa",
          "dash": "solid"
         },
         "marker": {
          "line": {
           "color": "black",
           "width": 1.5
          },
          "symbol": "circle"
         },
         "mode": "lines+markers",
         "name": "Closeness Centrality",
         "opacity": 1,
         "orientation": "v",
         "showlegend": true,
         "type": "scatter",
         "x": [
          2,
          3,
          4,
          5,
          6,
          7,
          8
         ],
         "xaxis": "x",
         "y": [
          0.06863732854619078,
          0.06878236039023519,
          0.07452254978967664,
          0.06717923663860242,
          0.06567775707073552,
          0.06928486856362676,
          0.06169200567923758
         ],
         "yaxis": "y"
        },
        {
         "error_y": {
          "array": [
           0.012494782214235731,
           0.0064776062185889485,
           0.007997819864609039,
           0.00534338722464618,
           0.006663690344835559,
           0.009566214072037763,
           0.01113237120226407
          ]
         },
         "hovertemplate": "Feature Name=Degree Centrality<br>emb_dim=%{x}<br>mae_mean=%{y}<extra></extra>",
         "legendgroup": "Degree Centrality",
         "line": {
          "color": "#FFA15A",
          "dash": "solid"
         },
         "marker": {
          "line": {
           "color": "black",
           "width": 1.5
          },
          "symbol": "circle"
         },
         "mode": "lines+markers",
         "name": "Degree Centrality",
         "opacity": 1,
         "orientation": "v",
         "showlegend": true,
         "type": "scatter",
         "x": [
          2,
          3,
          4,
          5,
          6,
          7,
          8
         ],
         "xaxis": "x",
         "y": [
          0.23575898510392637,
          0.09520602287379205,
          0.09398451308580404,
          0.07177286177745337,
          0.0687938135451769,
          0.06581396083931597,
          0.06823548476012208
         ],
         "yaxis": "y"
        },
        {
         "error_y": {
          "array": [
           0.012000846481387929,
           0.007792383037214094,
           0.006075558450414729,
           0.006643621946228165,
           0.006558863304463325,
           0.007107058918749802,
           0.006875012859166507
          ]
         },
         "hovertemplate": "Feature Name=Eigenvector Centrality<br>emb_dim=%{x}<br>mae_mean=%{y}<extra></extra>",
         "legendgroup": "Eigenvector Centrality",
         "line": {
          "color": "#19d3f3",
          "dash": "solid"
         },
         "marker": {
          "line": {
           "color": "black",
           "width": 1.5
          },
          "symbol": "circle"
         },
         "mode": "lines+markers",
         "name": "Eigenvector Centrality",
         "opacity": 1,
         "orientation": "v",
         "showlegend": true,
         "type": "scatter",
         "x": [
          2,
          3,
          4,
          5,
          6,
          7,
          8
         ],
         "xaxis": "x",
         "y": [
          0.20370375144275277,
          0.09969014006414956,
          0.10469976815201827,
          0.1006689374420528,
          0.07697696127190184,
          0.07763258476121955,
          0.07459102407098822
         ],
         "yaxis": "y"
        },
        {
         "error_y": {
          "array": [
           0.00519401324334041,
           0.006369544651670675,
           0.007612693767157187,
           0.009629285605412454,
           0.009253937532596127,
           0.008285957410864034,
           0.008152369770358806
          ]
         },
         "hovertemplate": "Feature Name=LSME<br>emb_dim=%{x}<br>mae_mean=%{y}<extra></extra>",
         "legendgroup": "LSME",
         "line": {
          "color": "#FF6692",
          "dash": "solid"
         },
         "marker": {
          "line": {
           "color": "black",
           "width": 1.5
          },
          "symbol": "circle"
         },
         "mode": "lines+markers",
         "name": "LSME",
         "opacity": 1,
         "orientation": "v",
         "showlegend": true,
         "type": "scatter",
         "x": [
          2,
          3,
          4,
          5,
          6,
          7,
          8
         ],
         "xaxis": "x",
         "y": [
          0.06782378620929981,
          0.06841844226937606,
          0.07060677318427917,
          0.07289371790797969,
          0.07413343059790234,
          0.07585458923045012,
          0.06723362856718407
         ],
         "yaxis": "y"
        },
        {
         "error_y": {
          "array": [
           0.012846534989629222,
           0.0073587773532297115,
           0.0058754707222118405,
           0.005894531478262784,
           0.007131807231515404,
           0.009179331229876467,
           0.00900160632876401
          ]
         },
         "hovertemplate": "Feature Name=PageRank<br>emb_dim=%{x}<br>mae_mean=%{y}<extra></extra>",
         "legendgroup": "PageRank",
         "line": {
          "color": "#B6E880",
          "dash": "solid"
         },
         "marker": {
          "line": {
           "color": "black",
           "width": 1.5
          },
          "symbol": "circle"
         },
         "mode": "lines+markers",
         "name": "PageRank",
         "opacity": 1,
         "orientation": "v",
         "showlegend": true,
         "type": "scatter",
         "x": [
          2,
          3,
          4,
          5,
          6,
          7,
          8
         ],
         "xaxis": "x",
         "y": [
          0.2325693259444661,
          0.09877652337088116,
          0.09195553120785224,
          0.06894165455127273,
          0.07087520393062768,
          0.06811444503888271,
          0.06494713689767342
         ],
         "yaxis": "y"
        }
       ],
       "layout": {
        "annotations": [
         {
          "arrowhead": 1,
          "bgcolor": "white",
          "bordercolor": "grey",
          "borderpad": 4,
          "borderwidth": 2,
          "font": {
           "color": "black",
           "size": 15
          },
          "showarrow": false,
          "text": "Avg Graph Diameter",
          "x": 6,
          "y": 0.2
         }
        ],
        "font": {
         "color": "black",
         "size": 15
        },
        "height": 500,
        "legend": {
         "title": {
          "text": "Feature Name"
         },
         "tracegroupgap": 0
        },
        "margin": {
         "t": 60
        },
        "paper_bgcolor": "white",
        "plot_bgcolor": "white",
        "shapes": [
         {
          "line": {
           "color": "grey",
           "dash": "dash",
           "width": 3
          },
          "type": "line",
          "x0": 6,
          "x1": 6,
          "xref": "x",
          "y0": 0,
          "y1": 1,
          "yref": "y domain"
         }
        ],
        "showlegend": true,
        "template": {
         "data": {
          "bar": [
           {
            "error_x": {
             "color": "#2a3f5f"
            },
            "error_y": {
             "color": "#2a3f5f"
            },
            "marker": {
             "line": {
              "color": "#E5ECF6",
              "width": 0.5
             },
             "pattern": {
              "fillmode": "overlay",
              "size": 10,
              "solidity": 0.2
             }
            },
            "type": "bar"
           }
          ],
          "barpolar": [
           {
            "marker": {
             "line": {
              "color": "#E5ECF6",
              "width": 0.5
             },
             "pattern": {
              "fillmode": "overlay",
              "size": 10,
              "solidity": 0.2
             }
            },
            "type": "barpolar"
           }
          ],
          "carpet": [
           {
            "aaxis": {
             "endlinecolor": "#2a3f5f",
             "gridcolor": "white",
             "linecolor": "white",
             "minorgridcolor": "white",
             "startlinecolor": "#2a3f5f"
            },
            "baxis": {
             "endlinecolor": "#2a3f5f",
             "gridcolor": "white",
             "linecolor": "white",
             "minorgridcolor": "white",
             "startlinecolor": "#2a3f5f"
            },
            "type": "carpet"
           }
          ],
          "choropleth": [
           {
            "colorbar": {
             "outlinewidth": 0,
             "ticks": ""
            },
            "type": "choropleth"
           }
          ],
          "contour": [
           {
            "colorbar": {
             "outlinewidth": 0,
             "ticks": ""
            },
            "colorscale": [
             [
              0,
              "#0d0887"
             ],
             [
              0.1111111111111111,
              "#46039f"
             ],
             [
              0.2222222222222222,
              "#7201a8"
             ],
             [
              0.3333333333333333,
              "#9c179e"
             ],
             [
              0.4444444444444444,
              "#bd3786"
             ],
             [
              0.5555555555555556,
              "#d8576b"
             ],
             [
              0.6666666666666666,
              "#ed7953"
             ],
             [
              0.7777777777777778,
              "#fb9f3a"
             ],
             [
              0.8888888888888888,
              "#fdca26"
             ],
             [
              1,
              "#f0f921"
             ]
            ],
            "type": "contour"
           }
          ],
          "contourcarpet": [
           {
            "colorbar": {
             "outlinewidth": 0,
             "ticks": ""
            },
            "type": "contourcarpet"
           }
          ],
          "heatmap": [
           {
            "colorbar": {
             "outlinewidth": 0,
             "ticks": ""
            },
            "colorscale": [
             [
              0,
              "#0d0887"
             ],
             [
              0.1111111111111111,
              "#46039f"
             ],
             [
              0.2222222222222222,
              "#7201a8"
             ],
             [
              0.3333333333333333,
              "#9c179e"
             ],
             [
              0.4444444444444444,
              "#bd3786"
             ],
             [
              0.5555555555555556,
              "#d8576b"
             ],
             [
              0.6666666666666666,
              "#ed7953"
             ],
             [
              0.7777777777777778,
              "#fb9f3a"
             ],
             [
              0.8888888888888888,
              "#fdca26"
             ],
             [
              1,
              "#f0f921"
             ]
            ],
            "type": "heatmap"
           }
          ],
          "heatmapgl": [
           {
            "colorbar": {
             "outlinewidth": 0,
             "ticks": ""
            },
            "colorscale": [
             [
              0,
              "#0d0887"
             ],
             [
              0.1111111111111111,
              "#46039f"
             ],
             [
              0.2222222222222222,
              "#7201a8"
             ],
             [
              0.3333333333333333,
              "#9c179e"
             ],
             [
              0.4444444444444444,
              "#bd3786"
             ],
             [
              0.5555555555555556,
              "#d8576b"
             ],
             [
              0.6666666666666666,
              "#ed7953"
             ],
             [
              0.7777777777777778,
              "#fb9f3a"
             ],
             [
              0.8888888888888888,
              "#fdca26"
             ],
             [
              1,
              "#f0f921"
             ]
            ],
            "type": "heatmapgl"
           }
          ],
          "histogram": [
           {
            "marker": {
             "pattern": {
              "fillmode": "overlay",
              "size": 10,
              "solidity": 0.2
             }
            },
            "type": "histogram"
           }
          ],
          "histogram2d": [
           {
            "colorbar": {
             "outlinewidth": 0,
             "ticks": ""
            },
            "colorscale": [
             [
              0,
              "#0d0887"
             ],
             [
              0.1111111111111111,
              "#46039f"
             ],
             [
              0.2222222222222222,
              "#7201a8"
             ],
             [
              0.3333333333333333,
              "#9c179e"
             ],
             [
              0.4444444444444444,
              "#bd3786"
             ],
             [
              0.5555555555555556,
              "#d8576b"
             ],
             [
              0.6666666666666666,
              "#ed7953"
             ],
             [
              0.7777777777777778,
              "#fb9f3a"
             ],
             [
              0.8888888888888888,
              "#fdca26"
             ],
             [
              1,
              "#f0f921"
             ]
            ],
            "type": "histogram2d"
           }
          ],
          "histogram2dcontour": [
           {
            "colorbar": {
             "outlinewidth": 0,
             "ticks": ""
            },
            "colorscale": [
             [
              0,
              "#0d0887"
             ],
             [
              0.1111111111111111,
              "#46039f"
             ],
             [
              0.2222222222222222,
              "#7201a8"
             ],
             [
              0.3333333333333333,
              "#9c179e"
             ],
             [
              0.4444444444444444,
              "#bd3786"
             ],
             [
              0.5555555555555556,
              "#d8576b"
             ],
             [
              0.6666666666666666,
              "#ed7953"
             ],
             [
              0.7777777777777778,
              "#fb9f3a"
             ],
             [
              0.8888888888888888,
              "#fdca26"
             ],
             [
              1,
              "#f0f921"
             ]
            ],
            "type": "histogram2dcontour"
           }
          ],
          "mesh3d": [
           {
            "colorbar": {
             "outlinewidth": 0,
             "ticks": ""
            },
            "type": "mesh3d"
           }
          ],
          "parcoords": [
           {
            "line": {
             "colorbar": {
              "outlinewidth": 0,
              "ticks": ""
             }
            },
            "type": "parcoords"
           }
          ],
          "pie": [
           {
            "automargin": true,
            "type": "pie"
           }
          ],
          "scatter": [
           {
            "fillpattern": {
             "fillmode": "overlay",
             "size": 10,
             "solidity": 0.2
            },
            "type": "scatter"
           }
          ],
          "scatter3d": [
           {
            "line": {
             "colorbar": {
              "outlinewidth": 0,
              "ticks": ""
             }
            },
            "marker": {
             "colorbar": {
              "outlinewidth": 0,
              "ticks": ""
             }
            },
            "type": "scatter3d"
           }
          ],
          "scattercarpet": [
           {
            "marker": {
             "colorbar": {
              "outlinewidth": 0,
              "ticks": ""
             }
            },
            "type": "scattercarpet"
           }
          ],
          "scattergeo": [
           {
            "marker": {
             "colorbar": {
              "outlinewidth": 0,
              "ticks": ""
             }
            },
            "type": "scattergeo"
           }
          ],
          "scattergl": [
           {
            "marker": {
             "colorbar": {
              "outlinewidth": 0,
              "ticks": ""
             }
            },
            "type": "scattergl"
           }
          ],
          "scattermapbox": [
           {
            "marker": {
             "colorbar": {
              "outlinewidth": 0,
              "ticks": ""
             }
            },
            "type": "scattermapbox"
           }
          ],
          "scatterpolar": [
           {
            "marker": {
             "colorbar": {
              "outlinewidth": 0,
              "ticks": ""
             }
            },
            "type": "scatterpolar"
           }
          ],
          "scatterpolargl": [
           {
            "marker": {
             "colorbar": {
              "outlinewidth": 0,
              "ticks": ""
             }
            },
            "type": "scatterpolargl"
           }
          ],
          "scatterternary": [
           {
            "marker": {
             "colorbar": {
              "outlinewidth": 0,
              "ticks": ""
             }
            },
            "type": "scatterternary"
           }
          ],
          "surface": [
           {
            "colorbar": {
             "outlinewidth": 0,
             "ticks": ""
            },
            "colorscale": [
             [
              0,
              "#0d0887"
             ],
             [
              0.1111111111111111,
              "#46039f"
             ],
             [
              0.2222222222222222,
              "#7201a8"
             ],
             [
              0.3333333333333333,
              "#9c179e"
             ],
             [
              0.4444444444444444,
              "#bd3786"
             ],
             [
              0.5555555555555556,
              "#d8576b"
             ],
             [
              0.6666666666666666,
              "#ed7953"
             ],
             [
              0.7777777777777778,
              "#fb9f3a"
             ],
             [
              0.8888888888888888,
              "#fdca26"
             ],
             [
              1,
              "#f0f921"
             ]
            ],
            "type": "surface"
           }
          ],
          "table": [
           {
            "cells": {
             "fill": {
              "color": "#EBF0F8"
             },
             "line": {
              "color": "white"
             }
            },
            "header": {
             "fill": {
              "color": "#C8D4E3"
             },
             "line": {
              "color": "white"
             }
            },
            "type": "table"
           }
          ]
         },
         "layout": {
          "annotationdefaults": {
           "arrowcolor": "#2a3f5f",
           "arrowhead": 0,
           "arrowwidth": 1
          },
          "autotypenumbers": "strict",
          "coloraxis": {
           "colorbar": {
            "outlinewidth": 0,
            "ticks": ""
           }
          },
          "colorscale": {
           "diverging": [
            [
             0,
             "#8e0152"
            ],
            [
             0.1,
             "#c51b7d"
            ],
            [
             0.2,
             "#de77ae"
            ],
            [
             0.3,
             "#f1b6da"
            ],
            [
             0.4,
             "#fde0ef"
            ],
            [
             0.5,
             "#f7f7f7"
            ],
            [
             0.6,
             "#e6f5d0"
            ],
            [
             0.7,
             "#b8e186"
            ],
            [
             0.8,
             "#7fbc41"
            ],
            [
             0.9,
             "#4d9221"
            ],
            [
             1,
             "#276419"
            ]
           ],
           "sequential": [
            [
             0,
             "#0d0887"
            ],
            [
             0.1111111111111111,
             "#46039f"
            ],
            [
             0.2222222222222222,
             "#7201a8"
            ],
            [
             0.3333333333333333,
             "#9c179e"
            ],
            [
             0.4444444444444444,
             "#bd3786"
            ],
            [
             0.5555555555555556,
             "#d8576b"
            ],
            [
             0.6666666666666666,
             "#ed7953"
            ],
            [
             0.7777777777777778,
             "#fb9f3a"
            ],
            [
             0.8888888888888888,
             "#fdca26"
            ],
            [
             1,
             "#f0f921"
            ]
           ],
           "sequentialminus": [
            [
             0,
             "#0d0887"
            ],
            [
             0.1111111111111111,
             "#46039f"
            ],
            [
             0.2222222222222222,
             "#7201a8"
            ],
            [
             0.3333333333333333,
             "#9c179e"
            ],
            [
             0.4444444444444444,
             "#bd3786"
            ],
            [
             0.5555555555555556,
             "#d8576b"
            ],
            [
             0.6666666666666666,
             "#ed7953"
            ],
            [
             0.7777777777777778,
             "#fb9f3a"
            ],
            [
             0.8888888888888888,
             "#fdca26"
            ],
            [
             1,
             "#f0f921"
            ]
           ]
          },
          "colorway": [
           "#636efa",
           "#EF553B",
           "#00cc96",
           "#ab63fa",
           "#FFA15A",
           "#19d3f3",
           "#FF6692",
           "#B6E880",
           "#FF97FF",
           "#FECB52"
          ],
          "font": {
           "color": "#2a3f5f"
          },
          "geo": {
           "bgcolor": "white",
           "lakecolor": "white",
           "landcolor": "#E5ECF6",
           "showlakes": true,
           "showland": true,
           "subunitcolor": "white"
          },
          "hoverlabel": {
           "align": "left"
          },
          "hovermode": "closest",
          "mapbox": {
           "style": "light"
          },
          "paper_bgcolor": "white",
          "plot_bgcolor": "#E5ECF6",
          "polar": {
           "angularaxis": {
            "gridcolor": "white",
            "linecolor": "white",
            "ticks": ""
           },
           "bgcolor": "#E5ECF6",
           "radialaxis": {
            "gridcolor": "white",
            "linecolor": "white",
            "ticks": ""
           }
          },
          "scene": {
           "xaxis": {
            "backgroundcolor": "#E5ECF6",
            "gridcolor": "white",
            "gridwidth": 2,
            "linecolor": "white",
            "showbackground": true,
            "ticks": "",
            "zerolinecolor": "white"
           },
           "yaxis": {
            "backgroundcolor": "#E5ECF6",
            "gridcolor": "white",
            "gridwidth": 2,
            "linecolor": "white",
            "showbackground": true,
            "ticks": "",
            "zerolinecolor": "white"
           },
           "zaxis": {
            "backgroundcolor": "#E5ECF6",
            "gridcolor": "white",
            "gridwidth": 2,
            "linecolor": "white",
            "showbackground": true,
            "ticks": "",
            "zerolinecolor": "white"
           }
          },
          "shapedefaults": {
           "line": {
            "color": "#2a3f5f"
           }
          },
          "ternary": {
           "aaxis": {
            "gridcolor": "white",
            "linecolor": "white",
            "ticks": ""
           },
           "baxis": {
            "gridcolor": "white",
            "linecolor": "white",
            "ticks": ""
           },
           "bgcolor": "#E5ECF6",
           "caxis": {
            "gridcolor": "white",
            "linecolor": "white",
            "ticks": ""
           }
          },
          "title": {
           "x": 0.05
          },
          "xaxis": {
           "automargin": true,
           "gridcolor": "white",
           "linecolor": "white",
           "ticks": "",
           "title": {
            "standoff": 15
           },
           "zerolinecolor": "white",
           "zerolinewidth": 2
          },
          "yaxis": {
           "automargin": true,
           "gridcolor": "white",
           "linecolor": "white",
           "ticks": "",
           "title": {
            "standoff": 15
           },
           "zerolinecolor": "white",
           "zerolinewidth": 2
          }
         }
        },
        "width": 900,
        "xaxis": {
         "anchor": "y",
         "autorange": true,
         "domain": [
          0,
          1
         ],
         "gridcolor": "#e3e1e1",
         "gridwidth": 0.5,
         "linecolor": "black",
         "linewidth": 2,
         "mirror": true,
         "range": [
          1.6066282420749278,
          8.393371757925072
         ],
         "showgrid": false,
         "showline": true,
         "title": {
          "text": "Graph-Feature Dimension"
         },
         "type": "linear",
         "zeroline": true
        },
        "yaxis": {
         "anchor": "x",
         "autorange": true,
         "color": "black",
         "domain": [
          0,
          1
         ],
         "gridcolor": "grey",
         "gridwidth": 0.5,
         "linecolor": "black",
         "linewidth": 2,
         "mirror": true,
         "range": [
          0.041216991390398985,
          0.2591504397354128
         ],
         "showgrid": false,
         "showline": true,
         "title": {
          "text": "Mean Absolute Error"
         },
         "type": "linear",
         "zeroline": true
        }
       }
      },
      "image/png": "[encoded data removed]",
      "text/html": [
       "<div>                            <div id=\"a7f3d44f-b616-4000-86f0-03abd08cc4ab\" class=\"plotly-graph-div\" style=\"height:500px; width:900px;\"></div>            <script type=\"text/javascript\">                require([\"plotly\"], function(Plotly) {                    window.PLOTLYENV=window.PLOTLYENV || {};                                    if (document.getElementById(\"a7f3d44f-b616-4000-86f0-03abd08cc4ab\")) {                    Plotly.newPlot(                        \"a7f3d44f-b616-4000-86f0-03abd08cc4ab\",                        [{\"error_y\":{\"array\":[0.008559356115396403,0.008515317886999222,0.013475625674504941,0.009325524061061604,0.008426008372966903,0.008431511438239893,0.01173804145818796]},\"hovertemplate\":\"Feature Name=Basic Expansion\\u003cbr\\u003eemb_dim=%{x}\\u003cbr\\u003emae_mean=%{y}\\u003cextra\\u003e\\u003c\\u002fextra\\u003e\",\"legendgroup\":\"Basic Expansion\",\"line\":{\"color\":\"#636efa\",\"dash\":\"solid\"},\"marker\":{\"symbol\":\"circle\",\"line\":{\"color\":\"black\",\"width\":1.5}},\"mode\":\"lines+markers\",\"name\":\"Basic Expansion\",\"orientation\":\"v\",\"showlegend\":true,\"x\":[2,3,4,5,6,7,8],\"xaxis\":\"x\",\"y\":[0.17818844805570097,0.07797900223156592,0.07674567903499191,0.0655880207367522,0.06338975957447202,0.06485470857717474,0.06758282118472772],\"yaxis\":\"y\",\"type\":\"scatter\",\"opacity\":1.0},{\"error_y\":{\"array\":[0.0070297842020312275,0.0070640384497336,0.007631104422176442,0.006732775686142809,0.007131045850221425,0.008113962461182223,0.01277790328643256]},\"hovertemplate\":\"Feature Name=Basic Expansion + LSME\\u003cbr\\u003eemb_dim=%{x}\\u003cbr\\u003emae_mean=%{y}\\u003cextra\\u003e\\u003c\\u002fextra\\u003e\",\"legendgroup\":\"Basic Expansion + LSME\",\"line\":{\"color\":\"#EF553B\",\"dash\":\"solid\"},\"marker\":{\"symbol\":\"circle\",\"line\":{\"color\":\"black\",\"width\":1.5}},\"mode\":\"lines+markers\",\"name\":\"Basic Expansion + LSME\",\"orientation\":\"v\",\"showlegend\":true,\"x\":[2,3,4,5,6,7,8],\"xaxis\":\"x\",\"y\":[0.07654755208679907,0.06855858068019649,0.06841658085451056,0.06463590797925382,0.06424118532894162,0.0629052462192828,0.06777378864672112],\"yaxis\":\"y\",\"type\":\"scatter\",\"opacity\":1.0},{\"error_y\":{\"array\":[0.005086308849546912,0.00969655061112052,0.008668429595023333,0.008609802537229514,0.012303920768391713,0.0076375535738111445,0.011755688315541213]},\"hovertemplate\":\"Feature Name=Basic Expansion + LSME + PageRank\\u003cbr\\u003eemb_dim=%{x}\\u003cbr\\u003emae_mean=%{y}\\u003cextra\\u003e\\u003c\\u002fextra\\u003e\",\"legendgroup\":\"Basic Expansion + LSME + PageRank\",\"line\":{\"color\":\"#00cc96\",\"dash\":\"solid\"},\"marker\":{\"symbol\":\"circle\",\"line\":{\"color\":\"black\",\"width\":1.5}},\"mode\":\"lines+markers\",\"name\":\"Basic Expansion + LSME + PageRank\",\"orientation\":\"v\",\"showlegend\":true,\"x\":[2,3,4,5,6,7,8],\"xaxis\":\"x\",\"y\":[0.07343428517796269,0.06840382451389154,0.06960775632855505,0.06330053964924826,0.06756623913989773,0.06500486568846223,0.06650161456679499],\"yaxis\":\"y\",\"type\":\"scatter\",\"opacity\":1.0},{\"error_y\":{\"array\":[0.012191204550343565,0.008859269865632995,0.01196017300166547,0.010923269324892486,0.00814005898213497,0.010598321824533715,0.009578341871587905]},\"hovertemplate\":\"Feature Name=Closeness Centrality\\u003cbr\\u003eemb_dim=%{x}\\u003cbr\\u003emae_mean=%{y}\\u003cextra\\u003e\\u003c\\u002fextra\\u003e\",\"legendgroup\":\"Closeness Centrality\",\"line\":{\"color\":\"#ab63fa\",\"dash\":\"solid\"},\"marker\":{\"symbol\":\"circle\",\"line\":{\"color\":\"black\",\"width\":1.5}},\"mode\":\"lines+markers\",\"name\":\"Closeness Centrality\",\"orientation\":\"v\",\"showlegend\":true,\"x\":[2,3,4,5,6,7,8],\"xaxis\":\"x\",\"y\":[0.06863732854619078,0.06878236039023519,0.07452254978967664,0.06717923663860242,0.06567775707073552,0.06928486856362676,0.06169200567923758],\"yaxis\":\"y\",\"type\":\"scatter\",\"opacity\":1.0},{\"error_y\":{\"array\":[0.012494782214235731,0.0064776062185889485,0.007997819864609039,0.00534338722464618,0.006663690344835559,0.009566214072037763,0.01113237120226407]},\"hovertemplate\":\"Feature Name=Degree Centrality\\u003cbr\\u003eemb_dim=%{x}\\u003cbr\\u003emae_mean=%{y}\\u003cextra\\u003e\\u003c\\u002fextra\\u003e\",\"legendgroup\":\"Degree Centrality\",\"line\":{\"color\":\"#FFA15A\",\"dash\":\"solid\"},\"marker\":{\"symbol\":\"circle\",\"line\":{\"color\":\"black\",\"width\":1.5}},\"mode\":\"lines+markers\",\"name\":\"Degree Centrality\",\"orientation\":\"v\",\"showlegend\":true,\"x\":[2,3,4,5,6,7,8],\"xaxis\":\"x\",\"y\":[0.23575898510392637,0.09520602287379205,0.09398451308580404,0.07177286177745337,0.0687938135451769,0.06581396083931597,0.06823548476012208],\"yaxis\":\"y\",\"type\":\"scatter\",\"opacity\":1.0},{\"error_y\":{\"array\":[0.012000846481387929,0.007792383037214094,0.006075558450414729,0.006643621946228165,0.006558863304463325,0.007107058918749802,0.006875012859166507]},\"hovertemplate\":\"Feature Name=Eigenvector Centrality\\u003cbr\\u003eemb_dim=%{x}\\u003cbr\\u003emae_mean=%{y}\\u003cextra\\u003e\\u003c\\u002fextra\\u003e\",\"legendgroup\":\"Eigenvector Centrality\",\"line\":{\"color\":\"#19d3f3\",\"dash\":\"solid\"},\"marker\":{\"symbol\":\"circle\",\"line\":{\"color\":\"black\",\"width\":1.5}},\"mode\":\"lines+markers\",\"name\":\"Eigenvector Centrality\",\"orientation\":\"v\",\"showlegend\":true,\"x\":[2,3,4,5,6,7,8],\"xaxis\":\"x\",\"y\":[0.20370375144275277,0.09969014006414956,0.10469976815201827,0.1006689374420528,0.07697696127190184,0.07763258476121955,0.07459102407098822],\"yaxis\":\"y\",\"type\":\"scatter\",\"opacity\":1.0},{\"error_y\":{\"array\":[0.00519401324334041,0.006369544651670675,0.007612693767157187,0.009629285605412454,0.009253937532596127,0.008285957410864034,0.008152369770358806]},\"hovertemplate\":\"Feature Name=LSME\\u003cbr\\u003eemb_dim=%{x}\\u003cbr\\u003emae_mean=%{y}\\u003cextra\\u003e\\u003c\\u002fextra\\u003e\",\"legendgroup\":\"LSME\",\"line\":{\"color\":\"#FF6692\",\"dash\":\"solid\"},\"marker\":{\"symbol\":\"circle\",\"line\":{\"color\":\"black\",\"width\":1.5}},\"mode\":\"lines+markers\",\"name\":\"LSME\",\"orientation\":\"v\",\"showlegend\":true,\"x\":[2,3,4,5,6,7,8],\"xaxis\":\"x\",\"y\":[0.06782378620929981,0.06841844226937606,0.07060677318427917,0.07289371790797969,0.07413343059790234,0.07585458923045012,0.06723362856718407],\"yaxis\":\"y\",\"type\":\"scatter\",\"opacity\":1.0},{\"error_y\":{\"array\":[0.012846534989629222,0.0073587773532297115,0.0058754707222118405,0.005894531478262784,0.007131807231515404,0.009179331229876467,0.00900160632876401]},\"hovertemplate\":\"Feature Name=PageRank\\u003cbr\\u003eemb_dim=%{x}\\u003cbr\\u003emae_mean=%{y}\\u003cextra\\u003e\\u003c\\u002fextra\\u003e\",\"legendgroup\":\"PageRank\",\"line\":{\"color\":\"#B6E880\",\"dash\":\"solid\"},\"marker\":{\"symbol\":\"circle\",\"line\":{\"color\":\"black\",\"width\":1.5}},\"mode\":\"lines+markers\",\"name\":\"PageRank\",\"orientation\":\"v\",\"showlegend\":true,\"x\":[2,3,4,5,6,7,8],\"xaxis\":\"x\",\"y\":[0.2325693259444661,0.09877652337088116,0.09195553120785224,0.06894165455127273,0.07087520393062768,0.06811444503888271,0.06494713689767342],\"yaxis\":\"y\",\"type\":\"scatter\",\"opacity\":1.0}],                        {\"template\":{\"data\":{\"histogram2dcontour\":[{\"type\":\"histogram2dcontour\",\"colorbar\":{\"outlinewidth\":0,\"ticks\":\"\"},\"colorscale\":[[0.0,\"#0d0887\"],[0.1111111111111111,\"#46039f\"],[0.2222222222222222,\"#7201a8\"],[0.3333333333333333,\"#9c179e\"],[0.4444444444444444,\"#bd3786\"],[0.5555555555555556,\"#d8576b\"],[0.6666666666666666,\"#ed7953\"],[0.7777777777777778,\"#fb9f3a\"],[0.8888888888888888,\"#fdca26\"],[1.0,\"#f0f921\"]]}],\"choropleth\":[{\"type\":\"choropleth\",\"colorbar\":{\"outlinewidth\":0,\"ticks\":\"\"}}],\"histogram2d\":[{\"type\":\"histogram2d\",\"colorbar\":{\"outlinewidth\":0,\"ticks\":\"\"},\"colorscale\":[[0.0,\"#0d0887\"],[0.1111111111111111,\"#46039f\"],[0.2222222222222222,\"#7201a8\"],[0.3333333333333333,\"#9c179e\"],[0.4444444444444444,\"#bd3786\"],[0.5555555555555556,\"#d8576b\"],[0.6666666666666666,\"#ed7953\"],[0.7777777777777778,\"#fb9f3a\"],[0.8888888888888888,\"#fdca26\"],[1.0,\"#f0f921\"]]}],\"heatmap\":[{\"type\":\"heatmap\",\"colorbar\":{\"outlinewidth\":0,\"ticks\":\"\"},\"colorscale\":[[0.0,\"#0d0887\"],[0.1111111111111111,\"#46039f\"],[0.2222222222222222,\"#7201a8\"],[0.3333333333333333,\"#9c179e\"],[0.4444444444444444,\"#bd3786\"],[0.5555555555555556,\"#d8576b\"],[0.6666666666666666,\"#ed7953\"],[0.7777777777777778,\"#fb9f3a\"],[0.8888888888888888,\"#fdca26\"],[1.0,\"#f0f921\"]]}],\"heatmapgl\":[{\"type\":\"heatmapgl\",\"colorbar\":{\"outlinewidth\":0,\"ticks\":\"\"},\"colorscale\":[[0.0,\"#0d0887\"],[0.1111111111111111,\"#46039f\"],[0.2222222222222222,\"#7201a8\"],[0.3333333333333333,\"#9c179e\"],[0.4444444444444444,\"#bd3786\"],[0.5555555555555556,\"#d8576b\"],[0.6666666666666666,\"#ed7953\"],[0.7777777777777778,\"#fb9f3a\"],[0.8888888888888888,\"#fdca26\"],[1.0,\"#f0f921\"]]}],\"contourcarpet\":[{\"type\":\"contourcarpet\",\"colorbar\":{\"outlinewidth\":0,\"ticks\":\"\"}}],\"contour\":[{\"type\":\"contour\",\"colorbar\":{\"outlinewidth\":0,\"ticks\":\"\"},\"colorscale\":[[0.0,\"#0d0887\"],[0.1111111111111111,\"#46039f\"],[0.2222222222222222,\"#7201a8\"],[0.3333333333333333,\"#9c179e\"],[0.4444444444444444,\"#bd3786\"],[0.5555555555555556,\"#d8576b\"],[0.6666666666666666,\"#ed7953\"],[0.7777777777777778,\"#fb9f3a\"],[0.8888888888888888,\"#fdca26\"],[1.0,\"#f0f921\"]]}],\"surface\":[{\"type\":\"surface\",\"colorbar\":{\"outlinewidth\":0,\"ticks\":\"\"},\"colorscale\":[[0.0,\"#0d0887\"],[0.1111111111111111,\"#46039f\"],[0.2222222222222222,\"#7201a8\"],[0.3333333333333333,\"#9c179e\"],[0.4444444444444444,\"#bd3786\"],[0.5555555555555556,\"#d8576b\"],[0.6666666666666666,\"#ed7953\"],[0.7777777777777778,\"#fb9f3a\"],[0.8888888888888888,\"#fdca26\"],[1.0,\"#f0f921\"]]}],\"mesh3d\":[{\"type\":\"mesh3d\",\"colorbar\":{\"outlinewidth\":0,\"ticks\":\"\"}}],\"scatter\":[{\"fillpattern\":{\"fillmode\":\"overlay\",\"size\":10,\"solidity\":0.2},\"type\":\"scatter\"}],\"parcoords\":[{\"type\":\"parcoords\",\"line\":{\"colorbar\":{\"outlinewidth\":0,\"ticks\":\"\"}}}],\"scatterpolargl\":[{\"type\":\"scatterpolargl\",\"marker\":{\"colorbar\":{\"outlinewidth\":0,\"ticks\":\"\"}}}],\"bar\":[{\"error_x\":{\"color\":\"#2a3f5f\"},\"error_y\":{\"color\":\"#2a3f5f\"},\"marker\":{\"line\":{\"color\":\"#E5ECF6\",\"width\":0.5},\"pattern\":{\"fillmode\":\"overlay\",\"size\":10,\"solidity\":0.2}},\"type\":\"bar\"}],\"scattergeo\":[{\"type\":\"scattergeo\",\"marker\":{\"colorbar\":{\"outlinewidth\":0,\"ticks\":\"\"}}}],\"scatterpolar\":[{\"type\":\"scatterpolar\",\"marker\":{\"colorbar\":{\"outlinewidth\":0,\"ticks\":\"\"}}}],\"histogram\":[{\"marker\":{\"pattern\":{\"fillmode\":\"overlay\",\"size\":10,\"solidity\":0.2}},\"type\":\"histogram\"}],\"scattergl\":[{\"type\":\"scattergl\",\"marker\":{\"colorbar\":{\"outlinewidth\":0,\"ticks\":\"\"}}}],\"scatter3d\":[{\"type\":\"scatter3d\",\"line\":{\"colorbar\":{\"outlinewidth\":0,\"ticks\":\"\"}},\"marker\":{\"colorbar\":{\"outlinewidth\":0,\"ticks\":\"\"}}}],\"scattermapbox\":[{\"type\":\"scattermapbox\",\"marker\":{\"colorbar\":{\"outlinewidth\":0,\"ticks\":\"\"}}}],\"scatterternary\":[{\"type\":\"scatterternary\",\"marker\":{\"colorbar\":{\"outlinewidth\":0,\"ticks\":\"\"}}}],\"scattercarpet\":[{\"type\":\"scattercarpet\",\"marker\":{\"colorbar\":{\"outlinewidth\":0,\"ticks\":\"\"}}}],\"carpet\":[{\"aaxis\":{\"endlinecolor\":\"#2a3f5f\",\"gridcolor\":\"white\",\"linecolor\":\"white\",\"minorgridcolor\":\"white\",\"startlinecolor\":\"#2a3f5f\"},\"baxis\":{\"endlinecolor\":\"#2a3f5f\",\"gridcolor\":\"white\",\"linecolor\":\"white\",\"minorgridcolor\":\"white\",\"startlinecolor\":\"#2a3f5f\"},\"type\":\"carpet\"}],\"table\":[{\"cells\":{\"fill\":{\"color\":\"#EBF0F8\"},\"line\":{\"color\":\"white\"}},\"header\":{\"fill\":{\"color\":\"#C8D4E3\"},\"line\":{\"color\":\"white\"}},\"type\":\"table\"}],\"barpolar\":[{\"marker\":{\"line\":{\"color\":\"#E5ECF6\",\"width\":0.5},\"pattern\":{\"fillmode\":\"overlay\",\"size\":10,\"solidity\":0.2}},\"type\":\"barpolar\"}],\"pie\":[{\"automargin\":true,\"type\":\"pie\"}]},\"layout\":{\"autotypenumbers\":\"strict\",\"colorway\":[\"#636efa\",\"#EF553B\",\"#00cc96\",\"#ab63fa\",\"#FFA15A\",\"#19d3f3\",\"#FF6692\",\"#B6E880\",\"#FF97FF\",\"#FECB52\"],\"font\":{\"color\":\"#2a3f5f\"},\"hovermode\":\"closest\",\"hoverlabel\":{\"align\":\"left\"},\"paper_bgcolor\":\"white\",\"plot_bgcolor\":\"#E5ECF6\",\"polar\":{\"bgcolor\":\"#E5ECF6\",\"angularaxis\":{\"gridcolor\":\"white\",\"linecolor\":\"white\",\"ticks\":\"\"},\"radialaxis\":{\"gridcolor\":\"white\",\"linecolor\":\"white\",\"ticks\":\"\"}},\"ternary\":{\"bgcolor\":\"#E5ECF6\",\"aaxis\":{\"gridcolor\":\"white\",\"linecolor\":\"white\",\"ticks\":\"\"},\"baxis\":{\"gridcolor\":\"white\",\"linecolor\":\"white\",\"ticks\":\"\"},\"caxis\":{\"gridcolor\":\"white\",\"linecolor\":\"white\",\"ticks\":\"\"}},\"coloraxis\":{\"colorbar\":{\"outlinewidth\":0,\"ticks\":\"\"}},\"colorscale\":{\"sequential\":[[0.0,\"#0d0887\"],[0.1111111111111111,\"#46039f\"],[0.2222222222222222,\"#7201a8\"],[0.3333333333333333,\"#9c179e\"],[0.4444444444444444,\"#bd3786\"],[0.5555555555555556,\"#d8576b\"],[0.6666666666666666,\"#ed7953\"],[0.7777777777777778,\"#fb9f3a\"],[0.8888888888888888,\"#fdca26\"],[1.0,\"#f0f921\"]],\"sequentialminus\":[[0.0,\"#0d0887\"],[0.1111111111111111,\"#46039f\"],[0.2222222222222222,\"#7201a8\"],[0.3333333333333333,\"#9c179e\"],[0.4444444444444444,\"#bd3786\"],[0.5555555555555556,\"#d8576b\"],[0.6666666666666666,\"#ed7953\"],[0.7777777777777778,\"#fb9f3a\"],[0.8888888888888888,\"#fdca26\"],[1.0,\"#f0f921\"]],\"diverging\":[[0,\"#8e0152\"],[0.1,\"#c51b7d\"],[0.2,\"#de77ae\"],[0.3,\"#f1b6da\"],[0.4,\"#fde0ef\"],[0.5,\"#f7f7f7\"],[0.6,\"#e6f5d0\"],[0.7,\"#b8e186\"],[0.8,\"#7fbc41\"],[0.9,\"#4d9221\"],[1,\"#276419\"]]},\"xaxis\":{\"gridcolor\":\"white\",\"linecolor\":\"white\",\"ticks\":\"\",\"title\":{\"standoff\":15},\"zerolinecolor\":\"white\",\"automargin\":true,\"zerolinewidth\":2},\"yaxis\":{\"gridcolor\":\"white\",\"linecolor\":\"white\",\"ticks\":\"\",\"title\":{\"standoff\":15},\"zerolinecolor\":\"white\",\"automargin\":true,\"zerolinewidth\":2},\"scene\":{\"xaxis\":{\"backgroundcolor\":\"#E5ECF6\",\"gridcolor\":\"white\",\"linecolor\":\"white\",\"showbackground\":true,\"ticks\":\"\",\"zerolinecolor\":\"white\",\"gridwidth\":2},\"yaxis\":{\"backgroundcolor\":\"#E5ECF6\",\"gridcolor\":\"white\",\"linecolor\":\"white\",\"showbackground\":true,\"ticks\":\"\",\"zerolinecolor\":\"white\",\"gridwidth\":2},\"zaxis\":{\"backgroundcolor\":\"#E5ECF6\",\"gridcolor\":\"white\",\"linecolor\":\"white\",\"showbackground\":true,\"ticks\":\"\",\"zerolinecolor\":\"white\",\"gridwidth\":2}},\"shapedefaults\":{\"line\":{\"color\":\"#2a3f5f\"}},\"annotationdefaults\":{\"arrowcolor\":\"#2a3f5f\",\"arrowhead\":0,\"arrowwidth\":1},\"geo\":{\"bgcolor\":\"white\",\"landcolor\":\"#E5ECF6\",\"subunitcolor\":\"white\",\"showland\":true,\"showlakes\":true,\"lakecolor\":\"white\"},\"title\":{\"x\":0.05},\"mapbox\":{\"style\":\"light\"}}},\"xaxis\":{\"anchor\":\"y\",\"domain\":[0.0,1.0],\"title\":{\"text\":\"Graph-Feature Dimension\"},\"mirror\":true,\"zeroline\":true,\"showline\":true,\"linecolor\":\"black\",\"linewidth\":2,\"showgrid\":false,\"gridwidth\":0.5,\"gridcolor\":\"#e3e1e1\"},\"yaxis\":{\"anchor\":\"x\",\"domain\":[0.0,1.0],\"title\":{\"text\":\"Mean Absolute Error\"},\"color\":\"black\",\"zeroline\":true,\"showline\":true,\"linecolor\":\"black\",\"mirror\":true,\"linewidth\":2,\"showgrid\":false,\"gridwidth\":0.5,\"gridcolor\":\"grey\"},\"legend\":{\"title\":{\"text\":\"Feature Name\"},\"tracegroupgap\":0},\"margin\":{\"t\":60},\"paper_bgcolor\":\"white\",\"plot_bgcolor\":\"white\",\"font\":{\"size\":15,\"color\":\"black\"},\"width\":900,\"height\":500,\"showlegend\":true,\"shapes\":[{\"line\":{\"color\":\"grey\",\"dash\":\"dash\",\"width\":3},\"type\":\"line\",\"x0\":6,\"x1\":6,\"xref\":\"x\",\"y0\":0,\"y1\":1,\"yref\":\"y domain\"}],\"annotations\":[{\"arrowhead\":1,\"bgcolor\":\"white\",\"bordercolor\":\"grey\",\"borderpad\":4,\"borderwidth\":2,\"font\":{\"color\":\"black\",\"size\":15},\"showarrow\":false,\"text\":\"Avg Graph Diameter\",\"x\":6,\"y\":0.2}]},                        {\"responsive\": true}                    ).then(function(){\n",
       "                            \n",
       "var gd = document.getElementById('a7f3d44f-b616-4000-86f0-03abd08cc4ab');\n",
       "var x = new MutationObserver(function (mutations, observer) {{\n",
       "        var display = window.getComputedStyle(gd).display;\n",
       "        if (!display || display === 'none') {{\n",
       "            console.log([gd, 'removed!']);\n",
       "            Plotly.purge(gd);\n",
       "            observer.disconnect();\n",
       "        }}\n",
       "}});\n",
       "\n",
       "// Listen for the removal of the full notebook cells\n",
       "var notebookContainer = gd.closest('#notebook-container');\n",
       "if (notebookContainer) {{\n",
       "    x.observe(notebookContainer, {childList: true});\n",
       "}}\n",
       "\n",
       "// Listen for the clearing of the current output cell\n",
       "var outputEl = gd.closest('.output');\n",
       "if (outputEl) {{\n",
       "    x.observe(outputEl, {childList: true});\n",
       "}}\n",
       "\n",
       "                        })                };                });            </script>        </div>"
      ]
     },
     "metadata": {},
     "output_type": "display_data"
    }
   ],
   "source": [
    "fig = px.line(df, x=\"emb_dim\", y=\"mae_mean\", error_y=\"mae_std\", color=\"Feature Name\", markers=True)\n",
    "\n",
    "# Update figure layout\n",
    "fig.update_layout(paper_bgcolor='white')\n",
    "fig.update_layout(plot_bgcolor='white')\n",
    "fig.update_yaxes(color='black')\n",
    "fig.update_layout(\n",
    "    yaxis = dict(\n",
    "        title = \"Mean Absolute Error\",\n",
    "        zeroline=True,\n",
    "        showline = True,\n",
    "        linecolor = 'black',\n",
    "        mirror=True,\n",
    "        linewidth = 2\n",
    "    ),\n",
    "    xaxis = dict(\n",
    "        title = \"Graph-Feature Dimension\",\n",
    "        mirror=True,\n",
    "        zeroline=True,\n",
    "        showline = True,\n",
    "        linecolor = 'black',\n",
    "        linewidth = 2,\n",
    "    ),\n",
    "    width=900,\n",
    "    height=500,\n",
    "    font=dict(\n",
    "    size=15,\n",
    "    color=\"black\")\n",
    "        \n",
    ")\n",
    "fig.update_layout(showlegend=True)\n",
    "# fig.update_layout(legend=dict(\n",
    "#     yanchor=\"bottom\",\n",
    "#     y=0.7,\n",
    "#     xanchor=\"left\",\n",
    "#     x=0.61,\n",
    "#     bordercolor=\"Black\",\n",
    "#     borderwidth=1\n",
    "# ))\n",
    "\n",
    "\n",
    "\n",
    "fig.update_xaxes(showgrid=False, gridwidth=0.5, gridcolor='#e3e1e1')\n",
    "fig.update_yaxes(showgrid=False, gridwidth=0.5, gridcolor='grey')\n",
    "fig.update_traces(marker_line_color='black', marker_line_width=1.5, opacity=1.0)\n",
    "\n",
    "fig.add_vline(x=6, line_width=3, line_dash=\"dash\", line_color=\"grey\")\n",
    "\n",
    "fig.add_annotation(x=6, y=0.2,\n",
    "            text=\"Avg Graph Diameter\",\n",
    "            showarrow=False,\n",
    "            arrowhead=1,\n",
    "            bgcolor=\"white\",\n",
    "            font=dict(\n",
    "            size=15,\n",
    "            color=\"black\"),\n",
    "            bordercolor=\"grey\",\n",
    "            borderwidth=2,\n",
    "            borderpad=4,)\n",
    "\n",
    "\n",
    "fig.show()"
   ]
  },
  {
   "cell_type": "code",
   "execution_count": null,
   "id": "9c7574c2-f2f4-44f8-9490-853d024c96c7",
   "metadata": {},
   "outputs": [],
   "source": []
  },
  {
   "cell_type": "code",
   "execution_count": null,
   "id": "b3e084a4-eb9f-4d8a-a7d0-17ad1967e149",
   "metadata": {},
   "outputs": [],
   "source": []
  }
 ],
 "metadata": {
  "kernelspec": {
   "display_name": "Python 3 (ipykernel)",
   "language": "python",
   "name": "python3"
  },
  "language_info": {
   "codemirror_mode": {
    "name": "ipython",
    "version": 3
   },
   "file_extension": ".py",
   "mimetype": "text/x-python",
   "name": "python",
   "nbconvert_exporter": "python",
   "pygments_lexer": "ipython3",
   "version": "3.11.5"
  }
 },
 "nbformat": 4,
 "nbformat_minor": 5
}
