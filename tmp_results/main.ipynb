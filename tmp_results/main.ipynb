{
 "cells": [
  {
   "cell_type": "code",
   "execution_count": 2,
   "id": "e4214891-c657-41a6-b37f-e855241ecee3",
   "metadata": {},
   "outputs": [],
   "source": [
    "import pandas as pd\n",
    "import plotly.express as px"
   ]
  },
  {
   "cell_type": "code",
   "execution_count": 18,
   "id": "4dede640-ab87-42eb-a87e-74c1fc15be64",
   "metadata": {},
   "outputs": [],
   "source": [
    "imdb = pd.read_csv(\"./IMDB.csv\")\n",
    "mutag = pd.read_csv(\"./MUTAG.csv\")\n",
    "nci1 = pd.read_csv(\"./NCI1.csv\")\n",
    "bzr = pd.read_csv(\"./BZR.csv\")\n",
    "proteins = pd.read_csv(\"./PROTEINS.csv\")\n",
    "\n",
    "imdb_other = pd.read_csv(\"./IMDB_other.csv\")\n",
    "mutag_other = pd.read_csv(\"./MUTAG_other.csv\")\n",
    "nci1_other = pd.read_csv(\"./NCI1_other.csv\")\n",
    "bzr_other = pd.read_csv(\"./BZR_other.csv\")\n",
    "proteins_other = pd.read_csv(\"./PROTEINS_other.csv\")"
   ]
  },
  {
   "cell_type": "code",
   "execution_count": 19,
   "id": "ad2ecd74-fa60-4c12-a964-564d018b1c22",
   "metadata": {},
   "outputs": [],
   "source": [
    "data = pd.concat([imdb, mutag, nci1, bzr, proteins, imdb_other, mutag_other, nci1_other, bzr_other, proteins_other])"
   ]
  },
  {
   "cell_type": "code",
   "execution_count": 28,
   "id": "70fd84f8-9587-46f4-904a-3f2375c09276",
   "metadata": {},
   "outputs": [
    {
     "data": {
      "application/vnd.plotly.v1+json": {
       "config": {
        "plotlyServerURL": "https://plot.ly"
       },
       "data": [
        {
         "alignmentgroup": "True",
         "hovertemplate": "Source=NEExT<br>Dataset=%{x}<br>Accuracy=%{y}<extra></extra>",
         "legendgroup": "NEExT",
         "marker": {
          "color": "#636efa",
          "line": {
           "color": "black",
           "width": 1.5
          }
         },
         "name": "NEExT",
         "notched": false,
         "offsetgroup": "NEExT",
         "opacity": 1,
         "orientation": "v",
         "showlegend": true,
         "type": "box",
         "x": [
          "IMDB",
          "IMDB",
          "IMDB",
          "IMDB",
          "IMDB",
          "IMDB",
          "IMDB",
          "IMDB",
          "IMDB",
          "IMDB",
          "IMDB",
          "IMDB",
          "IMDB",
          "IMDB",
          "IMDB",
          "IMDB",
          "IMDB",
          "IMDB",
          "IMDB",
          "IMDB",
          "IMDB",
          "IMDB",
          "IMDB",
          "IMDB",
          "IMDB",
          "IMDB",
          "IMDB",
          "IMDB",
          "IMDB",
          "IMDB",
          "IMDB",
          "IMDB",
          "IMDB",
          "IMDB",
          "IMDB",
          "IMDB",
          "IMDB",
          "IMDB",
          "IMDB",
          "IMDB",
          "IMDB",
          "IMDB",
          "IMDB",
          "IMDB",
          "IMDB",
          "IMDB",
          "IMDB",
          "IMDB",
          "IMDB",
          "IMDB",
          "MUTAG",
          "MUTAG",
          "MUTAG",
          "MUTAG",
          "MUTAG",
          "MUTAG",
          "MUTAG",
          "MUTAG",
          "MUTAG",
          "MUTAG",
          "MUTAG",
          "MUTAG",
          "MUTAG",
          "MUTAG",
          "MUTAG",
          "MUTAG",
          "MUTAG",
          "MUTAG",
          "MUTAG",
          "MUTAG",
          "MUTAG",
          "MUTAG",
          "MUTAG",
          "MUTAG",
          "MUTAG",
          "MUTAG",
          "MUTAG",
          "MUTAG",
          "MUTAG",
          "MUTAG",
          "MUTAG",
          "MUTAG",
          "MUTAG",
          "MUTAG",
          "MUTAG",
          "MUTAG",
          "MUTAG",
          "MUTAG",
          "MUTAG",
          "MUTAG",
          "MUTAG",
          "MUTAG",
          "MUTAG",
          "MUTAG",
          "MUTAG",
          "MUTAG",
          "MUTAG",
          "MUTAG",
          "MUTAG",
          "MUTAG",
          "NCI1",
          "NCI1",
          "NCI1",
          "NCI1",
          "NCI1",
          "NCI1",
          "NCI1",
          "NCI1",
          "NCI1",
          "NCI1",
          "NCI1",
          "NCI1",
          "NCI1",
          "NCI1",
          "NCI1",
          "NCI1",
          "NCI1",
          "NCI1",
          "NCI1",
          "NCI1",
          "NCI1",
          "NCI1",
          "NCI1",
          "NCI1",
          "NCI1",
          "NCI1",
          "NCI1",
          "NCI1",
          "NCI1",
          "NCI1",
          "NCI1",
          "NCI1",
          "NCI1",
          "NCI1",
          "NCI1",
          "NCI1",
          "NCI1",
          "NCI1",
          "NCI1",
          "NCI1",
          "NCI1",
          "NCI1",
          "NCI1",
          "NCI1",
          "NCI1",
          "NCI1",
          "NCI1",
          "NCI1",
          "NCI1",
          "NCI1",
          "BZR",
          "BZR",
          "BZR",
          "BZR",
          "BZR",
          "BZR",
          "BZR",
          "BZR",
          "BZR",
          "BZR",
          "BZR",
          "BZR",
          "BZR",
          "BZR",
          "BZR",
          "BZR",
          "BZR",
          "BZR",
          "BZR",
          "BZR",
          "BZR",
          "BZR",
          "BZR",
          "BZR",
          "BZR",
          "BZR",
          "BZR",
          "BZR",
          "BZR",
          "BZR",
          "BZR",
          "BZR",
          "BZR",
          "BZR",
          "BZR",
          "BZR",
          "BZR",
          "BZR",
          "BZR",
          "BZR",
          "BZR",
          "BZR",
          "BZR",
          "BZR",
          "BZR",
          "BZR",
          "BZR",
          "BZR",
          "BZR",
          "BZR",
          "PROTEINS",
          "PROTEINS",
          "PROTEINS",
          "PROTEINS",
          "PROTEINS",
          "PROTEINS",
          "PROTEINS",
          "PROTEINS",
          "PROTEINS",
          "PROTEINS",
          "PROTEINS",
          "PROTEINS",
          "PROTEINS",
          "PROTEINS",
          "PROTEINS",
          "PROTEINS",
          "PROTEINS",
          "PROTEINS",
          "PROTEINS",
          "PROTEINS",
          "PROTEINS",
          "PROTEINS",
          "PROTEINS",
          "PROTEINS",
          "PROTEINS",
          "PROTEINS",
          "PROTEINS",
          "PROTEINS",
          "PROTEINS",
          "PROTEINS",
          "PROTEINS",
          "PROTEINS",
          "PROTEINS",
          "PROTEINS",
          "PROTEINS",
          "PROTEINS",
          "PROTEINS",
          "PROTEINS",
          "PROTEINS",
          "PROTEINS",
          "PROTEINS",
          "PROTEINS",
          "PROTEINS",
          "PROTEINS",
          "PROTEINS",
          "PROTEINS",
          "PROTEINS",
          "PROTEINS",
          "PROTEINS",
          "PROTEINS"
         ],
         "x0": " ",
         "xaxis": "x",
         "y": [
          0.66,
          0.7433333333333333,
          0.6966666666666667,
          0.6666666666666666,
          0.6833333333333333,
          0.7233333333333334,
          0.66,
          0.63,
          0.7,
          0.6933333333333334,
          0.71,
          0.6533333333333333,
          0.67,
          0.6666666666666666,
          0.66,
          0.6566666666666666,
          0.73,
          0.6633333333333333,
          0.65,
          0.67,
          0.6533333333333333,
          0.62,
          0.6766666666666666,
          0.6733333333333333,
          0.67,
          0.73,
          0.63,
          0.7033333333333334,
          0.7,
          0.62,
          0.6966666666666667,
          0.7166666666666667,
          0.6333333333333333,
          0.6533333333333333,
          0.68,
          0.7033333333333334,
          0.6433333333333333,
          0.71,
          0.7133333333333334,
          0.67,
          0.6866666666666666,
          0.66,
          0.6533333333333333,
          0.7066666666666667,
          0.6433333333333333,
          0.6633333333333333,
          0.7033333333333334,
          0.6933333333333334,
          0.68,
          0.69,
          0.7105263157894737,
          0.8947368421052632,
          0.868421052631579,
          0.7368421052631579,
          0.7368421052631579,
          0.868421052631579,
          0.8157894736842105,
          0.7894736842105263,
          0.8421052631578947,
          0.7368421052631579,
          0.7894736842105263,
          0.8947368421052632,
          0.7631578947368421,
          0.6842105263157895,
          0.8421052631578947,
          0.8157894736842105,
          0.7368421052631579,
          0.7631578947368421,
          0.8421052631578947,
          0.9210526315789472,
          0.8421052631578947,
          0.8157894736842105,
          0.7631578947368421,
          0.8157894736842105,
          0.7631578947368421,
          0.7894736842105263,
          0.7894736842105263,
          0.7631578947368421,
          0.7631578947368421,
          0.7894736842105263,
          0.7631578947368421,
          0.8947368421052632,
          0.7368421052631579,
          0.7368421052631579,
          0.7368421052631579,
          0.8157894736842105,
          0.7894736842105263,
          0.8947368421052632,
          0.8421052631578947,
          0.7894736842105263,
          0.7631578947368421,
          0.7105263157894737,
          0.7894736842105263,
          0.8157894736842105,
          0.8947368421052632,
          0.7631578947368421,
          0.7894736842105263,
          0.8157894736842105,
          0.7894736842105263,
          0.7105263157894737,
          0.765422077922078,
          0.7589285714285714,
          0.7767857142857143,
          0.7840909090909091,
          0.7784090909090909,
          0.7824675324675324,
          0.773538961038961,
          0.7800324675324676,
          0.7857142857142857,
          0.7548701298701299,
          0.7816558441558441,
          0.7686688311688312,
          0.7702922077922078,
          0.7946428571428571,
          0.7824675324675324,
          0.7775974025974026,
          0.7727272727272727,
          0.739448051948052,
          0.7711038961038961,
          0.7662337662337663,
          0.7751623376623377,
          0.786525974025974,
          0.7621753246753247,
          0.7792207792207793,
          0.7743506493506493,
          0.7824675324675324,
          0.7743506493506493,
          0.7816558441558441,
          0.765422077922078,
          0.7646103896103896,
          0.7646103896103896,
          0.7816558441558441,
          0.7849025974025974,
          0.7678571428571429,
          0.775974025974026,
          0.7808441558441559,
          0.786525974025974,
          0.7564935064935064,
          0.7816558441558441,
          0.765422077922078,
          0.7800324675324676,
          0.7702922077922078,
          0.7719155844155844,
          0.7702922077922078,
          0.7808441558441559,
          0.7832792207792207,
          0.7849025974025974,
          0.7719155844155844,
          0.7767857142857143,
          0.7727272727272727,
          0.6346153846153846,
          0.6730769230769231,
          0.75,
          0.6730769230769231,
          0.6346153846153846,
          0.6923076923076923,
          0.5192307692307693,
          0.5384615384615384,
          0.6923076923076923,
          0.5769230769230769,
          0.6730769230769231,
          0.5961538461538461,
          0.7115384615384616,
          0.7307692307692307,
          0.5961538461538461,
          0.75,
          0.6346153846153846,
          0.7884615384615384,
          0.8076923076923077,
          0.7307692307692307,
          0.6730769230769231,
          0.6346153846153846,
          0.7307692307692307,
          0.6346153846153846,
          0.6923076923076923,
          0.7115384615384616,
          0.6730769230769231,
          0.6730769230769231,
          0.7115384615384616,
          0.6730769230769231,
          0.6346153846153846,
          0.6730769230769231,
          0.8076923076923077,
          0.7115384615384616,
          0.5384615384615384,
          0.75,
          0.7307692307692307,
          0.7307692307692307,
          0.7115384615384616,
          0.5961538461538461,
          0.5576923076923077,
          0.6923076923076923,
          0.7692307692307693,
          0.6346153846153846,
          0.6153846153846154,
          0.7115384615384616,
          0.5576923076923077,
          0.6538461538461539,
          0.7115384615384616,
          0.75,
          0.6,
          0.5666666666666667,
          0.5666666666666667,
          0.5962962962962963,
          0.5481481481481482,
          0.562962962962963,
          0.5851851851851851,
          0.562962962962963,
          0.5555555555555556,
          0.5851851851851851,
          0.5851851851851851,
          0.6,
          0.5592592592592592,
          0.6296296296296297,
          0.6111111111111112,
          0.5777777777777777,
          0.5592592592592592,
          0.5925925925925926,
          0.5925925925925926,
          0.5555555555555556,
          0.5777777777777777,
          0.5555555555555556,
          0.5481481481481482,
          0.5703703703703704,
          0.5592592592592592,
          0.5740740740740741,
          0.5481481481481482,
          0.5555555555555556,
          0.5222222222222223,
          0.5481481481481482,
          0.5888888888888889,
          0.5370370370370371,
          0.6037037037037037,
          0.5074074074074074,
          0.5888888888888889,
          0.5666666666666667,
          0.5666666666666667,
          0.5703703703703704,
          0.5592592592592592,
          0.5740740740740741,
          0.5444444444444444,
          0.5814814814814815,
          0.5555555555555556,
          0.562962962962963,
          0.5333333333333333,
          0.5555555555555556,
          0.6,
          0.5740740740740741,
          0.562962962962963,
          0.5962962962962963
         ],
         "y0": " ",
         "yaxis": "y"
        },
        {
         "alignmentgroup": "True",
         "hovertemplate": "Source=Others<br>Dataset=%{x}<br>Accuracy=%{y}<extra></extra>",
         "legendgroup": "Others",
         "marker": {
          "color": "#EF553B",
          "line": {
           "color": "black",
           "width": 1.5
          }
         },
         "name": "Others",
         "notched": false,
         "offsetgroup": "Others",
         "opacity": 1,
         "orientation": "v",
         "showlegend": true,
         "type": "box",
         "x": [
          "IMDB",
          "IMDB",
          "IMDB",
          "MUTAG",
          "MUTAG",
          "MUTAG",
          "MUTAG",
          "MUTAG",
          "MUTAG",
          "MUTAG",
          "MUTAG",
          "MUTAG",
          "MUTAG",
          "MUTAG",
          "MUTAG",
          "MUTAG",
          "MUTAG",
          "MUTAG",
          "MUTAG",
          "MUTAG",
          "MUTAG",
          "MUTAG",
          "MUTAG",
          "MUTAG",
          "MUTAG",
          "MUTAG",
          "MUTAG",
          "MUTAG",
          "MUTAG",
          "MUTAG",
          "MUTAG",
          "MUTAG",
          "MUTAG",
          "MUTAG",
          "MUTAG",
          "MUTAG",
          "MUTAG",
          "MUTAG",
          "MUTAG",
          "MUTAG",
          "MUTAG",
          "MUTAG",
          "MUTAG",
          "MUTAG",
          "MUTAG",
          "MUTAG",
          "MUTAG",
          "MUTAG",
          "MUTAG",
          "MUTAG",
          "MUTAG",
          "MUTAG",
          "MUTAG",
          "MUTAG",
          "MUTAG",
          "MUTAG",
          "MUTAG",
          "MUTAG",
          "MUTAG",
          "MUTAG",
          "MUTAG",
          "MUTAG",
          "MUTAG",
          "MUTAG",
          "MUTAG",
          "MUTAG",
          "MUTAG",
          "MUTAG",
          "MUTAG",
          "MUTAG",
          "MUTAG",
          "NCI1",
          "NCI1",
          "NCI1",
          "NCI1",
          "NCI1",
          "NCI1",
          "NCI1",
          "NCI1",
          "NCI1",
          "NCI1",
          "NCI1",
          "NCI1",
          "NCI1",
          "NCI1",
          "NCI1",
          "NCI1",
          "NCI1",
          "NCI1",
          "NCI1",
          "NCI1",
          "NCI1",
          "NCI1",
          "NCI1",
          "NCI1",
          "NCI1",
          "NCI1",
          "NCI1",
          "NCI1",
          "NCI1",
          "NCI1",
          "NCI1",
          "NCI1",
          "NCI1",
          "NCI1",
          "NCI1",
          "NCI1",
          "NCI1",
          "NCI1",
          "NCI1",
          "NCI1",
          "NCI1",
          "NCI1",
          "NCI1",
          "NCI1",
          "NCI1",
          "NCI1",
          "NCI1",
          "NCI1",
          "NCI1",
          "NCI1",
          "NCI1",
          "NCI1",
          "NCI1",
          "NCI1",
          "NCI1",
          "NCI1",
          "BZR",
          "PROTEINS",
          "PROTEINS",
          "PROTEINS",
          "PROTEINS",
          "PROTEINS",
          "PROTEINS",
          "PROTEINS",
          "PROTEINS",
          "PROTEINS",
          "PROTEINS",
          "PROTEINS",
          "PROTEINS",
          "PROTEINS",
          "PROTEINS",
          "PROTEINS",
          "PROTEINS",
          "PROTEINS",
          "PROTEINS",
          "PROTEINS",
          "PROTEINS",
          "PROTEINS",
          "PROTEINS",
          "PROTEINS",
          "PROTEINS",
          "PROTEINS",
          "PROTEINS",
          "PROTEINS",
          "PROTEINS",
          "PROTEINS",
          "PROTEINS",
          "PROTEINS",
          "PROTEINS",
          "PROTEINS",
          "PROTEINS",
          "PROTEINS",
          "PROTEINS",
          "PROTEINS",
          "PROTEINS",
          "PROTEINS",
          "PROTEINS",
          "PROTEINS",
          "PROTEINS",
          "PROTEINS",
          "PROTEINS",
          "PROTEINS",
          "PROTEINS",
          "PROTEINS",
          "PROTEINS",
          "PROTEINS",
          "PROTEINS",
          "PROTEINS",
          "PROTEINS",
          "PROTEINS",
          "PROTEINS",
          "PROTEINS",
          "PROTEINS",
          "PROTEINS",
          "PROTEINS",
          "PROTEINS",
          "PROTEINS",
          "PROTEINS",
          "PROTEINS",
          "PROTEINS",
          "PROTEINS",
          "PROTEINS",
          "PROTEINS",
          "PROTEINS",
          "PROTEINS",
          "PROTEINS",
          "PROTEINS",
          "PROTEINS",
          "PROTEINS",
          "PROTEINS",
          "PROTEINS",
          "PROTEINS",
          "PROTEINS",
          "PROTEINS",
          "PROTEINS",
          "PROTEINS",
          "PROTEINS",
          "PROTEINS",
          "PROTEINS",
          "PROTEINS",
          "PROTEINS",
          "PROTEINS",
          "PROTEINS",
          "PROTEINS",
          "PROTEINS"
         ],
         "x0": " ",
         "xaxis": "x",
         "y": [
          0.6993,
          0.6984,
          0.688,
          1,
          0.97,
          0.96,
          0.96,
          0.95,
          0.94,
          0.94,
          0.94,
          0.94,
          0.94,
          0.93,
          0.93,
          0.92,
          0.91,
          0.91,
          0.91,
          0.91,
          0.91,
          0.91,
          0.9,
          0.9,
          0.9,
          0.9,
          0.9,
          0.9,
          0.9,
          0.89,
          0.89,
          0.89,
          0.89,
          0.89,
          0.89,
          0.89,
          0.88,
          0.88,
          0.88,
          0.88,
          0.88,
          0.88,
          0.88,
          0.88,
          0.88,
          0.88,
          0.87,
          0.87,
          0.87,
          0.87,
          0.87,
          0.87,
          0.87,
          0.87,
          0.86,
          0.86,
          0.86,
          0.86,
          0.86,
          0.86,
          0.85,
          0.85,
          0.85,
          0.84,
          0.83,
          0.83,
          0.83,
          0.83,
          0.83,
          0.8,
          0.58,
          0.88,
          0.87,
          0.86,
          0.86,
          0.86,
          0.86,
          0.86,
          0.86,
          0.86,
          0.85,
          0.85,
          0.85,
          0.85,
          0.85,
          0.85,
          0.84,
          0.84,
          0.84,
          0.84,
          0.83,
          0.83,
          0.83,
          0.83,
          0.82,
          0.82,
          0.82,
          0.81,
          0.81,
          0.8,
          0.8,
          0.78,
          0.78,
          0.77,
          0.77,
          0.76,
          0.76,
          0.76,
          0.76,
          0.75,
          0.75,
          0.74,
          0.74,
          0.74,
          0.74,
          0.73,
          0.73,
          0.73,
          0.71,
          0.7,
          0.69,
          0.68,
          0.68,
          0.67,
          0.66,
          0.66,
          0.64,
          0.8781,
          1,
          0.85,
          0.84,
          0.83,
          0.82,
          0.81,
          0.81,
          0.8,
          0.8,
          0.8,
          0.79,
          0.79,
          0.79,
          0.79,
          0.79,
          0.79,
          0.78,
          0.78,
          0.78,
          0.78,
          0.78,
          0.78,
          0.78,
          0.78,
          0.78,
          0.78,
          0.78,
          0.77,
          0.77,
          0.77,
          0.77,
          0.77,
          0.77,
          0.77,
          0.77,
          0.77,
          0.77,
          0.77,
          0.76,
          0.76,
          0.76,
          0.76,
          0.76,
          0.76,
          0.76,
          0.76,
          0.76,
          0.76,
          0.76,
          0.76,
          0.76,
          0.76,
          0.76,
          0.75,
          0.75,
          0.75,
          0.75,
          0.75,
          0.75,
          0.75,
          0.75,
          0.75,
          0.75,
          0.75,
          0.75,
          0.75,
          0.75,
          0.74,
          0.74,
          0.74,
          0.74,
          0.74,
          0.74,
          0.74,
          0.74,
          0.73,
          0.73,
          0.73,
          0.73,
          0.73,
          0.73,
          0.72,
          0.72,
          0.72,
          0.72,
          0.71,
          0.7,
          0.76
         ],
         "y0": " ",
         "yaxis": "y"
        }
       ],
       "layout": {
        "boxmode": "group",
        "font": {
         "color": "black",
         "size": 15
        },
        "height": 500,
        "legend": {
         "bordercolor": "Black",
         "borderwidth": 1,
         "title": {
          "text": "Source"
         },
         "tracegroupgap": 0,
         "x": 1.01,
         "xanchor": "left",
         "y": 0.78,
         "yanchor": "bottom"
        },
        "margin": {
         "t": 60
        },
        "paper_bgcolor": "white",
        "plot_bgcolor": "white",
        "showlegend": true,
        "template": {
         "data": {
          "bar": [
           {
            "error_x": {
             "color": "#2a3f5f"
            },
            "error_y": {
             "color": "#2a3f5f"
            },
            "marker": {
             "line": {
              "color": "#E5ECF6",
              "width": 0.5
             },
             "pattern": {
              "fillmode": "overlay",
              "size": 10,
              "solidity": 0.2
             }
            },
            "type": "bar"
           }
          ],
          "barpolar": [
           {
            "marker": {
             "line": {
              "color": "#E5ECF6",
              "width": 0.5
             },
             "pattern": {
              "fillmode": "overlay",
              "size": 10,
              "solidity": 0.2
             }
            },
            "type": "barpolar"
           }
          ],
          "carpet": [
           {
            "aaxis": {
             "endlinecolor": "#2a3f5f",
             "gridcolor": "white",
             "linecolor": "white",
             "minorgridcolor": "white",
             "startlinecolor": "#2a3f5f"
            },
            "baxis": {
             "endlinecolor": "#2a3f5f",
             "gridcolor": "white",
             "linecolor": "white",
             "minorgridcolor": "white",
             "startlinecolor": "#2a3f5f"
            },
            "type": "carpet"
           }
          ],
          "choropleth": [
           {
            "colorbar": {
             "outlinewidth": 0,
             "ticks": ""
            },
            "type": "choropleth"
           }
          ],
          "contour": [
           {
            "colorbar": {
             "outlinewidth": 0,
             "ticks": ""
            },
            "colorscale": [
             [
              0,
              "#0d0887"
             ],
             [
              0.1111111111111111,
              "#46039f"
             ],
             [
              0.2222222222222222,
              "#7201a8"
             ],
             [
              0.3333333333333333,
              "#9c179e"
             ],
             [
              0.4444444444444444,
              "#bd3786"
             ],
             [
              0.5555555555555556,
              "#d8576b"
             ],
             [
              0.6666666666666666,
              "#ed7953"
             ],
             [
              0.7777777777777778,
              "#fb9f3a"
             ],
             [
              0.8888888888888888,
              "#fdca26"
             ],
             [
              1,
              "#f0f921"
             ]
            ],
            "type": "contour"
           }
          ],
          "contourcarpet": [
           {
            "colorbar": {
             "outlinewidth": 0,
             "ticks": ""
            },
            "type": "contourcarpet"
           }
          ],
          "heatmap": [
           {
            "colorbar": {
             "outlinewidth": 0,
             "ticks": ""
            },
            "colorscale": [
             [
              0,
              "#0d0887"
             ],
             [
              0.1111111111111111,
              "#46039f"
             ],
             [
              0.2222222222222222,
              "#7201a8"
             ],
             [
              0.3333333333333333,
              "#9c179e"
             ],
             [
              0.4444444444444444,
              "#bd3786"
             ],
             [
              0.5555555555555556,
              "#d8576b"
             ],
             [
              0.6666666666666666,
              "#ed7953"
             ],
             [
              0.7777777777777778,
              "#fb9f3a"
             ],
             [
              0.8888888888888888,
              "#fdca26"
             ],
             [
              1,
              "#f0f921"
             ]
            ],
            "type": "heatmap"
           }
          ],
          "heatmapgl": [
           {
            "colorbar": {
             "outlinewidth": 0,
             "ticks": ""
            },
            "colorscale": [
             [
              0,
              "#0d0887"
             ],
             [
              0.1111111111111111,
              "#46039f"
             ],
             [
              0.2222222222222222,
              "#7201a8"
             ],
             [
              0.3333333333333333,
              "#9c179e"
             ],
             [
              0.4444444444444444,
              "#bd3786"
             ],
             [
              0.5555555555555556,
              "#d8576b"
             ],
             [
              0.6666666666666666,
              "#ed7953"
             ],
             [
              0.7777777777777778,
              "#fb9f3a"
             ],
             [
              0.8888888888888888,
              "#fdca26"
             ],
             [
              1,
              "#f0f921"
             ]
            ],
            "type": "heatmapgl"
           }
          ],
          "histogram": [
           {
            "marker": {
             "pattern": {
              "fillmode": "overlay",
              "size": 10,
              "solidity": 0.2
             }
            },
            "type": "histogram"
           }
          ],
          "histogram2d": [
           {
            "colorbar": {
             "outlinewidth": 0,
             "ticks": ""
            },
            "colorscale": [
             [
              0,
              "#0d0887"
             ],
             [
              0.1111111111111111,
              "#46039f"
             ],
             [
              0.2222222222222222,
              "#7201a8"
             ],
             [
              0.3333333333333333,
              "#9c179e"
             ],
             [
              0.4444444444444444,
              "#bd3786"
             ],
             [
              0.5555555555555556,
              "#d8576b"
             ],
             [
              0.6666666666666666,
              "#ed7953"
             ],
             [
              0.7777777777777778,
              "#fb9f3a"
             ],
             [
              0.8888888888888888,
              "#fdca26"
             ],
             [
              1,
              "#f0f921"
             ]
            ],
            "type": "histogram2d"
           }
          ],
          "histogram2dcontour": [
           {
            "colorbar": {
             "outlinewidth": 0,
             "ticks": ""
            },
            "colorscale": [
             [
              0,
              "#0d0887"
             ],
             [
              0.1111111111111111,
              "#46039f"
             ],
             [
              0.2222222222222222,
              "#7201a8"
             ],
             [
              0.3333333333333333,
              "#9c179e"
             ],
             [
              0.4444444444444444,
              "#bd3786"
             ],
             [
              0.5555555555555556,
              "#d8576b"
             ],
             [
              0.6666666666666666,
              "#ed7953"
             ],
             [
              0.7777777777777778,
              "#fb9f3a"
             ],
             [
              0.8888888888888888,
              "#fdca26"
             ],
             [
              1,
              "#f0f921"
             ]
            ],
            "type": "histogram2dcontour"
           }
          ],
          "mesh3d": [
           {
            "colorbar": {
             "outlinewidth": 0,
             "ticks": ""
            },
            "type": "mesh3d"
           }
          ],
          "parcoords": [
           {
            "line": {
             "colorbar": {
              "outlinewidth": 0,
              "ticks": ""
             }
            },
            "type": "parcoords"
           }
          ],
          "pie": [
           {
            "automargin": true,
            "type": "pie"
           }
          ],
          "scatter": [
           {
            "fillpattern": {
             "fillmode": "overlay",
             "size": 10,
             "solidity": 0.2
            },
            "type": "scatter"
           }
          ],
          "scatter3d": [
           {
            "line": {
             "colorbar": {
              "outlinewidth": 0,
              "ticks": ""
             }
            },
            "marker": {
             "colorbar": {
              "outlinewidth": 0,
              "ticks": ""
             }
            },
            "type": "scatter3d"
           }
          ],
          "scattercarpet": [
           {
            "marker": {
             "colorbar": {
              "outlinewidth": 0,
              "ticks": ""
             }
            },
            "type": "scattercarpet"
           }
          ],
          "scattergeo": [
           {
            "marker": {
             "colorbar": {
              "outlinewidth": 0,
              "ticks": ""
             }
            },
            "type": "scattergeo"
           }
          ],
          "scattergl": [
           {
            "marker": {
             "colorbar": {
              "outlinewidth": 0,
              "ticks": ""
             }
            },
            "type": "scattergl"
           }
          ],
          "scattermapbox": [
           {
            "marker": {
             "colorbar": {
              "outlinewidth": 0,
              "ticks": ""
             }
            },
            "type": "scattermapbox"
           }
          ],
          "scatterpolar": [
           {
            "marker": {
             "colorbar": {
              "outlinewidth": 0,
              "ticks": ""
             }
            },
            "type": "scatterpolar"
           }
          ],
          "scatterpolargl": [
           {
            "marker": {
             "colorbar": {
              "outlinewidth": 0,
              "ticks": ""
             }
            },
            "type": "scatterpolargl"
           }
          ],
          "scatterternary": [
           {
            "marker": {
             "colorbar": {
              "outlinewidth": 0,
              "ticks": ""
             }
            },
            "type": "scatterternary"
           }
          ],
          "surface": [
           {
            "colorbar": {
             "outlinewidth": 0,
             "ticks": ""
            },
            "colorscale": [
             [
              0,
              "#0d0887"
             ],
             [
              0.1111111111111111,
              "#46039f"
             ],
             [
              0.2222222222222222,
              "#7201a8"
             ],
             [
              0.3333333333333333,
              "#9c179e"
             ],
             [
              0.4444444444444444,
              "#bd3786"
             ],
             [
              0.5555555555555556,
              "#d8576b"
             ],
             [
              0.6666666666666666,
              "#ed7953"
             ],
             [
              0.7777777777777778,
              "#fb9f3a"
             ],
             [
              0.8888888888888888,
              "#fdca26"
             ],
             [
              1,
              "#f0f921"
             ]
            ],
            "type": "surface"
           }
          ],
          "table": [
           {
            "cells": {
             "fill": {
              "color": "#EBF0F8"
             },
             "line": {
              "color": "white"
             }
            },
            "header": {
             "fill": {
              "color": "#C8D4E3"
             },
             "line": {
              "color": "white"
             }
            },
            "type": "table"
           }
          ]
         },
         "layout": {
          "annotationdefaults": {
           "arrowcolor": "#2a3f5f",
           "arrowhead": 0,
           "arrowwidth": 1
          },
          "autotypenumbers": "strict",
          "coloraxis": {
           "colorbar": {
            "outlinewidth": 0,
            "ticks": ""
           }
          },
          "colorscale": {
           "diverging": [
            [
             0,
             "#8e0152"
            ],
            [
             0.1,
             "#c51b7d"
            ],
            [
             0.2,
             "#de77ae"
            ],
            [
             0.3,
             "#f1b6da"
            ],
            [
             0.4,
             "#fde0ef"
            ],
            [
             0.5,
             "#f7f7f7"
            ],
            [
             0.6,
             "#e6f5d0"
            ],
            [
             0.7,
             "#b8e186"
            ],
            [
             0.8,
             "#7fbc41"
            ],
            [
             0.9,
             "#4d9221"
            ],
            [
             1,
             "#276419"
            ]
           ],
           "sequential": [
            [
             0,
             "#0d0887"
            ],
            [
             0.1111111111111111,
             "#46039f"
            ],
            [
             0.2222222222222222,
             "#7201a8"
            ],
            [
             0.3333333333333333,
             "#9c179e"
            ],
            [
             0.4444444444444444,
             "#bd3786"
            ],
            [
             0.5555555555555556,
             "#d8576b"
            ],
            [
             0.6666666666666666,
             "#ed7953"
            ],
            [
             0.7777777777777778,
             "#fb9f3a"
            ],
            [
             0.8888888888888888,
             "#fdca26"
            ],
            [
             1,
             "#f0f921"
            ]
           ],
           "sequentialminus": [
            [
             0,
             "#0d0887"
            ],
            [
             0.1111111111111111,
             "#46039f"
            ],
            [
             0.2222222222222222,
             "#7201a8"
            ],
            [
             0.3333333333333333,
             "#9c179e"
            ],
            [
             0.4444444444444444,
             "#bd3786"
            ],
            [
             0.5555555555555556,
             "#d8576b"
            ],
            [
             0.6666666666666666,
             "#ed7953"
            ],
            [
             0.7777777777777778,
             "#fb9f3a"
            ],
            [
             0.8888888888888888,
             "#fdca26"
            ],
            [
             1,
             "#f0f921"
            ]
           ]
          },
          "colorway": [
           "#636efa",
           "#EF553B",
           "#00cc96",
           "#ab63fa",
           "#FFA15A",
           "#19d3f3",
           "#FF6692",
           "#B6E880",
           "#FF97FF",
           "#FECB52"
          ],
          "font": {
           "color": "#2a3f5f"
          },
          "geo": {
           "bgcolor": "white",
           "lakecolor": "white",
           "landcolor": "#E5ECF6",
           "showlakes": true,
           "showland": true,
           "subunitcolor": "white"
          },
          "hoverlabel": {
           "align": "left"
          },
          "hovermode": "closest",
          "mapbox": {
           "style": "light"
          },
          "paper_bgcolor": "white",
          "plot_bgcolor": "#E5ECF6",
          "polar": {
           "angularaxis": {
            "gridcolor": "white",
            "linecolor": "white",
            "ticks": ""
           },
           "bgcolor": "#E5ECF6",
           "radialaxis": {
            "gridcolor": "white",
            "linecolor": "white",
            "ticks": ""
           }
          },
          "scene": {
           "xaxis": {
            "backgroundcolor": "#E5ECF6",
            "gridcolor": "white",
            "gridwidth": 2,
            "linecolor": "white",
            "showbackground": true,
            "ticks": "",
            "zerolinecolor": "white"
           },
           "yaxis": {
            "backgroundcolor": "#E5ECF6",
            "gridcolor": "white",
            "gridwidth": 2,
            "linecolor": "white",
            "showbackground": true,
            "ticks": "",
            "zerolinecolor": "white"
           },
           "zaxis": {
            "backgroundcolor": "#E5ECF6",
            "gridcolor": "white",
            "gridwidth": 2,
            "linecolor": "white",
            "showbackground": true,
            "ticks": "",
            "zerolinecolor": "white"
           }
          },
          "shapedefaults": {
           "line": {
            "color": "#2a3f5f"
           }
          },
          "ternary": {
           "aaxis": {
            "gridcolor": "white",
            "linecolor": "white",
            "ticks": ""
           },
           "baxis": {
            "gridcolor": "white",
            "linecolor": "white",
            "ticks": ""
           },
           "bgcolor": "#E5ECF6",
           "caxis": {
            "gridcolor": "white",
            "linecolor": "white",
            "ticks": ""
           }
          },
          "title": {
           "x": 0.05
          },
          "xaxis": {
           "automargin": true,
           "gridcolor": "white",
           "linecolor": "white",
           "ticks": "",
           "title": {
            "standoff": 15
           },
           "zerolinecolor": "white",
           "zerolinewidth": 2
          },
          "yaxis": {
           "automargin": true,
           "gridcolor": "white",
           "linecolor": "white",
           "ticks": "",
           "title": {
            "standoff": 15
           },
           "zerolinecolor": "white",
           "zerolinewidth": 2
          }
         }
        },
        "width": 900,
        "xaxis": {
         "anchor": "y",
         "autorange": true,
         "domain": [
          0,
          1
         ],
         "gridcolor": "#e3e1e1",
         "gridwidth": 0.5,
         "linecolor": "black",
         "linewidth": 2,
         "mirror": true,
         "range": [
          -0.5216450216450217,
          4.521645021645021
         ],
         "showgrid": false,
         "showline": true,
         "title": {
          "text": "Datasets"
         },
         "type": "category",
         "zeroline": true
        },
        "yaxis": {
         "anchor": "x",
         "autorange": true,
         "color": "black",
         "domain": [
          0,
          1
         ],
         "gridcolor": "grey",
         "gridwidth": 0.5,
         "linecolor": "black",
         "linewidth": 2,
         "mirror": true,
         "range": [
          0.4800411522633745,
          1.027366255144033
         ],
         "showgrid": false,
         "showline": true,
         "title": {
          "text": "Accuracy"
         },
         "type": "linear",
         "zeroline": true
        }
       }
      },
      "image/png": "[encoded data removed]",
      "text/html": [
       "<div>                            <div id=\"ab94ade6-736c-4be2-8760-8ce8dec59b54\" class=\"plotly-graph-div\" style=\"height:500px; width:900px;\"></div>            <script type=\"text/javascript\">                require([\"plotly\"], function(Plotly) {                    window.PLOTLYENV=window.PLOTLYENV || {};                                    if (document.getElementById(\"ab94ade6-736c-4be2-8760-8ce8dec59b54\")) {                    Plotly.newPlot(                        \"ab94ade6-736c-4be2-8760-8ce8dec59b54\",                        [{\"alignmentgroup\":\"True\",\"hovertemplate\":\"Source=NEExT\\u003cbr\\u003eDataset=%{x}\\u003cbr\\u003eAccuracy=%{y}\\u003cextra\\u003e\\u003c\\u002fextra\\u003e\",\"legendgroup\":\"NEExT\",\"marker\":{\"color\":\"#636efa\",\"line\":{\"color\":\"black\",\"width\":1.5}},\"name\":\"NEExT\",\"notched\":false,\"offsetgroup\":\"NEExT\",\"orientation\":\"v\",\"showlegend\":true,\"x\":[\"IMDB\",\"IMDB\",\"IMDB\",\"IMDB\",\"IMDB\",\"IMDB\",\"IMDB\",\"IMDB\",\"IMDB\",\"IMDB\",\"IMDB\",\"IMDB\",\"IMDB\",\"IMDB\",\"IMDB\",\"IMDB\",\"IMDB\",\"IMDB\",\"IMDB\",\"IMDB\",\"IMDB\",\"IMDB\",\"IMDB\",\"IMDB\",\"IMDB\",\"IMDB\",\"IMDB\",\"IMDB\",\"IMDB\",\"IMDB\",\"IMDB\",\"IMDB\",\"IMDB\",\"IMDB\",\"IMDB\",\"IMDB\",\"IMDB\",\"IMDB\",\"IMDB\",\"IMDB\",\"IMDB\",\"IMDB\",\"IMDB\",\"IMDB\",\"IMDB\",\"IMDB\",\"IMDB\",\"IMDB\",\"IMDB\",\"IMDB\",\"MUTAG\",\"MUTAG\",\"MUTAG\",\"MUTAG\",\"MUTAG\",\"MUTAG\",\"MUTAG\",\"MUTAG\",\"MUTAG\",\"MUTAG\",\"MUTAG\",\"MUTAG\",\"MUTAG\",\"MUTAG\",\"MUTAG\",\"MUTAG\",\"MUTAG\",\"MUTAG\",\"MUTAG\",\"MUTAG\",\"MUTAG\",\"MUTAG\",\"MUTAG\",\"MUTAG\",\"MUTAG\",\"MUTAG\",\"MUTAG\",\"MUTAG\",\"MUTAG\",\"MUTAG\",\"MUTAG\",\"MUTAG\",\"MUTAG\",\"MUTAG\",\"MUTAG\",\"MUTAG\",\"MUTAG\",\"MUTAG\",\"MUTAG\",\"MUTAG\",\"MUTAG\",\"MUTAG\",\"MUTAG\",\"MUTAG\",\"MUTAG\",\"MUTAG\",\"MUTAG\",\"MUTAG\",\"MUTAG\",\"MUTAG\",\"NCI1\",\"NCI1\",\"NCI1\",\"NCI1\",\"NCI1\",\"NCI1\",\"NCI1\",\"NCI1\",\"NCI1\",\"NCI1\",\"NCI1\",\"NCI1\",\"NCI1\",\"NCI1\",\"NCI1\",\"NCI1\",\"NCI1\",\"NCI1\",\"NCI1\",\"NCI1\",\"NCI1\",\"NCI1\",\"NCI1\",\"NCI1\",\"NCI1\",\"NCI1\",\"NCI1\",\"NCI1\",\"NCI1\",\"NCI1\",\"NCI1\",\"NCI1\",\"NCI1\",\"NCI1\",\"NCI1\",\"NCI1\",\"NCI1\",\"NCI1\",\"NCI1\",\"NCI1\",\"NCI1\",\"NCI1\",\"NCI1\",\"NCI1\",\"NCI1\",\"NCI1\",\"NCI1\",\"NCI1\",\"NCI1\",\"NCI1\",\"BZR\",\"BZR\",\"BZR\",\"BZR\",\"BZR\",\"BZR\",\"BZR\",\"BZR\",\"BZR\",\"BZR\",\"BZR\",\"BZR\",\"BZR\",\"BZR\",\"BZR\",\"BZR\",\"BZR\",\"BZR\",\"BZR\",\"BZR\",\"BZR\",\"BZR\",\"BZR\",\"BZR\",\"BZR\",\"BZR\",\"BZR\",\"BZR\",\"BZR\",\"BZR\",\"BZR\",\"BZR\",\"BZR\",\"BZR\",\"BZR\",\"BZR\",\"BZR\",\"BZR\",\"BZR\",\"BZR\",\"BZR\",\"BZR\",\"BZR\",\"BZR\",\"BZR\",\"BZR\",\"BZR\",\"BZR\",\"BZR\",\"BZR\",\"PROTEINS\",\"PROTEINS\",\"PROTEINS\",\"PROTEINS\",\"PROTEINS\",\"PROTEINS\",\"PROTEINS\",\"PROTEINS\",\"PROTEINS\",\"PROTEINS\",\"PROTEINS\",\"PROTEINS\",\"PROTEINS\",\"PROTEINS\",\"PROTEINS\",\"PROTEINS\",\"PROTEINS\",\"PROTEINS\",\"PROTEINS\",\"PROTEINS\",\"PROTEINS\",\"PROTEINS\",\"PROTEINS\",\"PROTEINS\",\"PROTEINS\",\"PROTEINS\",\"PROTEINS\",\"PROTEINS\",\"PROTEINS\",\"PROTEINS\",\"PROTEINS\",\"PROTEINS\",\"PROTEINS\",\"PROTEINS\",\"PROTEINS\",\"PROTEINS\",\"PROTEINS\",\"PROTEINS\",\"PROTEINS\",\"PROTEINS\",\"PROTEINS\",\"PROTEINS\",\"PROTEINS\",\"PROTEINS\",\"PROTEINS\",\"PROTEINS\",\"PROTEINS\",\"PROTEINS\",\"PROTEINS\",\"PROTEINS\"],\"x0\":\" \",\"xaxis\":\"x\",\"y\":[0.66,0.7433333333333333,0.6966666666666667,0.6666666666666666,0.6833333333333333,0.7233333333333334,0.66,0.63,0.7,0.6933333333333334,0.71,0.6533333333333333,0.67,0.6666666666666666,0.66,0.6566666666666666,0.73,0.6633333333333333,0.65,0.67,0.6533333333333333,0.62,0.6766666666666666,0.6733333333333333,0.67,0.73,0.63,0.7033333333333334,0.7,0.62,0.6966666666666667,0.7166666666666667,0.6333333333333333,0.6533333333333333,0.68,0.7033333333333334,0.6433333333333333,0.71,0.7133333333333334,0.67,0.6866666666666666,0.66,0.6533333333333333,0.7066666666666667,0.6433333333333333,0.6633333333333333,0.7033333333333334,0.6933333333333334,0.68,0.69,0.7105263157894737,0.8947368421052632,0.868421052631579,0.7368421052631579,0.7368421052631579,0.868421052631579,0.8157894736842105,0.7894736842105263,0.8421052631578947,0.7368421052631579,0.7894736842105263,0.8947368421052632,0.7631578947368421,0.6842105263157895,0.8421052631578947,0.8157894736842105,0.7368421052631579,0.7631578947368421,0.8421052631578947,0.9210526315789472,0.8421052631578947,0.8157894736842105,0.7631578947368421,0.8157894736842105,0.7631578947368421,0.7894736842105263,0.7894736842105263,0.7631578947368421,0.7631578947368421,0.7894736842105263,0.7631578947368421,0.8947368421052632,0.7368421052631579,0.7368421052631579,0.7368421052631579,0.8157894736842105,0.7894736842105263,0.8947368421052632,0.8421052631578947,0.7894736842105263,0.7631578947368421,0.7105263157894737,0.7894736842105263,0.8157894736842105,0.8947368421052632,0.7631578947368421,0.7894736842105263,0.8157894736842105,0.7894736842105263,0.7105263157894737,0.765422077922078,0.7589285714285714,0.7767857142857143,0.7840909090909091,0.7784090909090909,0.7824675324675324,0.773538961038961,0.7800324675324676,0.7857142857142857,0.7548701298701299,0.7816558441558441,0.7686688311688312,0.7702922077922078,0.7946428571428571,0.7824675324675324,0.7775974025974026,0.7727272727272727,0.739448051948052,0.7711038961038961,0.7662337662337663,0.7751623376623377,0.786525974025974,0.7621753246753247,0.7792207792207793,0.7743506493506493,0.7824675324675324,0.7743506493506493,0.7816558441558441,0.765422077922078,0.7646103896103896,0.7646103896103896,0.7816558441558441,0.7849025974025974,0.7678571428571429,0.775974025974026,0.7808441558441559,0.786525974025974,0.7564935064935064,0.7816558441558441,0.765422077922078,0.7800324675324676,0.7702922077922078,0.7719155844155844,0.7702922077922078,0.7808441558441559,0.7832792207792207,0.7849025974025974,0.7719155844155844,0.7767857142857143,0.7727272727272727,0.6346153846153846,0.6730769230769231,0.75,0.6730769230769231,0.6346153846153846,0.6923076923076923,0.5192307692307693,0.5384615384615384,0.6923076923076923,0.5769230769230769,0.6730769230769231,0.5961538461538461,0.7115384615384616,0.7307692307692307,0.5961538461538461,0.75,0.6346153846153846,0.7884615384615384,0.8076923076923077,0.7307692307692307,0.6730769230769231,0.6346153846153846,0.7307692307692307,0.6346153846153846,0.6923076923076923,0.7115384615384616,0.6730769230769231,0.6730769230769231,0.7115384615384616,0.6730769230769231,0.6346153846153846,0.6730769230769231,0.8076923076923077,0.7115384615384616,0.5384615384615384,0.75,0.7307692307692307,0.7307692307692307,0.7115384615384616,0.5961538461538461,0.5576923076923077,0.6923076923076923,0.7692307692307693,0.6346153846153846,0.6153846153846154,0.7115384615384616,0.5576923076923077,0.6538461538461539,0.7115384615384616,0.75,0.6,0.5666666666666667,0.5666666666666667,0.5962962962962963,0.5481481481481482,0.562962962962963,0.5851851851851851,0.562962962962963,0.5555555555555556,0.5851851851851851,0.5851851851851851,0.6,0.5592592592592592,0.6296296296296297,0.6111111111111112,0.5777777777777777,0.5592592592592592,0.5925925925925926,0.5925925925925926,0.5555555555555556,0.5777777777777777,0.5555555555555556,0.5481481481481482,0.5703703703703704,0.5592592592592592,0.5740740740740741,0.5481481481481482,0.5555555555555556,0.5222222222222223,0.5481481481481482,0.5888888888888889,0.5370370370370371,0.6037037037037037,0.5074074074074074,0.5888888888888889,0.5666666666666667,0.5666666666666667,0.5703703703703704,0.5592592592592592,0.5740740740740741,0.5444444444444444,0.5814814814814815,0.5555555555555556,0.562962962962963,0.5333333333333333,0.5555555555555556,0.6,0.5740740740740741,0.562962962962963,0.5962962962962963],\"y0\":\" \",\"yaxis\":\"y\",\"type\":\"box\",\"opacity\":1.0},{\"alignmentgroup\":\"True\",\"hovertemplate\":\"Source=Others\\u003cbr\\u003eDataset=%{x}\\u003cbr\\u003eAccuracy=%{y}\\u003cextra\\u003e\\u003c\\u002fextra\\u003e\",\"legendgroup\":\"Others\",\"marker\":{\"color\":\"#EF553B\",\"line\":{\"color\":\"black\",\"width\":1.5}},\"name\":\"Others\",\"notched\":false,\"offsetgroup\":\"Others\",\"orientation\":\"v\",\"showlegend\":true,\"x\":[\"IMDB\",\"IMDB\",\"IMDB\",\"MUTAG\",\"MUTAG\",\"MUTAG\",\"MUTAG\",\"MUTAG\",\"MUTAG\",\"MUTAG\",\"MUTAG\",\"MUTAG\",\"MUTAG\",\"MUTAG\",\"MUTAG\",\"MUTAG\",\"MUTAG\",\"MUTAG\",\"MUTAG\",\"MUTAG\",\"MUTAG\",\"MUTAG\",\"MUTAG\",\"MUTAG\",\"MUTAG\",\"MUTAG\",\"MUTAG\",\"MUTAG\",\"MUTAG\",\"MUTAG\",\"MUTAG\",\"MUTAG\",\"MUTAG\",\"MUTAG\",\"MUTAG\",\"MUTAG\",\"MUTAG\",\"MUTAG\",\"MUTAG\",\"MUTAG\",\"MUTAG\",\"MUTAG\",\"MUTAG\",\"MUTAG\",\"MUTAG\",\"MUTAG\",\"MUTAG\",\"MUTAG\",\"MUTAG\",\"MUTAG\",\"MUTAG\",\"MUTAG\",\"MUTAG\",\"MUTAG\",\"MUTAG\",\"MUTAG\",\"MUTAG\",\"MUTAG\",\"MUTAG\",\"MUTAG\",\"MUTAG\",\"MUTAG\",\"MUTAG\",\"MUTAG\",\"MUTAG\",\"MUTAG\",\"MUTAG\",\"MUTAG\",\"MUTAG\",\"MUTAG\",\"MUTAG\",\"NCI1\",\"NCI1\",\"NCI1\",\"NCI1\",\"NCI1\",\"NCI1\",\"NCI1\",\"NCI1\",\"NCI1\",\"NCI1\",\"NCI1\",\"NCI1\",\"NCI1\",\"NCI1\",\"NCI1\",\"NCI1\",\"NCI1\",\"NCI1\",\"NCI1\",\"NCI1\",\"NCI1\",\"NCI1\",\"NCI1\",\"NCI1\",\"NCI1\",\"NCI1\",\"NCI1\",\"NCI1\",\"NCI1\",\"NCI1\",\"NCI1\",\"NCI1\",\"NCI1\",\"NCI1\",\"NCI1\",\"NCI1\",\"NCI1\",\"NCI1\",\"NCI1\",\"NCI1\",\"NCI1\",\"NCI1\",\"NCI1\",\"NCI1\",\"NCI1\",\"NCI1\",\"NCI1\",\"NCI1\",\"NCI1\",\"NCI1\",\"NCI1\",\"NCI1\",\"NCI1\",\"NCI1\",\"NCI1\",\"NCI1\",\"BZR\",\"PROTEINS\",\"PROTEINS\",\"PROTEINS\",\"PROTEINS\",\"PROTEINS\",\"PROTEINS\",\"PROTEINS\",\"PROTEINS\",\"PROTEINS\",\"PROTEINS\",\"PROTEINS\",\"PROTEINS\",\"PROTEINS\",\"PROTEINS\",\"PROTEINS\",\"PROTEINS\",\"PROTEINS\",\"PROTEINS\",\"PROTEINS\",\"PROTEINS\",\"PROTEINS\",\"PROTEINS\",\"PROTEINS\",\"PROTEINS\",\"PROTEINS\",\"PROTEINS\",\"PROTEINS\",\"PROTEINS\",\"PROTEINS\",\"PROTEINS\",\"PROTEINS\",\"PROTEINS\",\"PROTEINS\",\"PROTEINS\",\"PROTEINS\",\"PROTEINS\",\"PROTEINS\",\"PROTEINS\",\"PROTEINS\",\"PROTEINS\",\"PROTEINS\",\"PROTEINS\",\"PROTEINS\",\"PROTEINS\",\"PROTEINS\",\"PROTEINS\",\"PROTEINS\",\"PROTEINS\",\"PROTEINS\",\"PROTEINS\",\"PROTEINS\",\"PROTEINS\",\"PROTEINS\",\"PROTEINS\",\"PROTEINS\",\"PROTEINS\",\"PROTEINS\",\"PROTEINS\",\"PROTEINS\",\"PROTEINS\",\"PROTEINS\",\"PROTEINS\",\"PROTEINS\",\"PROTEINS\",\"PROTEINS\",\"PROTEINS\",\"PROTEINS\",\"PROTEINS\",\"PROTEINS\",\"PROTEINS\",\"PROTEINS\",\"PROTEINS\",\"PROTEINS\",\"PROTEINS\",\"PROTEINS\",\"PROTEINS\",\"PROTEINS\",\"PROTEINS\",\"PROTEINS\",\"PROTEINS\",\"PROTEINS\",\"PROTEINS\",\"PROTEINS\",\"PROTEINS\",\"PROTEINS\",\"PROTEINS\",\"PROTEINS\",\"PROTEINS\"],\"x0\":\" \",\"xaxis\":\"x\",\"y\":[0.6993,0.6984,0.688,1.0,0.97,0.96,0.96,0.95,0.94,0.94,0.94,0.94,0.94,0.93,0.93,0.92,0.91,0.91,0.91,0.91,0.91,0.91,0.9,0.9,0.9,0.9,0.9,0.9,0.9,0.89,0.89,0.89,0.89,0.89,0.89,0.89,0.88,0.88,0.88,0.88,0.88,0.88,0.88,0.88,0.88,0.88,0.87,0.87,0.87,0.87,0.87,0.87,0.87,0.87,0.86,0.86,0.86,0.86,0.86,0.86,0.85,0.85,0.85,0.84,0.83,0.83,0.83,0.83,0.83,0.8,0.58,0.88,0.87,0.86,0.86,0.86,0.86,0.86,0.86,0.86,0.85,0.85,0.85,0.85,0.85,0.85,0.84,0.84,0.84,0.84,0.83,0.83,0.83,0.83,0.82,0.82,0.82,0.81,0.81,0.8,0.8,0.78,0.78,0.77,0.77,0.76,0.76,0.76,0.76,0.75,0.75,0.74,0.74,0.74,0.74,0.73,0.73,0.73,0.71,0.7,0.69,0.68,0.68,0.67,0.66,0.66,0.64,0.8781,1.0,0.85,0.84,0.83,0.82,0.81,0.81,0.8,0.8,0.8,0.79,0.79,0.79,0.79,0.79,0.79,0.78,0.78,0.78,0.78,0.78,0.78,0.78,0.78,0.78,0.78,0.78,0.77,0.77,0.77,0.77,0.77,0.77,0.77,0.77,0.77,0.77,0.77,0.76,0.76,0.76,0.76,0.76,0.76,0.76,0.76,0.76,0.76,0.76,0.76,0.76,0.76,0.76,0.75,0.75,0.75,0.75,0.75,0.75,0.75,0.75,0.75,0.75,0.75,0.75,0.75,0.75,0.74,0.74,0.74,0.74,0.74,0.74,0.74,0.74,0.73,0.73,0.73,0.73,0.73,0.73,0.72,0.72,0.72,0.72,0.71,0.7,0.76],\"y0\":\" \",\"yaxis\":\"y\",\"type\":\"box\",\"opacity\":1.0}],                        {\"template\":{\"data\":{\"histogram2dcontour\":[{\"type\":\"histogram2dcontour\",\"colorbar\":{\"outlinewidth\":0,\"ticks\":\"\"},\"colorscale\":[[0.0,\"#0d0887\"],[0.1111111111111111,\"#46039f\"],[0.2222222222222222,\"#7201a8\"],[0.3333333333333333,\"#9c179e\"],[0.4444444444444444,\"#bd3786\"],[0.5555555555555556,\"#d8576b\"],[0.6666666666666666,\"#ed7953\"],[0.7777777777777778,\"#fb9f3a\"],[0.8888888888888888,\"#fdca26\"],[1.0,\"#f0f921\"]]}],\"choropleth\":[{\"type\":\"choropleth\",\"colorbar\":{\"outlinewidth\":0,\"ticks\":\"\"}}],\"histogram2d\":[{\"type\":\"histogram2d\",\"colorbar\":{\"outlinewidth\":0,\"ticks\":\"\"},\"colorscale\":[[0.0,\"#0d0887\"],[0.1111111111111111,\"#46039f\"],[0.2222222222222222,\"#7201a8\"],[0.3333333333333333,\"#9c179e\"],[0.4444444444444444,\"#bd3786\"],[0.5555555555555556,\"#d8576b\"],[0.6666666666666666,\"#ed7953\"],[0.7777777777777778,\"#fb9f3a\"],[0.8888888888888888,\"#fdca26\"],[1.0,\"#f0f921\"]]}],\"heatmap\":[{\"type\":\"heatmap\",\"colorbar\":{\"outlinewidth\":0,\"ticks\":\"\"},\"colorscale\":[[0.0,\"#0d0887\"],[0.1111111111111111,\"#46039f\"],[0.2222222222222222,\"#7201a8\"],[0.3333333333333333,\"#9c179e\"],[0.4444444444444444,\"#bd3786\"],[0.5555555555555556,\"#d8576b\"],[0.6666666666666666,\"#ed7953\"],[0.7777777777777778,\"#fb9f3a\"],[0.8888888888888888,\"#fdca26\"],[1.0,\"#f0f921\"]]}],\"heatmapgl\":[{\"type\":\"heatmapgl\",\"colorbar\":{\"outlinewidth\":0,\"ticks\":\"\"},\"colorscale\":[[0.0,\"#0d0887\"],[0.1111111111111111,\"#46039f\"],[0.2222222222222222,\"#7201a8\"],[0.3333333333333333,\"#9c179e\"],[0.4444444444444444,\"#bd3786\"],[0.5555555555555556,\"#d8576b\"],[0.6666666666666666,\"#ed7953\"],[0.7777777777777778,\"#fb9f3a\"],[0.8888888888888888,\"#fdca26\"],[1.0,\"#f0f921\"]]}],\"contourcarpet\":[{\"type\":\"contourcarpet\",\"colorbar\":{\"outlinewidth\":0,\"ticks\":\"\"}}],\"contour\":[{\"type\":\"contour\",\"colorbar\":{\"outlinewidth\":0,\"ticks\":\"\"},\"colorscale\":[[0.0,\"#0d0887\"],[0.1111111111111111,\"#46039f\"],[0.2222222222222222,\"#7201a8\"],[0.3333333333333333,\"#9c179e\"],[0.4444444444444444,\"#bd3786\"],[0.5555555555555556,\"#d8576b\"],[0.6666666666666666,\"#ed7953\"],[0.7777777777777778,\"#fb9f3a\"],[0.8888888888888888,\"#fdca26\"],[1.0,\"#f0f921\"]]}],\"surface\":[{\"type\":\"surface\",\"colorbar\":{\"outlinewidth\":0,\"ticks\":\"\"},\"colorscale\":[[0.0,\"#0d0887\"],[0.1111111111111111,\"#46039f\"],[0.2222222222222222,\"#7201a8\"],[0.3333333333333333,\"#9c179e\"],[0.4444444444444444,\"#bd3786\"],[0.5555555555555556,\"#d8576b\"],[0.6666666666666666,\"#ed7953\"],[0.7777777777777778,\"#fb9f3a\"],[0.8888888888888888,\"#fdca26\"],[1.0,\"#f0f921\"]]}],\"mesh3d\":[{\"type\":\"mesh3d\",\"colorbar\":{\"outlinewidth\":0,\"ticks\":\"\"}}],\"scatter\":[{\"fillpattern\":{\"fillmode\":\"overlay\",\"size\":10,\"solidity\":0.2},\"type\":\"scatter\"}],\"parcoords\":[{\"type\":\"parcoords\",\"line\":{\"colorbar\":{\"outlinewidth\":0,\"ticks\":\"\"}}}],\"scatterpolargl\":[{\"type\":\"scatterpolargl\",\"marker\":{\"colorbar\":{\"outlinewidth\":0,\"ticks\":\"\"}}}],\"bar\":[{\"error_x\":{\"color\":\"#2a3f5f\"},\"error_y\":{\"color\":\"#2a3f5f\"},\"marker\":{\"line\":{\"color\":\"#E5ECF6\",\"width\":0.5},\"pattern\":{\"fillmode\":\"overlay\",\"size\":10,\"solidity\":0.2}},\"type\":\"bar\"}],\"scattergeo\":[{\"type\":\"scattergeo\",\"marker\":{\"colorbar\":{\"outlinewidth\":0,\"ticks\":\"\"}}}],\"scatterpolar\":[{\"type\":\"scatterpolar\",\"marker\":{\"colorbar\":{\"outlinewidth\":0,\"ticks\":\"\"}}}],\"histogram\":[{\"marker\":{\"pattern\":{\"fillmode\":\"overlay\",\"size\":10,\"solidity\":0.2}},\"type\":\"histogram\"}],\"scattergl\":[{\"type\":\"scattergl\",\"marker\":{\"colorbar\":{\"outlinewidth\":0,\"ticks\":\"\"}}}],\"scatter3d\":[{\"type\":\"scatter3d\",\"line\":{\"colorbar\":{\"outlinewidth\":0,\"ticks\":\"\"}},\"marker\":{\"colorbar\":{\"outlinewidth\":0,\"ticks\":\"\"}}}],\"scattermapbox\":[{\"type\":\"scattermapbox\",\"marker\":{\"colorbar\":{\"outlinewidth\":0,\"ticks\":\"\"}}}],\"scatterternary\":[{\"type\":\"scatterternary\",\"marker\":{\"colorbar\":{\"outlinewidth\":0,\"ticks\":\"\"}}}],\"scattercarpet\":[{\"type\":\"scattercarpet\",\"marker\":{\"colorbar\":{\"outlinewidth\":0,\"ticks\":\"\"}}}],\"carpet\":[{\"aaxis\":{\"endlinecolor\":\"#2a3f5f\",\"gridcolor\":\"white\",\"linecolor\":\"white\",\"minorgridcolor\":\"white\",\"startlinecolor\":\"#2a3f5f\"},\"baxis\":{\"endlinecolor\":\"#2a3f5f\",\"gridcolor\":\"white\",\"linecolor\":\"white\",\"minorgridcolor\":\"white\",\"startlinecolor\":\"#2a3f5f\"},\"type\":\"carpet\"}],\"table\":[{\"cells\":{\"fill\":{\"color\":\"#EBF0F8\"},\"line\":{\"color\":\"white\"}},\"header\":{\"fill\":{\"color\":\"#C8D4E3\"},\"line\":{\"color\":\"white\"}},\"type\":\"table\"}],\"barpolar\":[{\"marker\":{\"line\":{\"color\":\"#E5ECF6\",\"width\":0.5},\"pattern\":{\"fillmode\":\"overlay\",\"size\":10,\"solidity\":0.2}},\"type\":\"barpolar\"}],\"pie\":[{\"automargin\":true,\"type\":\"pie\"}]},\"layout\":{\"autotypenumbers\":\"strict\",\"colorway\":[\"#636efa\",\"#EF553B\",\"#00cc96\",\"#ab63fa\",\"#FFA15A\",\"#19d3f3\",\"#FF6692\",\"#B6E880\",\"#FF97FF\",\"#FECB52\"],\"font\":{\"color\":\"#2a3f5f\"},\"hovermode\":\"closest\",\"hoverlabel\":{\"align\":\"left\"},\"paper_bgcolor\":\"white\",\"plot_bgcolor\":\"#E5ECF6\",\"polar\":{\"bgcolor\":\"#E5ECF6\",\"angularaxis\":{\"gridcolor\":\"white\",\"linecolor\":\"white\",\"ticks\":\"\"},\"radialaxis\":{\"gridcolor\":\"white\",\"linecolor\":\"white\",\"ticks\":\"\"}},\"ternary\":{\"bgcolor\":\"#E5ECF6\",\"aaxis\":{\"gridcolor\":\"white\",\"linecolor\":\"white\",\"ticks\":\"\"},\"baxis\":{\"gridcolor\":\"white\",\"linecolor\":\"white\",\"ticks\":\"\"},\"caxis\":{\"gridcolor\":\"white\",\"linecolor\":\"white\",\"ticks\":\"\"}},\"coloraxis\":{\"colorbar\":{\"outlinewidth\":0,\"ticks\":\"\"}},\"colorscale\":{\"sequential\":[[0.0,\"#0d0887\"],[0.1111111111111111,\"#46039f\"],[0.2222222222222222,\"#7201a8\"],[0.3333333333333333,\"#9c179e\"],[0.4444444444444444,\"#bd3786\"],[0.5555555555555556,\"#d8576b\"],[0.6666666666666666,\"#ed7953\"],[0.7777777777777778,\"#fb9f3a\"],[0.8888888888888888,\"#fdca26\"],[1.0,\"#f0f921\"]],\"sequentialminus\":[[0.0,\"#0d0887\"],[0.1111111111111111,\"#46039f\"],[0.2222222222222222,\"#7201a8\"],[0.3333333333333333,\"#9c179e\"],[0.4444444444444444,\"#bd3786\"],[0.5555555555555556,\"#d8576b\"],[0.6666666666666666,\"#ed7953\"],[0.7777777777777778,\"#fb9f3a\"],[0.8888888888888888,\"#fdca26\"],[1.0,\"#f0f921\"]],\"diverging\":[[0,\"#8e0152\"],[0.1,\"#c51b7d\"],[0.2,\"#de77ae\"],[0.3,\"#f1b6da\"],[0.4,\"#fde0ef\"],[0.5,\"#f7f7f7\"],[0.6,\"#e6f5d0\"],[0.7,\"#b8e186\"],[0.8,\"#7fbc41\"],[0.9,\"#4d9221\"],[1,\"#276419\"]]},\"xaxis\":{\"gridcolor\":\"white\",\"linecolor\":\"white\",\"ticks\":\"\",\"title\":{\"standoff\":15},\"zerolinecolor\":\"white\",\"automargin\":true,\"zerolinewidth\":2},\"yaxis\":{\"gridcolor\":\"white\",\"linecolor\":\"white\",\"ticks\":\"\",\"title\":{\"standoff\":15},\"zerolinecolor\":\"white\",\"automargin\":true,\"zerolinewidth\":2},\"scene\":{\"xaxis\":{\"backgroundcolor\":\"#E5ECF6\",\"gridcolor\":\"white\",\"linecolor\":\"white\",\"showbackground\":true,\"ticks\":\"\",\"zerolinecolor\":\"white\",\"gridwidth\":2},\"yaxis\":{\"backgroundcolor\":\"#E5ECF6\",\"gridcolor\":\"white\",\"linecolor\":\"white\",\"showbackground\":true,\"ticks\":\"\",\"zerolinecolor\":\"white\",\"gridwidth\":2},\"zaxis\":{\"backgroundcolor\":\"#E5ECF6\",\"gridcolor\":\"white\",\"linecolor\":\"white\",\"showbackground\":true,\"ticks\":\"\",\"zerolinecolor\":\"white\",\"gridwidth\":2}},\"shapedefaults\":{\"line\":{\"color\":\"#2a3f5f\"}},\"annotationdefaults\":{\"arrowcolor\":\"#2a3f5f\",\"arrowhead\":0,\"arrowwidth\":1},\"geo\":{\"bgcolor\":\"white\",\"landcolor\":\"#E5ECF6\",\"subunitcolor\":\"white\",\"showland\":true,\"showlakes\":true,\"lakecolor\":\"white\"},\"title\":{\"x\":0.05},\"mapbox\":{\"style\":\"light\"}}},\"xaxis\":{\"anchor\":\"y\",\"domain\":[0.0,1.0],\"title\":{\"text\":\"Datasets\"},\"mirror\":true,\"zeroline\":true,\"showline\":true,\"linecolor\":\"black\",\"linewidth\":2,\"showgrid\":false,\"gridwidth\":0.5,\"gridcolor\":\"#e3e1e1\"},\"yaxis\":{\"anchor\":\"x\",\"domain\":[0.0,1.0],\"title\":{\"text\":\"Accuracy\"},\"color\":\"black\",\"zeroline\":true,\"showline\":true,\"linecolor\":\"black\",\"mirror\":true,\"linewidth\":2,\"showgrid\":false,\"gridwidth\":0.5,\"gridcolor\":\"grey\"},\"legend\":{\"title\":{\"text\":\"Source\"},\"tracegroupgap\":0,\"yanchor\":\"bottom\",\"y\":0.78,\"xanchor\":\"left\",\"x\":1.01,\"bordercolor\":\"Black\",\"borderwidth\":1},\"margin\":{\"t\":60},\"boxmode\":\"group\",\"paper_bgcolor\":\"white\",\"plot_bgcolor\":\"white\",\"font\":{\"size\":15,\"color\":\"black\"},\"width\":900,\"height\":500,\"showlegend\":true},                        {\"responsive\": true}                    ).then(function(){\n",
       "                            \n",
       "var gd = document.getElementById('ab94ade6-736c-4be2-8760-8ce8dec59b54');\n",
       "var x = new MutationObserver(function (mutations, observer) {{\n",
       "        var display = window.getComputedStyle(gd).display;\n",
       "        if (!display || display === 'none') {{\n",
       "            console.log([gd, 'removed!']);\n",
       "            Plotly.purge(gd);\n",
       "            observer.disconnect();\n",
       "        }}\n",
       "}});\n",
       "\n",
       "// Listen for the removal of the full notebook cells\n",
       "var notebookContainer = gd.closest('#notebook-container');\n",
       "if (notebookContainer) {{\n",
       "    x.observe(notebookContainer, {childList: true});\n",
       "}}\n",
       "\n",
       "// Listen for the clearing of the current output cell\n",
       "var outputEl = gd.closest('.output');\n",
       "if (outputEl) {{\n",
       "    x.observe(outputEl, {childList: true});\n",
       "}}\n",
       "\n",
       "                        })                };                });            </script>        </div>"
      ]
     },
     "metadata": {},
     "output_type": "display_data"
    }
   ],
   "source": [
    "fig = px.box(data, x=\"Dataset\", y=\"Accuracy\", color=\"Source\")\n",
    "\n",
    "# Update figure layout\n",
    "fig.update_layout(paper_bgcolor='white')\n",
    "fig.update_layout(plot_bgcolor='white')\n",
    "fig.update_yaxes(color='black')\n",
    "fig.update_layout(\n",
    "    yaxis = dict(\n",
    "        title = \"Accuracy\",\n",
    "        zeroline=True,\n",
    "        showline = True,\n",
    "        linecolor = 'black',\n",
    "        mirror=True,\n",
    "        linewidth = 2\n",
    "    ),\n",
    "    xaxis = dict(\n",
    "        title = \"Datasets\",\n",
    "        mirror=True,\n",
    "        zeroline=True,\n",
    "        showline = True,\n",
    "        linecolor = 'black',\n",
    "        linewidth = 2,\n",
    "    ),\n",
    "    width=900,\n",
    "    height=500,\n",
    "    font=dict(\n",
    "    size=15,\n",
    "    color=\"black\")\n",
    "        \n",
    ")\n",
    "fig.update_layout(showlegend=True)\n",
    "fig.update_layout(legend=dict(\n",
    "    yanchor=\"bottom\",\n",
    "    y=0.78,\n",
    "    xanchor=\"left\",\n",
    "    x=1.01,\n",
    "    bordercolor=\"Black\",\n",
    "    borderwidth=1\n",
    "))\n",
    "\n",
    "\n",
    "\n",
    "fig.update_xaxes(showgrid=False, gridwidth=0.5, gridcolor='#e3e1e1')\n",
    "fig.update_yaxes(showgrid=False, gridwidth=0.5, gridcolor='grey')\n",
    "fig.update_traces(marker_line_color='black', marker_line_width=1.5, opacity=1.0)\n",
    "\n",
    "\n",
    "\n",
    "fig.show()"
   ]
  },
  {
   "cell_type": "code",
   "execution_count": null,
   "id": "e532df49-5de0-4f96-aadb-c9fa4877a7aa",
   "metadata": {},
   "outputs": [],
   "source": []
  }
 ],
 "metadata": {
  "kernelspec": {
   "display_name": "Python 3 (ipykernel)",
   "language": "python",
   "name": "python3"
  },
  "language_info": {
   "codemirror_mode": {
    "name": "ipython",
    "version": 3
   },
   "file_extension": ".py",
   "mimetype": "text/x-python",
   "name": "python",
   "nbconvert_exporter": "python",
   "pygments_lexer": "ipython3",
   "version": "3.11.5"
  }
 },
 "nbformat": 4,
 "nbformat_minor": 5
}
